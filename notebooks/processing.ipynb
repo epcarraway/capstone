{
 "cells": [
  {
   "cell_type": "code",
   "execution_count": 1,
   "metadata": {},
   "outputs": [
    {
     "data": {
      "text/html": [
       "        <script type=\"text/javascript\">\n",
       "        window.PlotlyConfig = {MathJaxConfig: 'local'};\n",
       "        if (window.MathJax) {MathJax.Hub.Config({SVG: {font: \"STIX-Web\"}});}\n",
       "        if (typeof require !== 'undefined') {\n",
       "        require.undef(\"plotly\");\n",
       "        requirejs.config({\n",
       "            paths: {\n",
       "                'plotly': ['https://cdn.plot.ly/plotly-latest.min']\n",
       "            }\n",
       "        });\n",
       "        require(['plotly'], function(Plotly) {\n",
       "            window._Plotly = Plotly;\n",
       "        });\n",
       "        }\n",
       "        </script>\n",
       "        "
      ]
     },
     "metadata": {},
     "output_type": "display_data"
    },
    {
     "data": {
      "text/html": [
       "<script>\n",
       "code_show=true; \n",
       "function code_toggle() {\n",
       " if (code_show){\n",
       " $('div.input').hide();\n",
       " } else {\n",
       " $('div.input').show();\n",
       " }\n",
       " code_show = !code_show\n",
       "} \n",
       "$( document ).ready(code_toggle);\n",
       "</script>\n",
       "<form action=\"javascript:code_toggle()\"><input type=\"submit\" value=\"Click here to toggle on/off the raw code.\"></form>"
      ],
      "text/plain": [
       "<IPython.core.display.HTML object>"
      ]
     },
     "execution_count": 1,
     "metadata": {},
     "output_type": "execute_result"
    }
   ],
   "source": [
    "# Import modules\n",
    "import azure.cosmos.cosmos_client as cosmos_client\n",
    "from azure.storage.blob import BlobServiceClient\n",
    "from datetime import datetime\n",
    "from datetime import timedelta\n",
    "from bs4 import BeautifulSoup\n",
    "from nltk.corpus import stopwords\n",
    "import os\n",
    "import re\n",
    "import json\n",
    "import sys\n",
    "import requests\n",
    "import socket\n",
    "import time\n",
    "import pickle\n",
    "import calendar\n",
    "import Levenshtein as lev\n",
    "import country_converter as coco\n",
    "import pandas as pd\n",
    "import numpy as np\n",
    "import matplotlib.pyplot as plt\n",
    "from matplotlib.colors import ColorConverter, ListedColormap\n",
    "from matplotlib.patches import Polygon\n",
    "from dateutil.relativedelta import relativedelta\n",
    "import plotly.express as px\n",
    "import plotly\n",
    "import plotly.graph_objs as go\n",
    "plotly.offline.init_notebook_mode(connected=True)\n",
    "from IPython.display import display, HTML\n",
    "import warnings\n",
    "warnings.simplefilter(action='ignore', category=FutureWarning)\n",
    "\n",
    "# Get local folder and add project folder to PATH\n",
    "start_time = time.time()\n",
    "workingdir = os.getcwd()\n",
    "parentdir = os.path.dirname(workingdir)\n",
    "sys.path.insert(0, parentdir)\n",
    "\n",
    "# Import custom modules\n",
    "from utils.visualizations import piecols, stackplots, lineplots, logplots, calmap, \\\n",
    "    range_cal_plot, custom_sunburst, polar_day_month, lines_and_stacks\n",
    "from utils.processing import calcHours, fixCategory, cleanDescription, createSearch, createURL, \\\n",
    "    websiteSource, combine_cat, clean_text, diff_ratio, create_classifier_examples\n",
    "from utils.classifiers import load_model\n",
    "\n",
    "# Demo flag. Set to False to turn on/off additional feedback\n",
    "demo = False\n",
    "\n",
    "# Hides code in HTML output\n",
    "if demo == True:\n",
    "    HTML('''<script>\n",
    "    code_show=true; \n",
    "    function code_toggle() {\n",
    "     if (code_show){\n",
    "     $('div.input').hide();\n",
    "     } else {\n",
    "     $('div.input').show();\n",
    "     }\n",
    "     code_show = !code_show\n",
    "    } \n",
    "    $( document ).ready(code_toggle);\n",
    "    </script>\n",
    "    <form action=\"javascript:code_toggle()\"><input type=\"submit\" value=\"Click here to toggle on/off the raw code.\"></form>''')"
   ]
  },
  {
   "cell_type": "code",
   "execution_count": null,
   "metadata": {
    "code_folding": []
   },
   "outputs": [],
   "source": [
    "# Set cutoff date for query\n",
    "olddtg = (datetime.now() + timedelta(days=-3650)).strftime(\"%Y-%m-%d %H:%M:%S\")\n",
    "futuredtg = (datetime.now() + timedelta(days=365)).strftime(\"%Y-%m-%d %H:%M:%S\")\n",
    "\n",
    "# Query these items in SQL\n",
    "query = {'query': 'SELECT * \\\n",
    "        FROM server s WHERE s.endDate >= \"' + olddtg + '\" AND s.endDate <= \"' + futuredtg + '\" AND s.latitude <> \"\" AND \\\n",
    "        CONTAINS(s.scriptname, \"_detailed.py\") \\\n",
    "        ORDER BY s.dtg DESC'}\n",
    "\n",
    "# load configuration json and establish connection to CosmosDB\n",
    "client = cosmos_client.CosmosClient(url_connection=os.environ['AZURE_COSMOS_ENDPOINT'].replace('-', '='), auth={\n",
    "                                    'masterKey': os.environ['AZURE_COSMOS_MASTER_KEY'].replace('-', '=')})\n",
    "\n",
    "options = {}\n",
    "options['enableCrossPartitionQuery'] = True\n",
    "options['maxItemCount'] = -1\n",
    "options['MaxDegreeOfParallelism'] = -1\n",
    "\n",
    "# Execute query and iterate over results\n",
    "print('Fetching data from Cosmos DB')\n",
    "result_iterable = client.QueryItems(\n",
    "    os.environ['AZURE_COSMOS_CONTAINER_PATH'].replace('-', '='), query, options)\n",
    "resultlist = []\n",
    "t1 = 0\n",
    "for item in iter(result_iterable):\n",
    "    try:\n",
    "        resultlist += [item]\n",
    "        t1 += 1\n",
    "        if t1 % 10000 == 0:\n",
    "            elapsed_time = int(time.time() - start_time)\n",
    "            print(str(t1) + ' records retrieved... ' +\n",
    "                  str(elapsed_time) + ' seconds elapsed.')\n",
    "    except Exception:\n",
    "        pass\n",
    "print(str(len(resultlist)) +\n",
    "      ' results retrieved from Cosmos DB detailed')\n",
    "event_search = resultlist.copy()\n",
    "\n",
    "# Convert results dictionary to dataframe\n",
    "df = pd.DataFrame(event_search)\n",
    "print(str(len(df)) + ' rows in converted dataframe. Processing results into best merged answer...')\n",
    "\n",
    "# Drop non-conference events\n",
    "df['name'] = df['name'].fillna('')\n",
    "blacklist = [' 101',\n",
    "            ' camp ',\n",
    "            ' overview',\n",
    "            '(online)',\n",
    "            'beginner',\n",
    "            'bootcamp',\n",
    "            'breakfast',\n",
    "            'certification',\n",
    "            'certified',\n",
    "            'class',\n",
    "            'collaboration session',\n",
    "            'course',\n",
    "            'deep dive',\n",
    "            'dinner',\n",
    "            'friday',\n",
    "            'fundamentals',\n",
    "            'hack night',\n",
    "            'hackathon',\n",
    "            'hands-on',\n",
    "            'happy hour',\n",
    "            'how to ',\n",
    "            'Intro to ',\n",
    "            'introduction',\n",
    "            'lecture',\n",
    "            'lightning talk',\n",
    "            'lunch',\n",
    "            'meetup',\n",
    "            'meet-up',\n",
    "            'monday',\n",
    "            'monthly',\n",
    "            'networking event',\n",
    "            'pitch night',\n",
    "            'saturday',\n",
    "            'small group',\n",
    "            'social night',\n",
    "            'study group',\n",
    "            'study night',\n",
    "            'sunday',\n",
    "            'tbd',\n",
    "            'thursday',\n",
    "            'training',\n",
    "            'tuesday',\n",
    "            'wednesday',\n",
    "            'workshop']\n",
    "\n",
    "for i in blacklist:\n",
    "    df = df[-df['name'].str.lower().str.contains(i)].copy()\n",
    "\n",
    "# Filter to raw data\n",
    "df_both = df[['name', 'startDate', 'endDate', 'description', 'category', 'eventurl', 'organizer',\n",
    "             'venuename', 'streetAddress', 'locality', 'region', 'country', 'zipcode', 'latitude', \n",
    "             'longitude', 'dtg', 'scriptname']].copy()\n",
    "\n",
    "# Normalize lat/longs\n",
    "df_both['latitude'] = df_both['latitude'].apply(lambda x: round(float(x), 6))\n",
    "df_both['longitude'] = df_both['longitude'].apply(lambda x: round(float(x), 6))\n",
    "\n",
    "# Create search/URL fields\n",
    "df_both['contourURL'] = df_both.apply(createURL, axis=1)\n",
    "df_both['category'] = df_both.apply(fixCategory, axis=1)\n",
    "\n",
    "# Finish preparing combined dataframe\n",
    "df_both['country_name'] = coco.convert(\n",
    "    df_both['country'].tolist(), to='name_short', not_found=None)\n",
    "df_both['contourURL'] = df_both.apply(createURL, axis=1)\n",
    "df_both['category'] = df_both.apply(fixCategory, axis=1)\n",
    "df_both['hours'] = df_both.apply(calcHours, axis=1)\n",
    "df_both['country'] = df_both['country'].apply(lambda x: str(x))\n",
    "df_both = df_both[(df_both['country'].str.len() == 2)].copy()\n",
    "\n",
    "# Deduplicate results\n",
    "df_both.sort_values(by=['dtg'], ascending=False, inplace=True)\n",
    "df_both.drop_duplicates(subset=['name', 'scriptname', 'latitude', 'longitude', 'startDate'], inplace=True)\n",
    "df_both.drop_duplicates(subset=['contourURL'], inplace=True)\n",
    "print(str(len(df_both)) + ' records in merged DataFrame')\n",
    "for i1 in range(2):\n",
    "    # Extract and index match columns\n",
    "    df1 = df_both[['contourURL', 'name', 'startDate', 'country', 'latitude', 'longitude']].set_index(['startDate', 'country']).copy()\n",
    "    df2 = df_both[['contourURL', 'name', 'startDate', 'country', 'latitude', 'longitude']].set_index(['startDate', 'country']).copy()\n",
    "    df2.columns = ['contourURL2', 'name2', 'latitude2', 'longitude2']\n",
    "    # Join and find distance / date / country matches\n",
    "    dfj1 = df1.join(df2)\n",
    "    dfj1 = dfj1[dfj1['contourURL'] != dfj1['contourURL2']]\n",
    "    dfj1 = dfj1[((dfj1['latitude'] - dfj1['latitude2'])**2 +\n",
    "                (dfj1['longitude'] - dfj1['longitude2'])**2)**0.5 < 0.01].copy()\n",
    "    # Filter possible matches by string similarity\n",
    "    dfj1['diff'] = dfj1.apply(diff_ratio, axis=1)\n",
    "    dfj1a = dfj1[dfj1['diff'] >= .9].copy()\n",
    "    # Join and find distance / date / country matches\n",
    "    dfj1 = df1.join(df2)\n",
    "    dfj1 = dfj1[dfj1['contourURL'] != dfj1['contourURL2']]\n",
    "    dfj1 = dfj1[((dfj1['latitude'] - dfj1['latitude2'])**2 +\n",
    "                (dfj1['longitude'] - dfj1['longitude2'])**2)**0.5 < 0.1].copy()\n",
    "    # Filter possible matches by string similarity\n",
    "    dfj1['diff'] = dfj1.apply(diff_ratio, axis=1)\n",
    "    dfj1b = dfj1[dfj1['diff'] >= .95].copy()\n",
    "    # Join and find distance / date / country matches\n",
    "    dfj1 = df1.join(df2)\n",
    "    dfj1 = dfj1[dfj1['contourURL'] != dfj1['contourURL2']]\n",
    "    dfj1 = dfj1[((dfj1['latitude'] - dfj1['latitude2'])**2 +\n",
    "                (dfj1['longitude'] - dfj1['longitude2'])**2)**0.5 < 0.2].copy()\n",
    "    # Filter possible matches by string similarity\n",
    "    dfj1['diff'] = dfj1.apply(diff_ratio, axis=1)\n",
    "    dfj1c = dfj1[dfj1['diff'] >= .999].copy()\n",
    "    dfj1 = pd.concat([dfj1a, dfj1b, dfj1c], ignore_index=True)\n",
    "    dfj1.drop_duplicates(['contourURL', 'contourURL2'], inplace=True)\n",
    "    # Build list of unique pairs\n",
    "    r1 = dfj1['contourURL'].tolist()\n",
    "    r2 = dfj1['contourURL2'].tolist()\n",
    "    s1 = []\n",
    "    s2 = []\n",
    "    for i, j in zip(r1, r2):\n",
    "        if j not in s1 and i not in s2:\n",
    "            s1 += [i]\n",
    "            s2 += [j]\n",
    "    print(str(len(s1)) + ' duplicates found...')\n",
    "    alldupes = list(set(s1 + s2))\n",
    "    print(str(len(alldupes)) + ' unique event URLs found in dupes...')\n",
    "    df_both_sub = df_both[df_both['contourURL'].isin(alldupes)].copy()\n",
    "    df_both_none = df_both[~df_both['contourURL'].isin(alldupes)].copy()\n",
    "    print(str(len(df_both_none)) + ' non-duped rows.')\n",
    "    print(str(len(df_both_sub)) + ' duped rows to merge.')\n",
    "    merged = []\n",
    "    tc = 0\n",
    "    # Iterate through match pairs and combine column values\n",
    "    for i, j in zip(s1, s2):\n",
    "        tc += 1\n",
    "        dfi = df_both_sub[df_both_sub['contourURL'] == i].head(1).copy()\n",
    "        dfj = df_both_sub[df_both_sub['contourURL'] == j].head(1).copy()\n",
    "        if len(dfi) > 0 and len(dfj) > 0:\n",
    "            if tc % 1000:\n",
    "                print(tc, ' | ', dfi['name'].values[0], ' | ', dfj['name'].values[0])\n",
    "            if len(str(dfi['streetAddress'].values[0])) > len(str(dfj['streetAddress'].values[0])):\n",
    "                dfj['latitude'] = dfi['latitude'].values[0]\n",
    "                dfj['longitude'] = dfi['longitude'].values[0]\n",
    "            else:\n",
    "                dfi['latitude'] = dfj['latitude'].values[0]\n",
    "                dfi['longitude'] = dfj['longitude'].values[0]\n",
    "            dfi['category'] = '|'.join(filter(None, list(set(\n",
    "                dfi['category'].values[0].split('|') + dfj['category'].values[0].split('|')))))\n",
    "            dfj['category'] = dfi['category'].values[0]\n",
    "            for col in dfi.columns:\n",
    "                if len(str(dfi[col].values[0])) > len(str(dfj[col].values[0])):\n",
    "                    dfj[col] = dfi[col].values[0]\n",
    "                else:\n",
    "                    dfi[col] = dfj[col].values[0]\n",
    "            dfi['contourURL'] = i\n",
    "            dfj['contourURL'] = j\n",
    "            merged += [dfi.copy(), dfj.copy()]\n",
    "    df_both = pd.concat([df_both_none] + merged, ignore_index=True)\n",
    "    # Drop duplicate values\n",
    "    print(str(len(df_both)) + ' records before fuzzy aggregation')\n",
    "    df_both.drop_duplicates(subset=\"eventurl\", inplace=True)\n",
    "    print(str(len(df_both)) + ' records after fuzzy aggregation')\n",
    "\n",
    "# Clean description\n",
    "print('Applying processing to descriptions...')\n",
    "df_both['description'] = df_both.apply(cleanDescription, axis=1)\n",
    "\n",
    "# Select model for categorization\n",
    "model, vectorizer = load_model()\n",
    "\n",
    "# Predict category\n",
    "df_both['old_category'] = df_both['category']\n",
    "df_both['new_category'] = model.predict(vectorizer.transform(\n",
    "    (df_both['name'] + ' ' + df_both['description']).apply(clean_text)))\n",
    "df_both['new_category_proba'] = [max(p) for p in model.predict_proba(vectorizer.transform(\n",
    "    (df_both['name'] + ' ' + df_both['description']).apply(clean_text)))]\n",
    "\n",
    "# Drop low probability predictions\n",
    "df_both.loc[df_both.new_category_proba < .25, \"new_category\"] = \"\"\n",
    "df_both.loc[df_both.description.str.len() < 20, \"new_category\"] = \"\"\n",
    "\n",
    "# Append new predictions\n",
    "df_both['category'] = df_both.apply(combine_cat, axis=1)\n",
    "\n",
    "# Add search string\n",
    "df_both['search'] = df_both.apply(createSearch, axis=1)\n",
    "\n",
    "# Drop duplicate values\n",
    "df_both.drop_duplicates(subset=\"eventurl\", inplace=True)\n",
    "df_both.drop_duplicates(subset=\"contourURL\", inplace=True)\n",
    "\n",
    "# Create additional feature columns\n",
    "df_both['year'] = df_both['startDate'].apply(lambda x: int(str(x)[0:4]))\n",
    "df_both['days'] = (df_both.hours / 8).astype(int)\n",
    "df_both['site'] = df_both.eventurl.apply(lambda x: websiteSource(x))\n",
    "df_both['month'] = df_both.startDate.apply(lambda x: calendar.month_name[int(x.split('-')[1])])\n",
    "df_both['day'] = df_both.startDate.apply(lambda x: calendar.day_name[datetime.strptime(x,\"%Y-%m-%d %H:%M:%S\").weekday()])\n",
    "print(str(len(df_both)) + ' combined rows in dataframe.')"
   ]
  },
  {
   "cell_type": "code",
   "execution_count": null,
   "metadata": {},
   "outputs": [],
   "source": [
    "# Serialize dataframe using pickle\n",
    "pickle.dump(df_both, open(\"df_both.p\", \"wb\"))"
   ]
  },
  {
   "cell_type": "code",
   "execution_count": 2,
   "metadata": {},
   "outputs": [],
   "source": [
    "file = open(\"df_both.p\", 'rb')\n",
    "df_both = pickle.load(file)\n",
    "file.close()"
   ]
  },
  {
   "cell_type": "code",
   "execution_count": 4,
   "metadata": {},
   "outputs": [
    {
     "data": {
      "text/html": [
       "<div>\n",
       "<style scoped>\n",
       "    .dataframe tbody tr th:only-of-type {\n",
       "        vertical-align: middle;\n",
       "    }\n",
       "\n",
       "    .dataframe tbody tr th {\n",
       "        vertical-align: top;\n",
       "    }\n",
       "\n",
       "    .dataframe thead th {\n",
       "        text-align: right;\n",
       "    }\n",
       "</style>\n",
       "<table border=\"1\" class=\"dataframe\">\n",
       "  <thead>\n",
       "    <tr style=\"text-align: right;\">\n",
       "      <th></th>\n",
       "      <th>name</th>\n",
       "      <th>startDate</th>\n",
       "      <th>endDate</th>\n",
       "      <th>description</th>\n",
       "      <th>category</th>\n",
       "      <th>eventurl</th>\n",
       "      <th>organizer</th>\n",
       "      <th>venuename</th>\n",
       "      <th>streetAddress</th>\n",
       "      <th>locality</th>\n",
       "      <th>...</th>\n",
       "      <th>hours</th>\n",
       "      <th>old_category</th>\n",
       "      <th>new_category</th>\n",
       "      <th>new_category_proba</th>\n",
       "      <th>search</th>\n",
       "      <th>year</th>\n",
       "      <th>days</th>\n",
       "      <th>site</th>\n",
       "      <th>month</th>\n",
       "      <th>day</th>\n",
       "    </tr>\n",
       "  </thead>\n",
       "  <tbody>\n",
       "    <tr>\n",
       "      <td>0</td>\n",
       "      <td>Confare CIO Summit</td>\n",
       "      <td>2020-09-02 00:00:00</td>\n",
       "      <td>2020-09-03 00:00:00</td>\n",
       "      <td>Confare CIO Summit is and remains Austria's la...</td>\n",
       "      <td></td>\n",
       "      <td>https://10times.com/confare-cio-summit-vienna</td>\n",
       "      <td>Confare GmbH Austria</td>\n",
       "      <td>MBG Metastadt BetriebsgmbH</td>\n",
       "      <td>-Otto-Neurath-Gasse, Dr.-Otto-Neurath-Gasse 3,...</td>\n",
       "      <td>Vienna</td>\n",
       "      <td>...</td>\n",
       "      <td>16</td>\n",
       "      <td></td>\n",
       "      <td></td>\n",
       "      <td>0.162771</td>\n",
       "      <td>confare cio summit 2020-09-02 00:00:00 2020-09...</td>\n",
       "      <td>2020</td>\n",
       "      <td>2</td>\n",
       "      <td>10times.com</td>\n",
       "      <td>September</td>\n",
       "      <td>Wednesday</td>\n",
       "    </tr>\n",
       "    <tr>\n",
       "      <td>1</td>\n",
       "      <td>International Conference on Computational Inte...</td>\n",
       "      <td>2020-11-13 00:00:00</td>\n",
       "      <td>2020-11-15 00:00:00</td>\n",
       "      <td>2020 The 3rd International Conference on Compu...</td>\n",
       "      <td>IoT</td>\n",
       "      <td>https://10times.com/ciis-tokyo</td>\n",
       "      <td>Science and Engineering Institute(SCIEI)</td>\n",
       "      <td>Waseda Univ. International Conference Center</td>\n",
       "      <td>1 Chome-20-14 Nishiwaseda, 新宿区 Shinjuku-ku, Tō...</td>\n",
       "      <td>Tokyo</td>\n",
       "      <td>...</td>\n",
       "      <td>24</td>\n",
       "      <td></td>\n",
       "      <td>IoT</td>\n",
       "      <td>0.428497</td>\n",
       "      <td>international conference on computational inte...</td>\n",
       "      <td>2020</td>\n",
       "      <td>3</td>\n",
       "      <td>10times.com</td>\n",
       "      <td>November</td>\n",
       "      <td>Friday</td>\n",
       "    </tr>\n",
       "    <tr>\n",
       "      <td>2</td>\n",
       "      <td>Meet Magento Singapore</td>\n",
       "      <td>2020-09-20 00:00:00</td>\n",
       "      <td>2020-09-20 00:00:00</td>\n",
       "      <td>Meet Magento Singapore event provides a great ...</td>\n",
       "      <td></td>\n",
       "      <td>https://10times.com/mmsg</td>\n",
       "      <td>Ranosys Technologies Pte Ltd Singapore</td>\n",
       "      <td>NaN</td>\n",
       "      <td>NaN</td>\n",
       "      <td>Singapore</td>\n",
       "      <td>...</td>\n",
       "      <td>8</td>\n",
       "      <td></td>\n",
       "      <td></td>\n",
       "      <td>0.130481</td>\n",
       "      <td>meet magento singapore 2020-09-20 00:00:00 202...</td>\n",
       "      <td>2020</td>\n",
       "      <td>1</td>\n",
       "      <td>10times.com</td>\n",
       "      <td>September</td>\n",
       "      <td>Sunday</td>\n",
       "    </tr>\n",
       "    <tr>\n",
       "      <td>3</td>\n",
       "      <td>Delivery Conference</td>\n",
       "      <td>2021-02-02 00:00:00</td>\n",
       "      <td>2021-02-02 00:00:00</td>\n",
       "      <td>Delivery Conference is a must-attend event for...</td>\n",
       "      <td></td>\n",
       "      <td>https://10times.com/delivery</td>\n",
       "      <td>METAPACK</td>\n",
       "      <td>NaN</td>\n",
       "      <td>NaN</td>\n",
       "      <td>London</td>\n",
       "      <td>...</td>\n",
       "      <td>8</td>\n",
       "      <td></td>\n",
       "      <td></td>\n",
       "      <td>0.157222</td>\n",
       "      <td>delivery conference 2021-02-02 00:00:00 2021-0...</td>\n",
       "      <td>2021</td>\n",
       "      <td>1</td>\n",
       "      <td>10times.com</td>\n",
       "      <td>February</td>\n",
       "      <td>Tuesday</td>\n",
       "    </tr>\n",
       "    <tr>\n",
       "      <td>4</td>\n",
       "      <td>Congress of the Mexican Society for Operations...</td>\n",
       "      <td>2020-10-14 00:00:00</td>\n",
       "      <td>2020-10-16 00:00:00</td>\n",
       "      <td>Congress of the Mexican Society for Operations...</td>\n",
       "      <td></td>\n",
       "      <td>https://10times.com/csmio-aguascalientes</td>\n",
       "      <td>Center for Research in Mathematics Mexico</td>\n",
       "      <td>Gran Hotel Alameda</td>\n",
       "      <td>Antigua Alameda #821, Héroes, 20190 Aguascalie...</td>\n",
       "      <td>Aguascalientes</td>\n",
       "      <td>...</td>\n",
       "      <td>24</td>\n",
       "      <td></td>\n",
       "      <td></td>\n",
       "      <td>0.190761</td>\n",
       "      <td>congress of the mexican society for operations...</td>\n",
       "      <td>2020</td>\n",
       "      <td>3</td>\n",
       "      <td>10times.com</td>\n",
       "      <td>October</td>\n",
       "      <td>Wednesday</td>\n",
       "    </tr>\n",
       "  </tbody>\n",
       "</table>\n",
       "<p>5 rows × 29 columns</p>\n",
       "</div>"
      ],
      "text/plain": [
       "                                                name            startDate  \\\n",
       "0                                 Confare CIO Summit  2020-09-02 00:00:00   \n",
       "1  International Conference on Computational Inte...  2020-11-13 00:00:00   \n",
       "2                             Meet Magento Singapore  2020-09-20 00:00:00   \n",
       "3                                Delivery Conference  2021-02-02 00:00:00   \n",
       "4  Congress of the Mexican Society for Operations...  2020-10-14 00:00:00   \n",
       "\n",
       "               endDate                                        description  \\\n",
       "0  2020-09-03 00:00:00  Confare CIO Summit is and remains Austria's la...   \n",
       "1  2020-11-15 00:00:00  2020 The 3rd International Conference on Compu...   \n",
       "2  2020-09-20 00:00:00  Meet Magento Singapore event provides a great ...   \n",
       "3  2021-02-02 00:00:00  Delivery Conference is a must-attend event for...   \n",
       "4  2020-10-16 00:00:00  Congress of the Mexican Society for Operations...   \n",
       "\n",
       "  category                                       eventurl  \\\n",
       "0           https://10times.com/confare-cio-summit-vienna   \n",
       "1      IoT                 https://10times.com/ciis-tokyo   \n",
       "2                                https://10times.com/mmsg   \n",
       "3                            https://10times.com/delivery   \n",
       "4                https://10times.com/csmio-aguascalientes   \n",
       "\n",
       "                                   organizer  \\\n",
       "0                       Confare GmbH Austria   \n",
       "1   Science and Engineering Institute(SCIEI)   \n",
       "2     Ranosys Technologies Pte Ltd Singapore   \n",
       "3                                   METAPACK   \n",
       "4  Center for Research in Mathematics Mexico   \n",
       "\n",
       "                                      venuename  \\\n",
       "0                    MBG Metastadt BetriebsgmbH   \n",
       "1  Waseda Univ. International Conference Center   \n",
       "2                                           NaN   \n",
       "3                                           NaN   \n",
       "4                            Gran Hotel Alameda   \n",
       "\n",
       "                                       streetAddress        locality  ...  \\\n",
       "0  -Otto-Neurath-Gasse, Dr.-Otto-Neurath-Gasse 3,...          Vienna  ...   \n",
       "1  1 Chome-20-14 Nishiwaseda, 新宿区 Shinjuku-ku, Tō...           Tokyo  ...   \n",
       "2                                                NaN       Singapore  ...   \n",
       "3                                                NaN          London  ...   \n",
       "4  Antigua Alameda #821, Héroes, 20190 Aguascalie...  Aguascalientes  ...   \n",
       "\n",
       "  hours old_category new_category  new_category_proba  \\\n",
       "0    16                                      0.162771   \n",
       "1    24                       IoT            0.428497   \n",
       "2     8                                      0.130481   \n",
       "3     8                                      0.157222   \n",
       "4    24                                      0.190761   \n",
       "\n",
       "                                              search  year days         site  \\\n",
       "0  confare cio summit 2020-09-02 00:00:00 2020-09...  2020    2  10times.com   \n",
       "1  international conference on computational inte...  2020    3  10times.com   \n",
       "2  meet magento singapore 2020-09-20 00:00:00 202...  2020    1  10times.com   \n",
       "3  delivery conference 2021-02-02 00:00:00 2021-0...  2021    1  10times.com   \n",
       "4  congress of the mexican society for operations...  2020    3  10times.com   \n",
       "\n",
       "       month        day  \n",
       "0  September  Wednesday  \n",
       "1   November     Friday  \n",
       "2  September     Sunday  \n",
       "3   February    Tuesday  \n",
       "4    October  Wednesday  \n",
       "\n",
       "[5 rows x 29 columns]"
      ]
     },
     "execution_count": 4,
     "metadata": {},
     "output_type": "execute_result"
    }
   ],
   "source": [
    "df_both.head()"
   ]
  },
  {
   "cell_type": "code",
   "execution_count": 5,
   "metadata": {},
   "outputs": [
    {
     "data": {
      "application/vnd.plotly.v1+json": {
       "config": {
        "linkText": "Export to plot.ly",
        "plotlyServerURL": "https://plot.ly",
        "showLink": false
       },
       "data": [
        {
         "domain": {
          "column": 0,
          "row": 0
         },
         "hole": 0.5,
         "hoverinfo": "label+percent+value",
         "insidetextorientation": "radial",
         "labels": [
          "IoT",
          "Security",
          "Blockchain",
          "AI/ML",
          "JavaScript",
          "Cloud",
          "Data Science",
          "UI/UX",
          "Agile",
          "Web"
         ],
         "marker": {
          "colors": [
           "#48c9b0",
           "#5499c7",
           "#ec7063",
           "#cd6155",
           "#82FFAB",
           "#FFC300",
           "#f39c12",
           "#e74c3c",
           "#8e44ad",
           "#16a085",
           "#27ae60",
           "#d35400",
           "#48c9b0",
           "#5499c7",
           "#ec7063",
           "#cd6155",
           "#82FFAB",
           "#FFC300",
           "#f39c12",
           "#e74c3c",
           "#8e44ad",
           "#16a085",
           "#27ae60",
           "#d35400"
          ],
          "line": {
           "color": "#000000",
           "width": 1
          }
         },
         "opacity": 0.8,
         "pull": 0,
         "text": [
          "test"
         ],
         "textfont": {
          "size": 12
         },
         "textinfo": "percent+label",
         "textposition": "inside",
         "title": "Category",
         "type": "pie",
         "values": [
          7131,
          5807,
          5289,
          5264,
          4112,
          3712,
          3659,
          3364,
          3191,
          2940
         ]
        },
        {
         "domain": {
          "column": 1,
          "row": 0
         },
         "hole": 0.5,
         "hoverinfo": "label+percent+value",
         "insidetextorientation": "radial",
         "labels": [
          "1point21gws",
          "1.21GWs",
          "Oracle",
          "AIRCC Publishing Corporation",
          "Researchfora",
          "The Knowledge Transfer Network",
          "Institute For Innovative and Academic Development",
          "CDM Media",
          "Data Connectors",
          "Gartner Inc."
         ],
         "marker": {
          "colors": [
           "#48c9b0",
           "#5499c7",
           "#ec7063",
           "#cd6155",
           "#82FFAB",
           "#FFC300",
           "#f39c12",
           "#e74c3c",
           "#8e44ad",
           "#16a085",
           "#27ae60",
           "#d35400",
           "#48c9b0",
           "#5499c7",
           "#ec7063",
           "#cd6155",
           "#82FFAB",
           "#FFC300",
           "#f39c12",
           "#e74c3c",
           "#8e44ad",
           "#16a085",
           "#27ae60",
           "#d35400"
          ],
          "line": {
           "color": "#000000",
           "width": 1
          }
         },
         "opacity": 0.8,
         "pull": 0,
         "text": [
          "test"
         ],
         "textfont": {
          "size": 12
         },
         "textinfo": "percent+label",
         "textposition": "inside",
         "title": "Organizer",
         "type": "pie",
         "values": [
          185,
          134,
          101,
          80,
          78,
          77,
          73,
          66,
          64,
          62
         ]
        },
        {
         "domain": {
          "column": 0,
          "row": 1
         },
         "hole": 0.5,
         "hoverinfo": "label+percent+value",
         "insidetextorientation": "radial",
         "labels": [
          "Microsoft",
          "WeWork",
          "Galvanize",
          "ThoughtWorks",
          "BCS, The Chartered Institute for IT",
          "Capital Factory",
          "Improving",
          "Makespace classroom",
          "Microsoft Reactor",
          "Codesmith"
         ],
         "marker": {
          "colors": [
           "#48c9b0",
           "#5499c7",
           "#ec7063",
           "#cd6155",
           "#82FFAB",
           "#FFC300",
           "#f39c12",
           "#e74c3c",
           "#8e44ad",
           "#16a085",
           "#27ae60",
           "#d35400",
           "#48c9b0",
           "#5499c7",
           "#ec7063",
           "#cd6155",
           "#82FFAB",
           "#FFC300",
           "#f39c12",
           "#e74c3c",
           "#8e44ad",
           "#16a085",
           "#27ae60",
           "#d35400"
          ],
          "line": {
           "color": "#000000",
           "width": 1
          }
         },
         "opacity": 0.8,
         "pull": 0,
         "text": [
          "test"
         ],
         "textfont": {
          "size": 12
         },
         "textinfo": "percent+label",
         "textposition": "inside",
         "title": "Venuename",
         "type": "pie",
         "values": [
          486,
          430,
          365,
          258,
          202,
          186,
          177,
          172,
          161,
          157
         ]
        },
        {
         "domain": {
          "column": 1,
          "row": 1
         },
         "hole": 0.5,
         "hoverinfo": "label+percent+value",
         "insidetextorientation": "radial",
         "labels": [
          "eventil.com",
          "10times.com",
          "eventbrite.com",
          "infosec-conferences.com",
          "tulu.la",
          "meetup.com",
          "waset.org",
          "allevents.in",
          "eventsinamerica.com",
          "facebook.com"
         ],
         "marker": {
          "colors": [
           "#48c9b0",
           "#5499c7",
           "#ec7063",
           "#cd6155",
           "#82FFAB",
           "#FFC300",
           "#f39c12",
           "#e74c3c",
           "#8e44ad",
           "#16a085",
           "#27ae60",
           "#d35400",
           "#48c9b0",
           "#5499c7",
           "#ec7063",
           "#cd6155",
           "#82FFAB",
           "#FFC300",
           "#f39c12",
           "#e74c3c",
           "#8e44ad",
           "#16a085",
           "#27ae60",
           "#d35400"
          ],
          "line": {
           "color": "#000000",
           "width": 1
          }
         },
         "opacity": 0.8,
         "pull": 0,
         "text": [
          "test"
         ],
         "textfont": {
          "size": 12
         },
         "textinfo": "percent+label",
         "textposition": "inside",
         "title": "Site",
         "type": "pie",
         "values": [
          121301,
          17147,
          6893,
          5590,
          2941,
          62,
          40,
          31,
          30,
          30
         ]
        },
        {
         "domain": {
          "column": 0,
          "row": 2
         },
         "hole": 0.5,
         "hoverinfo": "label+percent+value",
         "insidetextorientation": "radial",
         "labels": [
          "1",
          "2",
          "3",
          "4",
          "5",
          "6",
          "7",
          "8",
          "9",
          "10"
         ],
         "marker": {
          "colors": [
           "#48c9b0",
           "#5499c7",
           "#ec7063",
           "#cd6155",
           "#82FFAB",
           "#FFC300",
           "#f39c12",
           "#e74c3c",
           "#8e44ad",
           "#16a085",
           "#27ae60",
           "#d35400",
           "#48c9b0",
           "#5499c7",
           "#ec7063",
           "#cd6155",
           "#82FFAB",
           "#FFC300",
           "#f39c12",
           "#e74c3c",
           "#8e44ad",
           "#16a085",
           "#27ae60",
           "#d35400"
          ],
          "line": {
           "color": "#000000",
           "width": 1
          }
         },
         "opacity": 0.8,
         "pull": 0,
         "text": [
          "test"
         ],
         "textfont": {
          "size": 12
         },
         "textinfo": "percent+label",
         "textposition": "inside",
         "title": "Days",
         "type": "pie",
         "values": [
          118804,
          19572,
          9948,
          3463,
          1721,
          761,
          145,
          116,
          28,
          22
         ]
        }
       ],
       "layout": {
        "autosize": true,
        "grid": {
         "columns": 2,
         "rows": 3
        },
        "height": 1500,
        "legend": {
         "orientation": "h"
        },
        "showlegend": false,
        "title": "Events by Top 10 Categories",
        "uniformtext_minsize": 10,
        "uniformtext_mode": "hide"
       }
      },
      "text/html": [
       "<div>\n",
       "        \n",
       "        \n",
       "            <div id=\"be06f9b6-56be-4990-8bd5-84fc8f468616\" class=\"plotly-graph-div\" style=\"height:1500px; width:100%;\"></div>\n",
       "            <script type=\"text/javascript\">\n",
       "                require([\"plotly\"], function(Plotly) {\n",
       "                    window.PLOTLYENV=window.PLOTLYENV || {};\n",
       "                    \n",
       "                if (document.getElementById(\"be06f9b6-56be-4990-8bd5-84fc8f468616\")) {\n",
       "                    Plotly.newPlot(\n",
       "                        'be06f9b6-56be-4990-8bd5-84fc8f468616',\n",
       "                        [{\"domain\": {\"column\": 0, \"row\": 0}, \"hole\": 0.5, \"hoverinfo\": \"label+percent+value\", \"insidetextorientation\": \"radial\", \"labels\": [\"IoT\", \"Security\", \"Blockchain\", \"AI/ML\", \"JavaScript\", \"Cloud\", \"Data Science\", \"UI/UX\", \"Agile\", \"Web\"], \"marker\": {\"colors\": [\"#48c9b0\", \"#5499c7\", \"#ec7063\", \"#cd6155\", \"#82FFAB\", \"#FFC300\", \"#f39c12\", \"#e74c3c\", \"#8e44ad\", \"#16a085\", \"#27ae60\", \"#d35400\", \"#48c9b0\", \"#5499c7\", \"#ec7063\", \"#cd6155\", \"#82FFAB\", \"#FFC300\", \"#f39c12\", \"#e74c3c\", \"#8e44ad\", \"#16a085\", \"#27ae60\", \"#d35400\"], \"line\": {\"color\": \"#000000\", \"width\": 1.0}}, \"opacity\": 0.8, \"pull\": 0.0, \"text\": [\"test\"], \"textfont\": {\"size\": 12}, \"textinfo\": \"percent+label\", \"textposition\": \"inside\", \"title\": \"Category\", \"type\": \"pie\", \"values\": [7131, 5807, 5289, 5264, 4112, 3712, 3659, 3364, 3191, 2940]}, {\"domain\": {\"column\": 1, \"row\": 0}, \"hole\": 0.5, \"hoverinfo\": \"label+percent+value\", \"insidetextorientation\": \"radial\", \"labels\": [\"1point21gws\", \"1.21GWs\", \"Oracle\", \"AIRCC Publishing Corporation\", \"Researchfora\", \"The Knowledge Transfer Network\", \"Institute For Innovative and Academic Development\", \"CDM Media\", \"Data Connectors\", \"Gartner Inc.\"], \"marker\": {\"colors\": [\"#48c9b0\", \"#5499c7\", \"#ec7063\", \"#cd6155\", \"#82FFAB\", \"#FFC300\", \"#f39c12\", \"#e74c3c\", \"#8e44ad\", \"#16a085\", \"#27ae60\", \"#d35400\", \"#48c9b0\", \"#5499c7\", \"#ec7063\", \"#cd6155\", \"#82FFAB\", \"#FFC300\", \"#f39c12\", \"#e74c3c\", \"#8e44ad\", \"#16a085\", \"#27ae60\", \"#d35400\"], \"line\": {\"color\": \"#000000\", \"width\": 1.0}}, \"opacity\": 0.8, \"pull\": 0.0, \"text\": [\"test\"], \"textfont\": {\"size\": 12}, \"textinfo\": \"percent+label\", \"textposition\": \"inside\", \"title\": \"Organizer\", \"type\": \"pie\", \"values\": [185, 134, 101, 80, 78, 77, 73, 66, 64, 62]}, {\"domain\": {\"column\": 0, \"row\": 1}, \"hole\": 0.5, \"hoverinfo\": \"label+percent+value\", \"insidetextorientation\": \"radial\", \"labels\": [\"Microsoft\", \"WeWork\", \"Galvanize\", \"ThoughtWorks\", \"BCS, The Chartered Institute for IT\", \"Capital Factory\", \"Improving\", \"Makespace classroom\", \"Microsoft Reactor\", \"Codesmith\"], \"marker\": {\"colors\": [\"#48c9b0\", \"#5499c7\", \"#ec7063\", \"#cd6155\", \"#82FFAB\", \"#FFC300\", \"#f39c12\", \"#e74c3c\", \"#8e44ad\", \"#16a085\", \"#27ae60\", \"#d35400\", \"#48c9b0\", \"#5499c7\", \"#ec7063\", \"#cd6155\", \"#82FFAB\", \"#FFC300\", \"#f39c12\", \"#e74c3c\", \"#8e44ad\", \"#16a085\", \"#27ae60\", \"#d35400\"], \"line\": {\"color\": \"#000000\", \"width\": 1.0}}, \"opacity\": 0.8, \"pull\": 0.0, \"text\": [\"test\"], \"textfont\": {\"size\": 12}, \"textinfo\": \"percent+label\", \"textposition\": \"inside\", \"title\": \"Venuename\", \"type\": \"pie\", \"values\": [486, 430, 365, 258, 202, 186, 177, 172, 161, 157]}, {\"domain\": {\"column\": 1, \"row\": 1}, \"hole\": 0.5, \"hoverinfo\": \"label+percent+value\", \"insidetextorientation\": \"radial\", \"labels\": [\"eventil.com\", \"10times.com\", \"eventbrite.com\", \"infosec-conferences.com\", \"tulu.la\", \"meetup.com\", \"waset.org\", \"allevents.in\", \"eventsinamerica.com\", \"facebook.com\"], \"marker\": {\"colors\": [\"#48c9b0\", \"#5499c7\", \"#ec7063\", \"#cd6155\", \"#82FFAB\", \"#FFC300\", \"#f39c12\", \"#e74c3c\", \"#8e44ad\", \"#16a085\", \"#27ae60\", \"#d35400\", \"#48c9b0\", \"#5499c7\", \"#ec7063\", \"#cd6155\", \"#82FFAB\", \"#FFC300\", \"#f39c12\", \"#e74c3c\", \"#8e44ad\", \"#16a085\", \"#27ae60\", \"#d35400\"], \"line\": {\"color\": \"#000000\", \"width\": 1.0}}, \"opacity\": 0.8, \"pull\": 0.0, \"text\": [\"test\"], \"textfont\": {\"size\": 12}, \"textinfo\": \"percent+label\", \"textposition\": \"inside\", \"title\": \"Site\", \"type\": \"pie\", \"values\": [121301, 17147, 6893, 5590, 2941, 62, 40, 31, 30, 30]}, {\"domain\": {\"column\": 0, \"row\": 2}, \"hole\": 0.5, \"hoverinfo\": \"label+percent+value\", \"insidetextorientation\": \"radial\", \"labels\": [\"1\", \"2\", \"3\", \"4\", \"5\", \"6\", \"7\", \"8\", \"9\", \"10\"], \"marker\": {\"colors\": [\"#48c9b0\", \"#5499c7\", \"#ec7063\", \"#cd6155\", \"#82FFAB\", \"#FFC300\", \"#f39c12\", \"#e74c3c\", \"#8e44ad\", \"#16a085\", \"#27ae60\", \"#d35400\", \"#48c9b0\", \"#5499c7\", \"#ec7063\", \"#cd6155\", \"#82FFAB\", \"#FFC300\", \"#f39c12\", \"#e74c3c\", \"#8e44ad\", \"#16a085\", \"#27ae60\", \"#d35400\"], \"line\": {\"color\": \"#000000\", \"width\": 1.0}}, \"opacity\": 0.8, \"pull\": 0.0, \"text\": [\"test\"], \"textfont\": {\"size\": 12}, \"textinfo\": \"percent+label\", \"textposition\": \"inside\", \"title\": \"Days\", \"type\": \"pie\", \"values\": [118804, 19572, 9948, 3463, 1721, 761, 145, 116, 28, 22]}],\n",
       "                        {\"autosize\": true, \"grid\": {\"columns\": 2, \"rows\": 3}, \"height\": 1500, \"legend\": {\"orientation\": \"h\"}, \"showlegend\": false, \"title\": \"Events by Top 10 Categories\", \"uniformtext_minsize\": 10, \"uniformtext_mode\": \"hide\"},\n",
       "                        {\"responsive\": true}\n",
       "                    ).then(function(){\n",
       "                            \n",
       "var gd = document.getElementById('be06f9b6-56be-4990-8bd5-84fc8f468616');\n",
       "var x = new MutationObserver(function (mutations, observer) {{\n",
       "        var display = window.getComputedStyle(gd).display;\n",
       "        if (!display || display === 'none') {{\n",
       "            console.log([gd, 'removed!']);\n",
       "            Plotly.purge(gd);\n",
       "            observer.disconnect();\n",
       "        }}\n",
       "}});\n",
       "\n",
       "// Listen for the removal of the full notebook cells\n",
       "var notebookContainer = gd.closest('#notebook-container');\n",
       "if (notebookContainer) {{\n",
       "    x.observe(notebookContainer, {childList: true});\n",
       "}}\n",
       "\n",
       "// Listen for the clearing of the current output cell\n",
       "var outputEl = gd.closest('.output');\n",
       "if (outputEl) {{\n",
       "    x.observe(outputEl, {childList: true});\n",
       "}}\n",
       "\n",
       "                        })\n",
       "                };\n",
       "                });\n",
       "            </script>\n",
       "        </div>"
      ]
     },
     "metadata": {},
     "output_type": "display_data"
    }
   ],
   "source": [
    "# Generate pie chart visualizations for different categories\n",
    "piecols(df_both, ['category', 'organizer', 'venuename', 'site', 'days'], 10, div=False)"
   ]
  },
  {
   "cell_type": "code",
   "execution_count": 7,
   "metadata": {},
   "outputs": [
    {
     "name": "stdout",
     "output_type": "stream",
     "text": [
      "Creating chart...\n",
      "Storing results in Cosmos DB...\n",
      "Data stored...\n"
     ]
    }
   ],
   "source": [
    "# Plot distribution of events by weekday and month\n",
    "div = polar_day_month(df_both, div=True)\n",
    "\n",
    "# Create results dictionary\n",
    "savedplots = {}\n",
    "savedplots['dtg'] = datetime.now().strftime(\"%Y-%m-%d %H:%M:%S\")\n",
    "savedplots['chartname'] = 'polar_day_month'\n",
    "\n",
    "# Create stack plot of daily total entries by scriptname in dataset over time\n",
    "print('Creating chart...')\n",
    "try:\n",
    "    savedplots['plotly_html'] = div\n",
    "except Exception:\n",
    "    savedplots['plotly_html'] = ''\n",
    "\n",
    "# Create Cosmos DB client\n",
    "client = cosmos_client.CosmosClient(url_connection=os.environ['AZURE_COSMOS_ENDPOINT'].replace('-', '='), auth={\n",
    "                                    'masterKey': os.environ['AZURE_COSMOS_MASTER_KEY'].replace('-', '=')})\n",
    "\n",
    "# Push plot data dictionary to Cosmos DB\n",
    "if savedplots['plotly_html'] != '':\n",
    "    print('Storing results in Cosmos DB...')\n",
    "    try:\n",
    "        item1 = client.CreateItem(\n",
    "            os.environ['AZURE_COSMOS_CONTAINER_PATH'].replace('-', '='), savedplots)\n",
    "    except Exception:\n",
    "        time.sleep(20)\n",
    "        item1 = client.CreateItem(\n",
    "            os.environ['AZURE_COSMOS_CONTAINER_PATH'].replace('-', '='), savedplots)\n",
    "    print('Data stored...')\n",
    "else:\n",
    "    print('Something went wrong... No data stored...')"
   ]
  },
  {
   "cell_type": "code",
   "execution_count": 8,
   "metadata": {},
   "outputs": [
    {
     "data": {
      "application/vnd.plotly.v1+json": {
       "config": {
        "linkText": "Export to plot.ly",
        "plotlyServerURL": "https://plot.ly",
        "showLink": false
       },
       "data": [
        {
         "branchvalues": "total",
         "domain": {
          "x": [
           0,
           1
          ],
          "y": [
           0,
           1
          ]
         },
         "hoverlabel": {
          "namelength": 0
         },
         "hovertemplate": "%{id}: %{value}",
         "ids": [
          "Netherlands/Noord-Holland/Amsterdam",
          "United States/Georgia/Atlanta",
          "New Zealand/Auckland/Auckland",
          "United States/Texas/Austin",
          "Spain/Catalunya/Barcelona",
          "India/Karnataka/Bengaluru",
          "Germany/Berlin/Berlin",
          "United States/Massachusetts/Boston",
          "United Kingdom/England/Cambridge",
          "United States/Massachusetts/Cambridge",
          "United States/Illinois/Chicago",
          "United Kingdom/England/City of London",
          "Mexico/Ciudad de México/Ciudad de México",
          "United States/Colorado/Denver",
          "United Arab Emirates/Dubai/Dubai",
          "Ireland/County Dublin/Dublin",
          "Germany/Hamburg/Hamburg",
          "United States/Texas/Houston",
          "Poland/małopolskie/Kraków",
          "United States/Nevada/Las Vegas",
          "United Kingdom/England/London",
          "United States/California/Los Angeles",
          "Spain/Comunidad de Madrid/Madrid",
          "United Kingdom/England/Manchester",
          "Australia/Victoria/Melbourne",
          "United States/Minnesota/Minneapolis",
          "Canada/Québec/Montréal",
          "United States/California/Mountain View",
          "Germany/Bayern/München",
          "United States/New York/New York",
          "United States/Florida/Orlando",
          "Norway/Oslo/Oslo",
          "France/Île-de-France/Paris",
          "United States/Pennsylvania/Philadelphia",
          "United States/Oregon/Portland",
          "United States/Virginia/Reston",
          "United States/California/San Diego",
          "United States/California/San Francisco",
          "United States/California/San Jose",
          "United States/California/Santa Clara",
          "United States/Washington/Seattle",
          "Sweden/Stockholms län/Stockholm",
          "Australia/New South Wales/Sydney",
          "Israel/Tel Aviv District/Tel Aviv-Yafo",
          "Canada/Ontario/Toronto",
          "Canada/British Columbia/Vancouver",
          "Poland/mazowieckie/Warszawa",
          "United States/District of Columbia/Washington",
          "Poland/Województwo dolnośląskie/Wrocław",
          "Switzerland/Zürich/Zürich",
          "New Zealand/Auckland",
          "Germany/Bayern",
          "Germany/Berlin",
          "Canada/British Columbia",
          "United States/California",
          "Spain/Catalunya",
          "Mexico/Ciudad de México",
          "United States/Colorado",
          "Spain/Comunidad de Madrid",
          "Ireland/County Dublin",
          "United States/District of Columbia",
          "United Arab Emirates/Dubai",
          "United Kingdom/England",
          "United States/Florida",
          "United States/Georgia",
          "Germany/Hamburg",
          "United States/Illinois",
          "India/Karnataka",
          "United States/Massachusetts",
          "United States/Minnesota",
          "United States/Nevada",
          "Australia/New South Wales",
          "United States/New York",
          "Netherlands/Noord-Holland",
          "Canada/Ontario",
          "United States/Oregon",
          "Norway/Oslo",
          "United States/Pennsylvania",
          "Canada/Québec",
          "Sweden/Stockholms län",
          "Israel/Tel Aviv District",
          "United States/Texas",
          "Australia/Victoria",
          "United States/Virginia",
          "United States/Washington",
          "Poland/Województwo dolnośląskie",
          "Switzerland/Zürich",
          "Poland/mazowieckie",
          "Poland/małopolskie",
          "France/Île-de-France",
          "Australia",
          "Canada",
          "France",
          "Germany",
          "India",
          "Ireland",
          "Israel",
          "Mexico",
          "Netherlands",
          "New Zealand",
          "Norway",
          "Poland",
          "Spain",
          "Sweden",
          "Switzerland",
          "United Arab Emirates",
          "United Kingdom",
          "United States"
         ],
         "insidetextorientation": "radial",
         "labels": [
          "Amsterdam",
          "Atlanta",
          "Auckland",
          "Austin",
          "Barcelona",
          "Bengaluru",
          "Berlin",
          "Boston",
          "Cambridge",
          "Cambridge",
          "Chicago",
          "City of London",
          "Ciudad de México",
          "Denver",
          "Dubai",
          "Dublin",
          "Hamburg",
          "Houston",
          "Kraków",
          "Las Vegas",
          "London",
          "Los Angeles",
          "Madrid",
          "Manchester",
          "Melbourne",
          "Minneapolis",
          "Montréal",
          "Mountain View",
          "München",
          "New York",
          "Orlando",
          "Oslo",
          "Paris",
          "Philadelphia",
          "Portland",
          "Reston",
          "San Diego",
          "San Francisco",
          "San Jose",
          "Santa Clara",
          "Seattle",
          "Stockholm",
          "Sydney",
          "Tel Aviv-Yafo",
          "Toronto",
          "Vancouver",
          "Warszawa",
          "Washington",
          "Wrocław",
          "Zürich",
          "Auckland",
          "Bayern",
          "Berlin",
          "British Columbia",
          "California",
          "Catalunya",
          "Ciudad de México",
          "Colorado",
          "Comunidad de Madrid",
          "County Dublin",
          "District of Columbia",
          "Dubai",
          "England",
          "Florida",
          "Georgia",
          "Hamburg",
          "Illinois",
          "Karnataka",
          "Massachusetts",
          "Minnesota",
          "Nevada",
          "New South Wales",
          "New York",
          "Noord-Holland",
          "Ontario",
          "Oregon",
          "Oslo",
          "Pennsylvania",
          "Québec",
          "Stockholms län",
          "Tel Aviv District",
          "Texas",
          "Victoria",
          "Virginia",
          "Washington",
          "Województwo dolnośląskie",
          "Zürich",
          "mazowieckie",
          "małopolskie",
          "Île-de-France",
          "Australia",
          "Canada",
          "France",
          "Germany",
          "India",
          "Ireland",
          "Israel",
          "Mexico",
          "Netherlands",
          "New Zealand",
          "Norway",
          "Poland",
          "Spain",
          "Sweden",
          "Switzerland",
          "United Arab Emirates",
          "United Kingdom",
          "United States"
         ],
         "marker": {
          "line": {
           "color": "#000000",
           "width": 0.5
          }
         },
         "name": "",
         "parents": [
          "Netherlands/Noord-Holland",
          "United States/Georgia",
          "New Zealand/Auckland",
          "United States/Texas",
          "Spain/Catalunya",
          "India/Karnataka",
          "Germany/Berlin",
          "United States/Massachusetts",
          "United Kingdom/England",
          "United States/Massachusetts",
          "United States/Illinois",
          "United Kingdom/England",
          "Mexico/Ciudad de México",
          "United States/Colorado",
          "United Arab Emirates/Dubai",
          "Ireland/County Dublin",
          "Germany/Hamburg",
          "United States/Texas",
          "Poland/małopolskie",
          "United States/Nevada",
          "United Kingdom/England",
          "United States/California",
          "Spain/Comunidad de Madrid",
          "United Kingdom/England",
          "Australia/Victoria",
          "United States/Minnesota",
          "Canada/Québec",
          "United States/California",
          "Germany/Bayern",
          "United States/New York",
          "United States/Florida",
          "Norway/Oslo",
          "France/Île-de-France",
          "United States/Pennsylvania",
          "United States/Oregon",
          "United States/Virginia",
          "United States/California",
          "United States/California",
          "United States/California",
          "United States/California",
          "United States/Washington",
          "Sweden/Stockholms län",
          "Australia/New South Wales",
          "Israel/Tel Aviv District",
          "Canada/Ontario",
          "Canada/British Columbia",
          "Poland/mazowieckie",
          "United States/District of Columbia",
          "Poland/Województwo dolnośląskie",
          "Switzerland/Zürich",
          "New Zealand",
          "Germany",
          "Germany",
          "Canada",
          "United States",
          "Spain",
          "Mexico",
          "United States",
          "Spain",
          "Ireland",
          "United States",
          "United Arab Emirates",
          "United Kingdom",
          "United States",
          "United States",
          "Germany",
          "United States",
          "India",
          "United States",
          "United States",
          "United States",
          "Australia",
          "United States",
          "Netherlands",
          "Canada",
          "United States",
          "Norway",
          "United States",
          "Canada",
          "Sweden",
          "Israel",
          "United States",
          "Australia",
          "United States",
          "United States",
          "Poland",
          "Switzerland",
          "Poland",
          "Poland",
          "France",
          "",
          "",
          "",
          "",
          "",
          "",
          "",
          "",
          "",
          "",
          "",
          "",
          "",
          "",
          "",
          "",
          "",
          ""
         ],
         "type": "sunburst",
         "values": [
          1544,
          1089,
          706,
          1420,
          1041,
          1196,
          3046,
          1481,
          677,
          718,
          2049,
          1243,
          719,
          1106,
          694,
          1022,
          774,
          719,
          938,
          593,
          7110,
          1068,
          1443,
          782,
          1363,
          609,
          681,
          643,
          1118,
          5884,
          556,
          542,
          2201,
          781,
          699,
          548,
          904,
          4297,
          538,
          663,
          1703,
          763,
          1471,
          1213,
          2088,
          1035,
          1479,
          1028,
          704,
          588,
          706,
          1118,
          3046,
          1035,
          8113,
          1041,
          719,
          1106,
          1443,
          1022,
          1028,
          694,
          9812,
          556,
          1089,
          774,
          2049,
          1196,
          2199,
          609,
          593,
          1471,
          5884,
          1544,
          2088,
          699,
          542,
          781,
          681,
          763,
          1213,
          2139,
          1363,
          548,
          1703,
          704,
          588,
          1479,
          938,
          2201,
          2834,
          3804,
          2201,
          4938,
          1196,
          1022,
          1213,
          719,
          1544,
          706,
          542,
          3121,
          2484,
          763,
          588,
          694,
          9812,
          29096
         ]
        }
       ],
       "layout": {
        "legend": {
         "tracegroupgap": 0
        },
        "margin": {
         "b": 10,
         "l": 10,
         "r": 10,
         "t": 10
        },
        "template": {
         "data": {
          "bar": [
           {
            "error_x": {
             "color": "#2a3f5f"
            },
            "error_y": {
             "color": "#2a3f5f"
            },
            "marker": {
             "line": {
              "color": "#E5ECF6",
              "width": 0.5
             }
            },
            "type": "bar"
           }
          ],
          "barpolar": [
           {
            "marker": {
             "line": {
              "color": "#E5ECF6",
              "width": 0.5
             }
            },
            "type": "barpolar"
           }
          ],
          "carpet": [
           {
            "aaxis": {
             "endlinecolor": "#2a3f5f",
             "gridcolor": "white",
             "linecolor": "white",
             "minorgridcolor": "white",
             "startlinecolor": "#2a3f5f"
            },
            "baxis": {
             "endlinecolor": "#2a3f5f",
             "gridcolor": "white",
             "linecolor": "white",
             "minorgridcolor": "white",
             "startlinecolor": "#2a3f5f"
            },
            "type": "carpet"
           }
          ],
          "choropleth": [
           {
            "colorbar": {
             "outlinewidth": 0,
             "ticks": ""
            },
            "type": "choropleth"
           }
          ],
          "contour": [
           {
            "colorbar": {
             "outlinewidth": 0,
             "ticks": ""
            },
            "colorscale": [
             [
              0,
              "#0d0887"
             ],
             [
              0.1111111111111111,
              "#46039f"
             ],
             [
              0.2222222222222222,
              "#7201a8"
             ],
             [
              0.3333333333333333,
              "#9c179e"
             ],
             [
              0.4444444444444444,
              "#bd3786"
             ],
             [
              0.5555555555555556,
              "#d8576b"
             ],
             [
              0.6666666666666666,
              "#ed7953"
             ],
             [
              0.7777777777777778,
              "#fb9f3a"
             ],
             [
              0.8888888888888888,
              "#fdca26"
             ],
             [
              1,
              "#f0f921"
             ]
            ],
            "type": "contour"
           }
          ],
          "contourcarpet": [
           {
            "colorbar": {
             "outlinewidth": 0,
             "ticks": ""
            },
            "type": "contourcarpet"
           }
          ],
          "heatmap": [
           {
            "colorbar": {
             "outlinewidth": 0,
             "ticks": ""
            },
            "colorscale": [
             [
              0,
              "#0d0887"
             ],
             [
              0.1111111111111111,
              "#46039f"
             ],
             [
              0.2222222222222222,
              "#7201a8"
             ],
             [
              0.3333333333333333,
              "#9c179e"
             ],
             [
              0.4444444444444444,
              "#bd3786"
             ],
             [
              0.5555555555555556,
              "#d8576b"
             ],
             [
              0.6666666666666666,
              "#ed7953"
             ],
             [
              0.7777777777777778,
              "#fb9f3a"
             ],
             [
              0.8888888888888888,
              "#fdca26"
             ],
             [
              1,
              "#f0f921"
             ]
            ],
            "type": "heatmap"
           }
          ],
          "heatmapgl": [
           {
            "colorbar": {
             "outlinewidth": 0,
             "ticks": ""
            },
            "colorscale": [
             [
              0,
              "#0d0887"
             ],
             [
              0.1111111111111111,
              "#46039f"
             ],
             [
              0.2222222222222222,
              "#7201a8"
             ],
             [
              0.3333333333333333,
              "#9c179e"
             ],
             [
              0.4444444444444444,
              "#bd3786"
             ],
             [
              0.5555555555555556,
              "#d8576b"
             ],
             [
              0.6666666666666666,
              "#ed7953"
             ],
             [
              0.7777777777777778,
              "#fb9f3a"
             ],
             [
              0.8888888888888888,
              "#fdca26"
             ],
             [
              1,
              "#f0f921"
             ]
            ],
            "type": "heatmapgl"
           }
          ],
          "histogram": [
           {
            "marker": {
             "colorbar": {
              "outlinewidth": 0,
              "ticks": ""
             }
            },
            "type": "histogram"
           }
          ],
          "histogram2d": [
           {
            "colorbar": {
             "outlinewidth": 0,
             "ticks": ""
            },
            "colorscale": [
             [
              0,
              "#0d0887"
             ],
             [
              0.1111111111111111,
              "#46039f"
             ],
             [
              0.2222222222222222,
              "#7201a8"
             ],
             [
              0.3333333333333333,
              "#9c179e"
             ],
             [
              0.4444444444444444,
              "#bd3786"
             ],
             [
              0.5555555555555556,
              "#d8576b"
             ],
             [
              0.6666666666666666,
              "#ed7953"
             ],
             [
              0.7777777777777778,
              "#fb9f3a"
             ],
             [
              0.8888888888888888,
              "#fdca26"
             ],
             [
              1,
              "#f0f921"
             ]
            ],
            "type": "histogram2d"
           }
          ],
          "histogram2dcontour": [
           {
            "colorbar": {
             "outlinewidth": 0,
             "ticks": ""
            },
            "colorscale": [
             [
              0,
              "#0d0887"
             ],
             [
              0.1111111111111111,
              "#46039f"
             ],
             [
              0.2222222222222222,
              "#7201a8"
             ],
             [
              0.3333333333333333,
              "#9c179e"
             ],
             [
              0.4444444444444444,
              "#bd3786"
             ],
             [
              0.5555555555555556,
              "#d8576b"
             ],
             [
              0.6666666666666666,
              "#ed7953"
             ],
             [
              0.7777777777777778,
              "#fb9f3a"
             ],
             [
              0.8888888888888888,
              "#fdca26"
             ],
             [
              1,
              "#f0f921"
             ]
            ],
            "type": "histogram2dcontour"
           }
          ],
          "mesh3d": [
           {
            "colorbar": {
             "outlinewidth": 0,
             "ticks": ""
            },
            "type": "mesh3d"
           }
          ],
          "parcoords": [
           {
            "line": {
             "colorbar": {
              "outlinewidth": 0,
              "ticks": ""
             }
            },
            "type": "parcoords"
           }
          ],
          "pie": [
           {
            "automargin": true,
            "type": "pie"
           }
          ],
          "scatter": [
           {
            "marker": {
             "colorbar": {
              "outlinewidth": 0,
              "ticks": ""
             }
            },
            "type": "scatter"
           }
          ],
          "scatter3d": [
           {
            "line": {
             "colorbar": {
              "outlinewidth": 0,
              "ticks": ""
             }
            },
            "marker": {
             "colorbar": {
              "outlinewidth": 0,
              "ticks": ""
             }
            },
            "type": "scatter3d"
           }
          ],
          "scattercarpet": [
           {
            "marker": {
             "colorbar": {
              "outlinewidth": 0,
              "ticks": ""
             }
            },
            "type": "scattercarpet"
           }
          ],
          "scattergeo": [
           {
            "marker": {
             "colorbar": {
              "outlinewidth": 0,
              "ticks": ""
             }
            },
            "type": "scattergeo"
           }
          ],
          "scattergl": [
           {
            "marker": {
             "colorbar": {
              "outlinewidth": 0,
              "ticks": ""
             }
            },
            "type": "scattergl"
           }
          ],
          "scattermapbox": [
           {
            "marker": {
             "colorbar": {
              "outlinewidth": 0,
              "ticks": ""
             }
            },
            "type": "scattermapbox"
           }
          ],
          "scatterpolar": [
           {
            "marker": {
             "colorbar": {
              "outlinewidth": 0,
              "ticks": ""
             }
            },
            "type": "scatterpolar"
           }
          ],
          "scatterpolargl": [
           {
            "marker": {
             "colorbar": {
              "outlinewidth": 0,
              "ticks": ""
             }
            },
            "type": "scatterpolargl"
           }
          ],
          "scatterternary": [
           {
            "marker": {
             "colorbar": {
              "outlinewidth": 0,
              "ticks": ""
             }
            },
            "type": "scatterternary"
           }
          ],
          "surface": [
           {
            "colorbar": {
             "outlinewidth": 0,
             "ticks": ""
            },
            "colorscale": [
             [
              0,
              "#0d0887"
             ],
             [
              0.1111111111111111,
              "#46039f"
             ],
             [
              0.2222222222222222,
              "#7201a8"
             ],
             [
              0.3333333333333333,
              "#9c179e"
             ],
             [
              0.4444444444444444,
              "#bd3786"
             ],
             [
              0.5555555555555556,
              "#d8576b"
             ],
             [
              0.6666666666666666,
              "#ed7953"
             ],
             [
              0.7777777777777778,
              "#fb9f3a"
             ],
             [
              0.8888888888888888,
              "#fdca26"
             ],
             [
              1,
              "#f0f921"
             ]
            ],
            "type": "surface"
           }
          ],
          "table": [
           {
            "cells": {
             "fill": {
              "color": "#EBF0F8"
             },
             "line": {
              "color": "white"
             }
            },
            "header": {
             "fill": {
              "color": "#C8D4E3"
             },
             "line": {
              "color": "white"
             }
            },
            "type": "table"
           }
          ]
         },
         "layout": {
          "annotationdefaults": {
           "arrowcolor": "#2a3f5f",
           "arrowhead": 0,
           "arrowwidth": 1
          },
          "coloraxis": {
           "colorbar": {
            "outlinewidth": 0,
            "ticks": ""
           }
          },
          "colorscale": {
           "diverging": [
            [
             0,
             "#8e0152"
            ],
            [
             0.1,
             "#c51b7d"
            ],
            [
             0.2,
             "#de77ae"
            ],
            [
             0.3,
             "#f1b6da"
            ],
            [
             0.4,
             "#fde0ef"
            ],
            [
             0.5,
             "#f7f7f7"
            ],
            [
             0.6,
             "#e6f5d0"
            ],
            [
             0.7,
             "#b8e186"
            ],
            [
             0.8,
             "#7fbc41"
            ],
            [
             0.9,
             "#4d9221"
            ],
            [
             1,
             "#276419"
            ]
           ],
           "sequential": [
            [
             0,
             "#0d0887"
            ],
            [
             0.1111111111111111,
             "#46039f"
            ],
            [
             0.2222222222222222,
             "#7201a8"
            ],
            [
             0.3333333333333333,
             "#9c179e"
            ],
            [
             0.4444444444444444,
             "#bd3786"
            ],
            [
             0.5555555555555556,
             "#d8576b"
            ],
            [
             0.6666666666666666,
             "#ed7953"
            ],
            [
             0.7777777777777778,
             "#fb9f3a"
            ],
            [
             0.8888888888888888,
             "#fdca26"
            ],
            [
             1,
             "#f0f921"
            ]
           ],
           "sequentialminus": [
            [
             0,
             "#0d0887"
            ],
            [
             0.1111111111111111,
             "#46039f"
            ],
            [
             0.2222222222222222,
             "#7201a8"
            ],
            [
             0.3333333333333333,
             "#9c179e"
            ],
            [
             0.4444444444444444,
             "#bd3786"
            ],
            [
             0.5555555555555556,
             "#d8576b"
            ],
            [
             0.6666666666666666,
             "#ed7953"
            ],
            [
             0.7777777777777778,
             "#fb9f3a"
            ],
            [
             0.8888888888888888,
             "#fdca26"
            ],
            [
             1,
             "#f0f921"
            ]
           ]
          },
          "colorway": [
           "#636efa",
           "#EF553B",
           "#00cc96",
           "#ab63fa",
           "#FFA15A",
           "#19d3f3",
           "#FF6692",
           "#B6E880",
           "#FF97FF",
           "#FECB52"
          ],
          "font": {
           "color": "#2a3f5f"
          },
          "geo": {
           "bgcolor": "white",
           "lakecolor": "white",
           "landcolor": "#E5ECF6",
           "showlakes": true,
           "showland": true,
           "subunitcolor": "white"
          },
          "hoverlabel": {
           "align": "left"
          },
          "hovermode": "closest",
          "mapbox": {
           "style": "light"
          },
          "paper_bgcolor": "white",
          "plot_bgcolor": "#E5ECF6",
          "polar": {
           "angularaxis": {
            "gridcolor": "white",
            "linecolor": "white",
            "ticks": ""
           },
           "bgcolor": "#E5ECF6",
           "radialaxis": {
            "gridcolor": "white",
            "linecolor": "white",
            "ticks": ""
           }
          },
          "scene": {
           "xaxis": {
            "backgroundcolor": "#E5ECF6",
            "gridcolor": "white",
            "gridwidth": 2,
            "linecolor": "white",
            "showbackground": true,
            "ticks": "",
            "zerolinecolor": "white"
           },
           "yaxis": {
            "backgroundcolor": "#E5ECF6",
            "gridcolor": "white",
            "gridwidth": 2,
            "linecolor": "white",
            "showbackground": true,
            "ticks": "",
            "zerolinecolor": "white"
           },
           "zaxis": {
            "backgroundcolor": "#E5ECF6",
            "gridcolor": "white",
            "gridwidth": 2,
            "linecolor": "white",
            "showbackground": true,
            "ticks": "",
            "zerolinecolor": "white"
           }
          },
          "shapedefaults": {
           "line": {
            "color": "#2a3f5f"
           }
          },
          "ternary": {
           "aaxis": {
            "gridcolor": "white",
            "linecolor": "white",
            "ticks": ""
           },
           "baxis": {
            "gridcolor": "white",
            "linecolor": "white",
            "ticks": ""
           },
           "bgcolor": "#E5ECF6",
           "caxis": {
            "gridcolor": "white",
            "linecolor": "white",
            "ticks": ""
           }
          },
          "title": {
           "x": 0.05
          },
          "xaxis": {
           "automargin": true,
           "gridcolor": "white",
           "linecolor": "white",
           "ticks": "",
           "title": {
            "standoff": 15
           },
           "zerolinecolor": "white",
           "zerolinewidth": 2
          },
          "yaxis": {
           "automargin": true,
           "gridcolor": "white",
           "linecolor": "white",
           "ticks": "",
           "title": {
            "standoff": 15
           },
           "zerolinecolor": "white",
           "zerolinewidth": 2
          }
         }
        }
       }
      },
      "text/html": [
       "<div>\n",
       "        \n",
       "        \n",
       "            <div id=\"a32b8819-2471-4254-8ce8-48335822a71f\" class=\"plotly-graph-div\" style=\"height:525px; width:100%;\"></div>\n",
       "            <script type=\"text/javascript\">\n",
       "                require([\"plotly\"], function(Plotly) {\n",
       "                    window.PLOTLYENV=window.PLOTLYENV || {};\n",
       "                    \n",
       "                if (document.getElementById(\"a32b8819-2471-4254-8ce8-48335822a71f\")) {\n",
       "                    Plotly.newPlot(\n",
       "                        'a32b8819-2471-4254-8ce8-48335822a71f',\n",
       "                        [{\"branchvalues\": \"total\", \"domain\": {\"x\": [0.0, 1.0], \"y\": [0.0, 1.0]}, \"hoverlabel\": {\"namelength\": 0}, \"hovertemplate\": \"%{id}: %{value}\", \"ids\": [\"Netherlands/Noord-Holland/Amsterdam\", \"United States/Georgia/Atlanta\", \"New Zealand/Auckland/Auckland\", \"United States/Texas/Austin\", \"Spain/Catalunya/Barcelona\", \"India/Karnataka/Bengaluru\", \"Germany/Berlin/Berlin\", \"United States/Massachusetts/Boston\", \"United Kingdom/England/Cambridge\", \"United States/Massachusetts/Cambridge\", \"United States/Illinois/Chicago\", \"United Kingdom/England/City of London\", \"Mexico/Ciudad de M\\u00e9xico/Ciudad de M\\u00e9xico\", \"United States/Colorado/Denver\", \"United Arab Emirates/Dubai/Dubai\", \"Ireland/County Dublin/Dublin\", \"Germany/Hamburg/Hamburg\", \"United States/Texas/Houston\", \"Poland/ma\\u0142opolskie/Krak\\u00f3w\", \"United States/Nevada/Las Vegas\", \"United Kingdom/England/London\", \"United States/California/Los Angeles\", \"Spain/Comunidad de Madrid/Madrid\", \"United Kingdom/England/Manchester\", \"Australia/Victoria/Melbourne\", \"United States/Minnesota/Minneapolis\", \"Canada/Qu\\u00e9bec/Montr\\u00e9al\", \"United States/California/Mountain View\", \"Germany/Bayern/M\\u00fcnchen\", \"United States/New York/New York\", \"United States/Florida/Orlando\", \"Norway/Oslo/Oslo\", \"France/\\u00cele-de-France/Paris\", \"United States/Pennsylvania/Philadelphia\", \"United States/Oregon/Portland\", \"United States/Virginia/Reston\", \"United States/California/San Diego\", \"United States/California/San Francisco\", \"United States/California/San Jose\", \"United States/California/Santa Clara\", \"United States/Washington/Seattle\", \"Sweden/Stockholms l\\u00e4n/Stockholm\", \"Australia/New South Wales/Sydney\", \"Israel/Tel Aviv District/Tel Aviv-Yafo\", \"Canada/Ontario/Toronto\", \"Canada/British Columbia/Vancouver\", \"Poland/mazowieckie/Warszawa\", \"United States/District of Columbia/Washington\", \"Poland/Wojew\\u00f3dztwo dolno\\u015bl\\u0105skie/Wroc\\u0142aw\", \"Switzerland/Z\\u00fcrich/Z\\u00fcrich\", \"New Zealand/Auckland\", \"Germany/Bayern\", \"Germany/Berlin\", \"Canada/British Columbia\", \"United States/California\", \"Spain/Catalunya\", \"Mexico/Ciudad de M\\u00e9xico\", \"United States/Colorado\", \"Spain/Comunidad de Madrid\", \"Ireland/County Dublin\", \"United States/District of Columbia\", \"United Arab Emirates/Dubai\", \"United Kingdom/England\", \"United States/Florida\", \"United States/Georgia\", \"Germany/Hamburg\", \"United States/Illinois\", \"India/Karnataka\", \"United States/Massachusetts\", \"United States/Minnesota\", \"United States/Nevada\", \"Australia/New South Wales\", \"United States/New York\", \"Netherlands/Noord-Holland\", \"Canada/Ontario\", \"United States/Oregon\", \"Norway/Oslo\", \"United States/Pennsylvania\", \"Canada/Qu\\u00e9bec\", \"Sweden/Stockholms l\\u00e4n\", \"Israel/Tel Aviv District\", \"United States/Texas\", \"Australia/Victoria\", \"United States/Virginia\", \"United States/Washington\", \"Poland/Wojew\\u00f3dztwo dolno\\u015bl\\u0105skie\", \"Switzerland/Z\\u00fcrich\", \"Poland/mazowieckie\", \"Poland/ma\\u0142opolskie\", \"France/\\u00cele-de-France\", \"Australia\", \"Canada\", \"France\", \"Germany\", \"India\", \"Ireland\", \"Israel\", \"Mexico\", \"Netherlands\", \"New Zealand\", \"Norway\", \"Poland\", \"Spain\", \"Sweden\", \"Switzerland\", \"United Arab Emirates\", \"United Kingdom\", \"United States\"], \"insidetextorientation\": \"radial\", \"labels\": [\"Amsterdam\", \"Atlanta\", \"Auckland\", \"Austin\", \"Barcelona\", \"Bengaluru\", \"Berlin\", \"Boston\", \"Cambridge\", \"Cambridge\", \"Chicago\", \"City of London\", \"Ciudad de M\\u00e9xico\", \"Denver\", \"Dubai\", \"Dublin\", \"Hamburg\", \"Houston\", \"Krak\\u00f3w\", \"Las Vegas\", \"London\", \"Los Angeles\", \"Madrid\", \"Manchester\", \"Melbourne\", \"Minneapolis\", \"Montr\\u00e9al\", \"Mountain View\", \"M\\u00fcnchen\", \"New York\", \"Orlando\", \"Oslo\", \"Paris\", \"Philadelphia\", \"Portland\", \"Reston\", \"San Diego\", \"San Francisco\", \"San Jose\", \"Santa Clara\", \"Seattle\", \"Stockholm\", \"Sydney\", \"Tel Aviv-Yafo\", \"Toronto\", \"Vancouver\", \"Warszawa\", \"Washington\", \"Wroc\\u0142aw\", \"Z\\u00fcrich\", \"Auckland\", \"Bayern\", \"Berlin\", \"British Columbia\", \"California\", \"Catalunya\", \"Ciudad de M\\u00e9xico\", \"Colorado\", \"Comunidad de Madrid\", \"County Dublin\", \"District of Columbia\", \"Dubai\", \"England\", \"Florida\", \"Georgia\", \"Hamburg\", \"Illinois\", \"Karnataka\", \"Massachusetts\", \"Minnesota\", \"Nevada\", \"New South Wales\", \"New York\", \"Noord-Holland\", \"Ontario\", \"Oregon\", \"Oslo\", \"Pennsylvania\", \"Qu\\u00e9bec\", \"Stockholms l\\u00e4n\", \"Tel Aviv District\", \"Texas\", \"Victoria\", \"Virginia\", \"Washington\", \"Wojew\\u00f3dztwo dolno\\u015bl\\u0105skie\", \"Z\\u00fcrich\", \"mazowieckie\", \"ma\\u0142opolskie\", \"\\u00cele-de-France\", \"Australia\", \"Canada\", \"France\", \"Germany\", \"India\", \"Ireland\", \"Israel\", \"Mexico\", \"Netherlands\", \"New Zealand\", \"Norway\", \"Poland\", \"Spain\", \"Sweden\", \"Switzerland\", \"United Arab Emirates\", \"United Kingdom\", \"United States\"], \"marker\": {\"line\": {\"color\": \"#000000\", \"width\": 0.5}}, \"name\": \"\", \"parents\": [\"Netherlands/Noord-Holland\", \"United States/Georgia\", \"New Zealand/Auckland\", \"United States/Texas\", \"Spain/Catalunya\", \"India/Karnataka\", \"Germany/Berlin\", \"United States/Massachusetts\", \"United Kingdom/England\", \"United States/Massachusetts\", \"United States/Illinois\", \"United Kingdom/England\", \"Mexico/Ciudad de M\\u00e9xico\", \"United States/Colorado\", \"United Arab Emirates/Dubai\", \"Ireland/County Dublin\", \"Germany/Hamburg\", \"United States/Texas\", \"Poland/ma\\u0142opolskie\", \"United States/Nevada\", \"United Kingdom/England\", \"United States/California\", \"Spain/Comunidad de Madrid\", \"United Kingdom/England\", \"Australia/Victoria\", \"United States/Minnesota\", \"Canada/Qu\\u00e9bec\", \"United States/California\", \"Germany/Bayern\", \"United States/New York\", \"United States/Florida\", \"Norway/Oslo\", \"France/\\u00cele-de-France\", \"United States/Pennsylvania\", \"United States/Oregon\", \"United States/Virginia\", \"United States/California\", \"United States/California\", \"United States/California\", \"United States/California\", \"United States/Washington\", \"Sweden/Stockholms l\\u00e4n\", \"Australia/New South Wales\", \"Israel/Tel Aviv District\", \"Canada/Ontario\", \"Canada/British Columbia\", \"Poland/mazowieckie\", \"United States/District of Columbia\", \"Poland/Wojew\\u00f3dztwo dolno\\u015bl\\u0105skie\", \"Switzerland/Z\\u00fcrich\", \"New Zealand\", \"Germany\", \"Germany\", \"Canada\", \"United States\", \"Spain\", \"Mexico\", \"United States\", \"Spain\", \"Ireland\", \"United States\", \"United Arab Emirates\", \"United Kingdom\", \"United States\", \"United States\", \"Germany\", \"United States\", \"India\", \"United States\", \"United States\", \"United States\", \"Australia\", \"United States\", \"Netherlands\", \"Canada\", \"United States\", \"Norway\", \"United States\", \"Canada\", \"Sweden\", \"Israel\", \"United States\", \"Australia\", \"United States\", \"United States\", \"Poland\", \"Switzerland\", \"Poland\", \"Poland\", \"France\", \"\", \"\", \"\", \"\", \"\", \"\", \"\", \"\", \"\", \"\", \"\", \"\", \"\", \"\", \"\", \"\", \"\", \"\"], \"type\": \"sunburst\", \"values\": [1544, 1089, 706, 1420, 1041, 1196, 3046, 1481, 677, 718, 2049, 1243, 719, 1106, 694, 1022, 774, 719, 938, 593, 7110, 1068, 1443, 782, 1363, 609, 681, 643, 1118, 5884, 556, 542, 2201, 781, 699, 548, 904, 4297, 538, 663, 1703, 763, 1471, 1213, 2088, 1035, 1479, 1028, 704, 588, 706, 1118, 3046, 1035, 8113, 1041, 719, 1106, 1443, 1022, 1028, 694, 9812, 556, 1089, 774, 2049, 1196, 2199, 609, 593, 1471, 5884, 1544, 2088, 699, 542, 781, 681, 763, 1213, 2139, 1363, 548, 1703, 704, 588, 1479, 938, 2201, 2834, 3804, 2201, 4938, 1196, 1022, 1213, 719, 1544, 706, 542, 3121, 2484, 763, 588, 694, 9812, 29096]}],\n",
       "                        {\"legend\": {\"tracegroupgap\": 0}, \"margin\": {\"b\": 10, \"l\": 10, \"r\": 10, \"t\": 10}, \"template\": {\"data\": {\"bar\": [{\"error_x\": {\"color\": \"#2a3f5f\"}, \"error_y\": {\"color\": \"#2a3f5f\"}, \"marker\": {\"line\": {\"color\": \"#E5ECF6\", \"width\": 0.5}}, \"type\": \"bar\"}], \"barpolar\": [{\"marker\": {\"line\": {\"color\": \"#E5ECF6\", \"width\": 0.5}}, \"type\": \"barpolar\"}], \"carpet\": [{\"aaxis\": {\"endlinecolor\": \"#2a3f5f\", \"gridcolor\": \"white\", \"linecolor\": \"white\", \"minorgridcolor\": \"white\", \"startlinecolor\": \"#2a3f5f\"}, \"baxis\": {\"endlinecolor\": \"#2a3f5f\", \"gridcolor\": \"white\", \"linecolor\": \"white\", \"minorgridcolor\": \"white\", \"startlinecolor\": \"#2a3f5f\"}, \"type\": \"carpet\"}], \"choropleth\": [{\"colorbar\": {\"outlinewidth\": 0, \"ticks\": \"\"}, \"type\": \"choropleth\"}], \"contour\": [{\"colorbar\": {\"outlinewidth\": 0, \"ticks\": \"\"}, \"colorscale\": [[0.0, \"#0d0887\"], [0.1111111111111111, \"#46039f\"], [0.2222222222222222, \"#7201a8\"], [0.3333333333333333, \"#9c179e\"], [0.4444444444444444, \"#bd3786\"], [0.5555555555555556, \"#d8576b\"], [0.6666666666666666, \"#ed7953\"], [0.7777777777777778, \"#fb9f3a\"], [0.8888888888888888, \"#fdca26\"], [1.0, \"#f0f921\"]], \"type\": \"contour\"}], \"contourcarpet\": [{\"colorbar\": {\"outlinewidth\": 0, \"ticks\": \"\"}, \"type\": \"contourcarpet\"}], \"heatmap\": [{\"colorbar\": {\"outlinewidth\": 0, \"ticks\": \"\"}, \"colorscale\": [[0.0, \"#0d0887\"], [0.1111111111111111, \"#46039f\"], [0.2222222222222222, \"#7201a8\"], [0.3333333333333333, \"#9c179e\"], [0.4444444444444444, \"#bd3786\"], [0.5555555555555556, \"#d8576b\"], [0.6666666666666666, \"#ed7953\"], [0.7777777777777778, \"#fb9f3a\"], [0.8888888888888888, \"#fdca26\"], [1.0, \"#f0f921\"]], \"type\": \"heatmap\"}], \"heatmapgl\": [{\"colorbar\": {\"outlinewidth\": 0, \"ticks\": \"\"}, \"colorscale\": [[0.0, \"#0d0887\"], [0.1111111111111111, \"#46039f\"], [0.2222222222222222, \"#7201a8\"], [0.3333333333333333, \"#9c179e\"], [0.4444444444444444, \"#bd3786\"], [0.5555555555555556, \"#d8576b\"], [0.6666666666666666, \"#ed7953\"], [0.7777777777777778, \"#fb9f3a\"], [0.8888888888888888, \"#fdca26\"], [1.0, \"#f0f921\"]], \"type\": \"heatmapgl\"}], \"histogram\": [{\"marker\": {\"colorbar\": {\"outlinewidth\": 0, \"ticks\": \"\"}}, \"type\": \"histogram\"}], \"histogram2d\": [{\"colorbar\": {\"outlinewidth\": 0, \"ticks\": \"\"}, \"colorscale\": [[0.0, \"#0d0887\"], [0.1111111111111111, \"#46039f\"], [0.2222222222222222, \"#7201a8\"], [0.3333333333333333, \"#9c179e\"], [0.4444444444444444, \"#bd3786\"], [0.5555555555555556, \"#d8576b\"], [0.6666666666666666, \"#ed7953\"], [0.7777777777777778, \"#fb9f3a\"], [0.8888888888888888, \"#fdca26\"], [1.0, \"#f0f921\"]], \"type\": \"histogram2d\"}], \"histogram2dcontour\": [{\"colorbar\": {\"outlinewidth\": 0, \"ticks\": \"\"}, \"colorscale\": [[0.0, \"#0d0887\"], [0.1111111111111111, \"#46039f\"], [0.2222222222222222, \"#7201a8\"], [0.3333333333333333, \"#9c179e\"], [0.4444444444444444, \"#bd3786\"], [0.5555555555555556, \"#d8576b\"], [0.6666666666666666, \"#ed7953\"], [0.7777777777777778, \"#fb9f3a\"], [0.8888888888888888, \"#fdca26\"], [1.0, \"#f0f921\"]], \"type\": \"histogram2dcontour\"}], \"mesh3d\": [{\"colorbar\": {\"outlinewidth\": 0, \"ticks\": \"\"}, \"type\": \"mesh3d\"}], \"parcoords\": [{\"line\": {\"colorbar\": {\"outlinewidth\": 0, \"ticks\": \"\"}}, \"type\": \"parcoords\"}], \"pie\": [{\"automargin\": true, \"type\": \"pie\"}], \"scatter\": [{\"marker\": {\"colorbar\": {\"outlinewidth\": 0, \"ticks\": \"\"}}, \"type\": \"scatter\"}], \"scatter3d\": [{\"line\": {\"colorbar\": {\"outlinewidth\": 0, \"ticks\": \"\"}}, \"marker\": {\"colorbar\": {\"outlinewidth\": 0, \"ticks\": \"\"}}, \"type\": \"scatter3d\"}], \"scattercarpet\": [{\"marker\": {\"colorbar\": {\"outlinewidth\": 0, \"ticks\": \"\"}}, \"type\": \"scattercarpet\"}], \"scattergeo\": [{\"marker\": {\"colorbar\": {\"outlinewidth\": 0, \"ticks\": \"\"}}, \"type\": \"scattergeo\"}], \"scattergl\": [{\"marker\": {\"colorbar\": {\"outlinewidth\": 0, \"ticks\": \"\"}}, \"type\": \"scattergl\"}], \"scattermapbox\": [{\"marker\": {\"colorbar\": {\"outlinewidth\": 0, \"ticks\": \"\"}}, \"type\": \"scattermapbox\"}], \"scatterpolar\": [{\"marker\": {\"colorbar\": {\"outlinewidth\": 0, \"ticks\": \"\"}}, \"type\": \"scatterpolar\"}], \"scatterpolargl\": [{\"marker\": {\"colorbar\": {\"outlinewidth\": 0, \"ticks\": \"\"}}, \"type\": \"scatterpolargl\"}], \"scatterternary\": [{\"marker\": {\"colorbar\": {\"outlinewidth\": 0, \"ticks\": \"\"}}, \"type\": \"scatterternary\"}], \"surface\": [{\"colorbar\": {\"outlinewidth\": 0, \"ticks\": \"\"}, \"colorscale\": [[0.0, \"#0d0887\"], [0.1111111111111111, \"#46039f\"], [0.2222222222222222, \"#7201a8\"], [0.3333333333333333, \"#9c179e\"], [0.4444444444444444, \"#bd3786\"], [0.5555555555555556, \"#d8576b\"], [0.6666666666666666, \"#ed7953\"], [0.7777777777777778, \"#fb9f3a\"], [0.8888888888888888, \"#fdca26\"], [1.0, \"#f0f921\"]], \"type\": \"surface\"}], \"table\": [{\"cells\": {\"fill\": {\"color\": \"#EBF0F8\"}, \"line\": {\"color\": \"white\"}}, \"header\": {\"fill\": {\"color\": \"#C8D4E3\"}, \"line\": {\"color\": \"white\"}}, \"type\": \"table\"}]}, \"layout\": {\"annotationdefaults\": {\"arrowcolor\": \"#2a3f5f\", \"arrowhead\": 0, \"arrowwidth\": 1}, \"coloraxis\": {\"colorbar\": {\"outlinewidth\": 0, \"ticks\": \"\"}}, \"colorscale\": {\"diverging\": [[0, \"#8e0152\"], [0.1, \"#c51b7d\"], [0.2, \"#de77ae\"], [0.3, \"#f1b6da\"], [0.4, \"#fde0ef\"], [0.5, \"#f7f7f7\"], [0.6, \"#e6f5d0\"], [0.7, \"#b8e186\"], [0.8, \"#7fbc41\"], [0.9, \"#4d9221\"], [1, \"#276419\"]], \"sequential\": [[0.0, \"#0d0887\"], [0.1111111111111111, \"#46039f\"], [0.2222222222222222, \"#7201a8\"], [0.3333333333333333, \"#9c179e\"], [0.4444444444444444, \"#bd3786\"], [0.5555555555555556, \"#d8576b\"], [0.6666666666666666, \"#ed7953\"], [0.7777777777777778, \"#fb9f3a\"], [0.8888888888888888, \"#fdca26\"], [1.0, \"#f0f921\"]], \"sequentialminus\": [[0.0, \"#0d0887\"], [0.1111111111111111, \"#46039f\"], [0.2222222222222222, \"#7201a8\"], [0.3333333333333333, \"#9c179e\"], [0.4444444444444444, \"#bd3786\"], [0.5555555555555556, \"#d8576b\"], [0.6666666666666666, \"#ed7953\"], [0.7777777777777778, \"#fb9f3a\"], [0.8888888888888888, \"#fdca26\"], [1.0, \"#f0f921\"]]}, \"colorway\": [\"#636efa\", \"#EF553B\", \"#00cc96\", \"#ab63fa\", \"#FFA15A\", \"#19d3f3\", \"#FF6692\", \"#B6E880\", \"#FF97FF\", \"#FECB52\"], \"font\": {\"color\": \"#2a3f5f\"}, \"geo\": {\"bgcolor\": \"white\", \"lakecolor\": \"white\", \"landcolor\": \"#E5ECF6\", \"showlakes\": true, \"showland\": true, \"subunitcolor\": \"white\"}, \"hoverlabel\": {\"align\": \"left\"}, \"hovermode\": \"closest\", \"mapbox\": {\"style\": \"light\"}, \"paper_bgcolor\": \"white\", \"plot_bgcolor\": \"#E5ECF6\", \"polar\": {\"angularaxis\": {\"gridcolor\": \"white\", \"linecolor\": \"white\", \"ticks\": \"\"}, \"bgcolor\": \"#E5ECF6\", \"radialaxis\": {\"gridcolor\": \"white\", \"linecolor\": \"white\", \"ticks\": \"\"}}, \"scene\": {\"xaxis\": {\"backgroundcolor\": \"#E5ECF6\", \"gridcolor\": \"white\", \"gridwidth\": 2, \"linecolor\": \"white\", \"showbackground\": true, \"ticks\": \"\", \"zerolinecolor\": \"white\"}, \"yaxis\": {\"backgroundcolor\": \"#E5ECF6\", \"gridcolor\": \"white\", \"gridwidth\": 2, \"linecolor\": \"white\", \"showbackground\": true, \"ticks\": \"\", \"zerolinecolor\": \"white\"}, \"zaxis\": {\"backgroundcolor\": \"#E5ECF6\", \"gridcolor\": \"white\", \"gridwidth\": 2, \"linecolor\": \"white\", \"showbackground\": true, \"ticks\": \"\", \"zerolinecolor\": \"white\"}}, \"shapedefaults\": {\"line\": {\"color\": \"#2a3f5f\"}}, \"ternary\": {\"aaxis\": {\"gridcolor\": \"white\", \"linecolor\": \"white\", \"ticks\": \"\"}, \"baxis\": {\"gridcolor\": \"white\", \"linecolor\": \"white\", \"ticks\": \"\"}, \"bgcolor\": \"#E5ECF6\", \"caxis\": {\"gridcolor\": \"white\", \"linecolor\": \"white\", \"ticks\": \"\"}}, \"title\": {\"x\": 0.05}, \"xaxis\": {\"automargin\": true, \"gridcolor\": \"white\", \"linecolor\": \"white\", \"ticks\": \"\", \"title\": {\"standoff\": 15}, \"zerolinecolor\": \"white\", \"zerolinewidth\": 2}, \"yaxis\": {\"automargin\": true, \"gridcolor\": \"white\", \"linecolor\": \"white\", \"ticks\": \"\", \"title\": {\"standoff\": 15}, \"zerolinecolor\": \"white\", \"zerolinewidth\": 2}}}},\n",
       "                        {\"responsive\": true}\n",
       "                    ).then(function(){\n",
       "                            \n",
       "var gd = document.getElementById('a32b8819-2471-4254-8ce8-48335822a71f');\n",
       "var x = new MutationObserver(function (mutations, observer) {{\n",
       "        var display = window.getComputedStyle(gd).display;\n",
       "        if (!display || display === 'none') {{\n",
       "            console.log([gd, 'removed!']);\n",
       "            Plotly.purge(gd);\n",
       "            observer.disconnect();\n",
       "        }}\n",
       "}});\n",
       "\n",
       "// Listen for the removal of the full notebook cells\n",
       "var notebookContainer = gd.closest('#notebook-container');\n",
       "if (notebookContainer) {{\n",
       "    x.observe(notebookContainer, {childList: true});\n",
       "}}\n",
       "\n",
       "// Listen for the clearing of the current output cell\n",
       "var outputEl = gd.closest('.output');\n",
       "if (outputEl) {{\n",
       "    x.observe(outputEl, {childList: true});\n",
       "}}\n",
       "\n",
       "                        })\n",
       "                };\n",
       "                });\n",
       "            </script>\n",
       "        </div>"
      ]
     },
     "metadata": {},
     "output_type": "display_data"
    }
   ],
   "source": [
    "# Plot starburst diagram of event locations\n",
    "cols = ['country_name', 'region', 'locality']\n",
    "n = 50\n",
    "custom_sunburst(df_both, cols, n, div=False)"
   ]
  },
  {
   "cell_type": "code",
   "execution_count": 23,
   "metadata": {},
   "outputs": [
    {
     "name": "stdout",
     "output_type": "stream",
     "text": [
      "\n",
      "Uploading to Azure Storage as blob:\n",
      "\tcalheatmap.png\n"
     ]
    }
   ],
   "source": [
    "# Plot calendar heatmaps\n",
    "img = range_cal_plot(df_both, 2014, 2021)\n",
    "\n",
    "# Save heatmap plot as png file\n",
    "img.savefig(\"calheatmap.png\", bbox_inches=\"tight\", dpi=150)\n",
    "\n",
    "# Create a file path in local Documents directory to upload\n",
    "local_path = \"\"\n",
    "local_file_name_m = \"calheatmap.png\"\n",
    "upload_file_path_m = os.path.join(local_path, local_file_name_m)\n",
    "\n",
    "# Create the BlobServiceClient object which will be used to create a container client\n",
    "blob_service_client = BlobServiceClient.from_connection_string(\n",
    "    os.environ['AZURE_STORAGE_CONNECTION_STRING'])\n",
    "\n",
    "# Create a blob client using the local file name as the name for the blob\n",
    "blob_client = blob_service_client.get_blob_client(\n",
    "    container=os.environ['AZURE_STORAGE_CONTAINER'], blob=local_file_name_m)\n",
    "\n",
    "print(\"\\nUploading to Azure Storage as blob:\\n\\t\" + local_file_name_m)\n",
    "\n",
    "# Upload the created file\n",
    "with open(upload_file_path_m, \"rb\") as data:\n",
    "    blob_client.upload_blob(data, overwrite=True)"
   ]
  },
  {
   "cell_type": "code",
   "execution_count": 3,
   "metadata": {},
   "outputs": [
    {
     "data": {
      "application/vnd.plotly.v1+json": {
       "config": {
        "linkText": "Export to plot.ly",
        "plotlyServerURL": "https://plot.ly",
        "showLink": false
       },
       "data": [
        {
         "hoverinfo": "x+y+name",
         "line": {
          "color": "#5499c7",
          "width": 1.5
         },
         "mode": "lines",
         "name": "IoT",
         "stackgroup": "",
         "type": "scatter",
         "x": [
          2010,
          2011,
          2012,
          2013,
          2014,
          2015,
          2016,
          2017,
          2018,
          2019
         ],
         "y": [
          11,
          21,
          37,
          62,
          118,
          222,
          438,
          1160,
          2801,
          5549
         ]
        },
        {
         "hoverinfo": "x+y+name",
         "line": {
          "color": "#ec7063",
          "width": 1.5
         },
         "mode": "lines",
         "name": "Security",
         "stackgroup": "",
         "type": "scatter",
         "x": [
          2010,
          2011,
          2012,
          2013,
          2014,
          2015,
          2016,
          2017,
          2018,
          2019
         ],
         "y": [
          0,
          0,
          0,
          0,
          0,
          9,
          63,
          525,
          3065,
          4941
         ]
        },
        {
         "hoverinfo": "x+y+name",
         "line": {
          "color": "#cd6155",
          "width": 1.5
         },
         "mode": "lines",
         "name": "Blockchain",
         "stackgroup": "",
         "type": "scatter",
         "x": [
          2010,
          2011,
          2012,
          2013,
          2014,
          2015,
          2016,
          2017,
          2018,
          2019
         ],
         "y": [
          1,
          8,
          25,
          90,
          224,
          364,
          623,
          1267,
          2607,
          4783
         ]
        },
        {
         "hoverinfo": "x+y+name",
         "line": {
          "color": "#82FFAB",
          "width": 1.5
         },
         "mode": "lines",
         "name": "AI/ML",
         "stackgroup": "",
         "type": "scatter",
         "x": [
          2010,
          2011,
          2012,
          2013,
          2014,
          2015,
          2016,
          2017,
          2018,
          2019
         ],
         "y": [
          0,
          6,
          7,
          14,
          19,
          33,
          91,
          452,
          1878,
          4340
         ]
        },
        {
         "hoverinfo": "x+y+name",
         "line": {
          "color": "#FFC300",
          "width": 1.5
         },
         "mode": "lines",
         "name": "JavaScript",
         "stackgroup": "",
         "type": "scatter",
         "x": [
          2010,
          2011,
          2012,
          2013,
          2014,
          2015,
          2016,
          2017,
          2018,
          2019
         ],
         "y": [
          12,
          35,
          92,
          148,
          214,
          324,
          484,
          1048,
          2295,
          3866
         ]
        },
        {
         "hoverinfo": "x+y+name",
         "line": {
          "color": "#f39c12",
          "width": 1.5
         },
         "mode": "lines",
         "name": "Cloud",
         "stackgroup": "",
         "type": "scatter",
         "x": [
          2010,
          2011,
          2012,
          2013,
          2014,
          2015,
          2016,
          2017,
          2018,
          2019
         ],
         "y": [
          2,
          15,
          48,
          84,
          121,
          163,
          264,
          645,
          1640,
          3286
         ]
        },
        {
         "hoverinfo": "x+y+name",
         "line": {
          "color": "#e74c3c",
          "width": 1.5
         },
         "mode": "lines",
         "name": "Data Science",
         "stackgroup": "",
         "type": "scatter",
         "x": [
          2010,
          2011,
          2012,
          2013,
          2014,
          2015,
          2016,
          2017,
          2018,
          2019
         ],
         "y": [
          8,
          18,
          31,
          43,
          62,
          97,
          183,
          610,
          1674,
          3219
         ]
        },
        {
         "hoverinfo": "x+y+name",
         "line": {
          "color": "#8e44ad",
          "width": 1.5
         },
         "mode": "lines",
         "name": "UI/UX",
         "stackgroup": "",
         "type": "scatter",
         "x": [
          2010,
          2011,
          2012,
          2013,
          2014,
          2015,
          2016,
          2017,
          2018,
          2019
         ],
         "y": [
          7,
          24,
          52,
          102,
          175,
          266,
          419,
          873,
          1755,
          3072
         ]
        },
        {
         "hoverinfo": "x+y+name",
         "line": {
          "color": "#16a085",
          "width": 1.5
         },
         "mode": "lines",
         "name": "Agile",
         "stackgroup": "",
         "type": "scatter",
         "x": [
          2010,
          2011,
          2012,
          2013,
          2014,
          2015,
          2016,
          2017,
          2018,
          2019
         ],
         "y": [
          4,
          23,
          43,
          82,
          126,
          181,
          283,
          688,
          1638,
          2952
         ]
        },
        {
         "hoverinfo": "x+y+name",
         "line": {
          "color": "#27ae60",
          "width": 1.5
         },
         "mode": "lines",
         "name": "Web",
         "stackgroup": "",
         "type": "scatter",
         "x": [
          2010,
          2011,
          2012,
          2013,
          2014,
          2015,
          2016,
          2017,
          2018,
          2019
         ],
         "y": [
          25,
          100,
          190,
          303,
          420,
          525,
          679,
          1031,
          1749,
          2669
         ]
        },
        {
         "hoverinfo": "x+y+name",
         "line": {
          "color": "#d35400",
          "width": 1.5
         },
         "mode": "lines",
         "name": "DevOps",
         "stackgroup": "",
         "type": "scatter",
         "x": [
          2010,
          2011,
          2012,
          2013,
          2014,
          2015,
          2016,
          2017,
          2018,
          2019
         ],
         "y": [
          2,
          3,
          7,
          20,
          36,
          76,
          174,
          523,
          1282,
          2432
         ]
        },
        {
         "hoverinfo": "x+y+name",
         "line": {
          "color": "#48c9b0",
          "width": 1.5
         },
         "mode": "lines",
         "name": "Software Development",
         "stackgroup": "",
         "type": "scatter",
         "x": [
          2010,
          2011,
          2012,
          2013,
          2014,
          2015,
          2016,
          2017,
          2018,
          2019
         ],
         "y": [
          2,
          10,
          24,
          47,
          77,
          114,
          178,
          412,
          1117,
          2207
         ]
        },
        {
         "hoverinfo": "x+y+name",
         "line": {
          "color": "#5499c7",
          "width": 1.5
         },
         "mode": "lines",
         "name": "Women in Tech",
         "stackgroup": "",
         "type": "scatter",
         "x": [
          2010,
          2011,
          2012,
          2013,
          2014,
          2015,
          2016,
          2017,
          2018,
          2019
         ],
         "y": [
          1,
          12,
          20,
          32,
          54,
          80,
          178,
          478,
          1163,
          2200
         ]
        },
        {
         "hoverinfo": "x+y+name",
         "line": {
          "color": "#ec7063",
          "width": 1.5
         },
         "mode": "lines",
         "name": "Product",
         "stackgroup": "",
         "type": "scatter",
         "x": [
          2010,
          2011,
          2012,
          2013,
          2014,
          2015,
          2016,
          2017,
          2018,
          2019
         ],
         "y": [
          14,
          45,
          88,
          138,
          186,
          258,
          355,
          619,
          1254,
          2168
         ]
        },
        {
         "hoverinfo": "x+y+name",
         "line": {
          "color": "#cd6155",
          "width": 1.5
         },
         "mode": "lines",
         "name": "Industrial Engineering",
         "stackgroup": "",
         "type": "scatter",
         "x": [
          2010,
          2011,
          2012,
          2013,
          2014,
          2015,
          2016,
          2017,
          2018,
          2019
         ],
         "y": [
          1,
          8,
          12,
          20,
          30,
          40,
          59,
          94,
          174,
          1118
         ]
        }
       ],
       "layout": {
        "height": 600,
        "legend": {
         "bgcolor": "rgba(0,0,0,0)",
         "x": 1,
         "y": 0.4
        },
        "plot_bgcolor": "rgba(255,255,255,1)",
        "template": {
         "data": {
          "bar": [
           {
            "error_x": {
             "color": "#2a3f5f"
            },
            "error_y": {
             "color": "#2a3f5f"
            },
            "marker": {
             "line": {
              "color": "#E5ECF6",
              "width": 0.5
             }
            },
            "type": "bar"
           }
          ],
          "barpolar": [
           {
            "marker": {
             "line": {
              "color": "#E5ECF6",
              "width": 0.5
             }
            },
            "type": "barpolar"
           }
          ],
          "carpet": [
           {
            "aaxis": {
             "endlinecolor": "#2a3f5f",
             "gridcolor": "white",
             "linecolor": "white",
             "minorgridcolor": "white",
             "startlinecolor": "#2a3f5f"
            },
            "baxis": {
             "endlinecolor": "#2a3f5f",
             "gridcolor": "white",
             "linecolor": "white",
             "minorgridcolor": "white",
             "startlinecolor": "#2a3f5f"
            },
            "type": "carpet"
           }
          ],
          "choropleth": [
           {
            "colorbar": {
             "outlinewidth": 0,
             "ticks": ""
            },
            "type": "choropleth"
           }
          ],
          "contour": [
           {
            "colorbar": {
             "outlinewidth": 0,
             "ticks": ""
            },
            "colorscale": [
             [
              0,
              "#0d0887"
             ],
             [
              0.1111111111111111,
              "#46039f"
             ],
             [
              0.2222222222222222,
              "#7201a8"
             ],
             [
              0.3333333333333333,
              "#9c179e"
             ],
             [
              0.4444444444444444,
              "#bd3786"
             ],
             [
              0.5555555555555556,
              "#d8576b"
             ],
             [
              0.6666666666666666,
              "#ed7953"
             ],
             [
              0.7777777777777778,
              "#fb9f3a"
             ],
             [
              0.8888888888888888,
              "#fdca26"
             ],
             [
              1,
              "#f0f921"
             ]
            ],
            "type": "contour"
           }
          ],
          "contourcarpet": [
           {
            "colorbar": {
             "outlinewidth": 0,
             "ticks": ""
            },
            "type": "contourcarpet"
           }
          ],
          "heatmap": [
           {
            "colorbar": {
             "outlinewidth": 0,
             "ticks": ""
            },
            "colorscale": [
             [
              0,
              "#0d0887"
             ],
             [
              0.1111111111111111,
              "#46039f"
             ],
             [
              0.2222222222222222,
              "#7201a8"
             ],
             [
              0.3333333333333333,
              "#9c179e"
             ],
             [
              0.4444444444444444,
              "#bd3786"
             ],
             [
              0.5555555555555556,
              "#d8576b"
             ],
             [
              0.6666666666666666,
              "#ed7953"
             ],
             [
              0.7777777777777778,
              "#fb9f3a"
             ],
             [
              0.8888888888888888,
              "#fdca26"
             ],
             [
              1,
              "#f0f921"
             ]
            ],
            "type": "heatmap"
           }
          ],
          "heatmapgl": [
           {
            "colorbar": {
             "outlinewidth": 0,
             "ticks": ""
            },
            "colorscale": [
             [
              0,
              "#0d0887"
             ],
             [
              0.1111111111111111,
              "#46039f"
             ],
             [
              0.2222222222222222,
              "#7201a8"
             ],
             [
              0.3333333333333333,
              "#9c179e"
             ],
             [
              0.4444444444444444,
              "#bd3786"
             ],
             [
              0.5555555555555556,
              "#d8576b"
             ],
             [
              0.6666666666666666,
              "#ed7953"
             ],
             [
              0.7777777777777778,
              "#fb9f3a"
             ],
             [
              0.8888888888888888,
              "#fdca26"
             ],
             [
              1,
              "#f0f921"
             ]
            ],
            "type": "heatmapgl"
           }
          ],
          "histogram": [
           {
            "marker": {
             "colorbar": {
              "outlinewidth": 0,
              "ticks": ""
             }
            },
            "type": "histogram"
           }
          ],
          "histogram2d": [
           {
            "colorbar": {
             "outlinewidth": 0,
             "ticks": ""
            },
            "colorscale": [
             [
              0,
              "#0d0887"
             ],
             [
              0.1111111111111111,
              "#46039f"
             ],
             [
              0.2222222222222222,
              "#7201a8"
             ],
             [
              0.3333333333333333,
              "#9c179e"
             ],
             [
              0.4444444444444444,
              "#bd3786"
             ],
             [
              0.5555555555555556,
              "#d8576b"
             ],
             [
              0.6666666666666666,
              "#ed7953"
             ],
             [
              0.7777777777777778,
              "#fb9f3a"
             ],
             [
              0.8888888888888888,
              "#fdca26"
             ],
             [
              1,
              "#f0f921"
             ]
            ],
            "type": "histogram2d"
           }
          ],
          "histogram2dcontour": [
           {
            "colorbar": {
             "outlinewidth": 0,
             "ticks": ""
            },
            "colorscale": [
             [
              0,
              "#0d0887"
             ],
             [
              0.1111111111111111,
              "#46039f"
             ],
             [
              0.2222222222222222,
              "#7201a8"
             ],
             [
              0.3333333333333333,
              "#9c179e"
             ],
             [
              0.4444444444444444,
              "#bd3786"
             ],
             [
              0.5555555555555556,
              "#d8576b"
             ],
             [
              0.6666666666666666,
              "#ed7953"
             ],
             [
              0.7777777777777778,
              "#fb9f3a"
             ],
             [
              0.8888888888888888,
              "#fdca26"
             ],
             [
              1,
              "#f0f921"
             ]
            ],
            "type": "histogram2dcontour"
           }
          ],
          "mesh3d": [
           {
            "colorbar": {
             "outlinewidth": 0,
             "ticks": ""
            },
            "type": "mesh3d"
           }
          ],
          "parcoords": [
           {
            "line": {
             "colorbar": {
              "outlinewidth": 0,
              "ticks": ""
             }
            },
            "type": "parcoords"
           }
          ],
          "pie": [
           {
            "automargin": true,
            "type": "pie"
           }
          ],
          "scatter": [
           {
            "marker": {
             "colorbar": {
              "outlinewidth": 0,
              "ticks": ""
             }
            },
            "type": "scatter"
           }
          ],
          "scatter3d": [
           {
            "line": {
             "colorbar": {
              "outlinewidth": 0,
              "ticks": ""
             }
            },
            "marker": {
             "colorbar": {
              "outlinewidth": 0,
              "ticks": ""
             }
            },
            "type": "scatter3d"
           }
          ],
          "scattercarpet": [
           {
            "marker": {
             "colorbar": {
              "outlinewidth": 0,
              "ticks": ""
             }
            },
            "type": "scattercarpet"
           }
          ],
          "scattergeo": [
           {
            "marker": {
             "colorbar": {
              "outlinewidth": 0,
              "ticks": ""
             }
            },
            "type": "scattergeo"
           }
          ],
          "scattergl": [
           {
            "marker": {
             "colorbar": {
              "outlinewidth": 0,
              "ticks": ""
             }
            },
            "type": "scattergl"
           }
          ],
          "scattermapbox": [
           {
            "marker": {
             "colorbar": {
              "outlinewidth": 0,
              "ticks": ""
             }
            },
            "type": "scattermapbox"
           }
          ],
          "scatterpolar": [
           {
            "marker": {
             "colorbar": {
              "outlinewidth": 0,
              "ticks": ""
             }
            },
            "type": "scatterpolar"
           }
          ],
          "scatterpolargl": [
           {
            "marker": {
             "colorbar": {
              "outlinewidth": 0,
              "ticks": ""
             }
            },
            "type": "scatterpolargl"
           }
          ],
          "scatterternary": [
           {
            "marker": {
             "colorbar": {
              "outlinewidth": 0,
              "ticks": ""
             }
            },
            "type": "scatterternary"
           }
          ],
          "surface": [
           {
            "colorbar": {
             "outlinewidth": 0,
             "ticks": ""
            },
            "colorscale": [
             [
              0,
              "#0d0887"
             ],
             [
              0.1111111111111111,
              "#46039f"
             ],
             [
              0.2222222222222222,
              "#7201a8"
             ],
             [
              0.3333333333333333,
              "#9c179e"
             ],
             [
              0.4444444444444444,
              "#bd3786"
             ],
             [
              0.5555555555555556,
              "#d8576b"
             ],
             [
              0.6666666666666666,
              "#ed7953"
             ],
             [
              0.7777777777777778,
              "#fb9f3a"
             ],
             [
              0.8888888888888888,
              "#fdca26"
             ],
             [
              1,
              "#f0f921"
             ]
            ],
            "type": "surface"
           }
          ],
          "table": [
           {
            "cells": {
             "fill": {
              "color": "#EBF0F8"
             },
             "line": {
              "color": "white"
             }
            },
            "header": {
             "fill": {
              "color": "#C8D4E3"
             },
             "line": {
              "color": "white"
             }
            },
            "type": "table"
           }
          ]
         },
         "layout": {
          "annotationdefaults": {
           "arrowcolor": "#2a3f5f",
           "arrowhead": 0,
           "arrowwidth": 1
          },
          "coloraxis": {
           "colorbar": {
            "outlinewidth": 0,
            "ticks": ""
           }
          },
          "colorscale": {
           "diverging": [
            [
             0,
             "#8e0152"
            ],
            [
             0.1,
             "#c51b7d"
            ],
            [
             0.2,
             "#de77ae"
            ],
            [
             0.3,
             "#f1b6da"
            ],
            [
             0.4,
             "#fde0ef"
            ],
            [
             0.5,
             "#f7f7f7"
            ],
            [
             0.6,
             "#e6f5d0"
            ],
            [
             0.7,
             "#b8e186"
            ],
            [
             0.8,
             "#7fbc41"
            ],
            [
             0.9,
             "#4d9221"
            ],
            [
             1,
             "#276419"
            ]
           ],
           "sequential": [
            [
             0,
             "#0d0887"
            ],
            [
             0.1111111111111111,
             "#46039f"
            ],
            [
             0.2222222222222222,
             "#7201a8"
            ],
            [
             0.3333333333333333,
             "#9c179e"
            ],
            [
             0.4444444444444444,
             "#bd3786"
            ],
            [
             0.5555555555555556,
             "#d8576b"
            ],
            [
             0.6666666666666666,
             "#ed7953"
            ],
            [
             0.7777777777777778,
             "#fb9f3a"
            ],
            [
             0.8888888888888888,
             "#fdca26"
            ],
            [
             1,
             "#f0f921"
            ]
           ],
           "sequentialminus": [
            [
             0,
             "#0d0887"
            ],
            [
             0.1111111111111111,
             "#46039f"
            ],
            [
             0.2222222222222222,
             "#7201a8"
            ],
            [
             0.3333333333333333,
             "#9c179e"
            ],
            [
             0.4444444444444444,
             "#bd3786"
            ],
            [
             0.5555555555555556,
             "#d8576b"
            ],
            [
             0.6666666666666666,
             "#ed7953"
            ],
            [
             0.7777777777777778,
             "#fb9f3a"
            ],
            [
             0.8888888888888888,
             "#fdca26"
            ],
            [
             1,
             "#f0f921"
            ]
           ]
          },
          "colorway": [
           "#636efa",
           "#EF553B",
           "#00cc96",
           "#ab63fa",
           "#FFA15A",
           "#19d3f3",
           "#FF6692",
           "#B6E880",
           "#FF97FF",
           "#FECB52"
          ],
          "font": {
           "color": "#2a3f5f"
          },
          "geo": {
           "bgcolor": "white",
           "lakecolor": "white",
           "landcolor": "#E5ECF6",
           "showlakes": true,
           "showland": true,
           "subunitcolor": "white"
          },
          "hoverlabel": {
           "align": "left"
          },
          "hovermode": "closest",
          "mapbox": {
           "style": "light"
          },
          "paper_bgcolor": "white",
          "plot_bgcolor": "#E5ECF6",
          "polar": {
           "angularaxis": {
            "gridcolor": "white",
            "linecolor": "white",
            "ticks": ""
           },
           "bgcolor": "#E5ECF6",
           "radialaxis": {
            "gridcolor": "white",
            "linecolor": "white",
            "ticks": ""
           }
          },
          "scene": {
           "xaxis": {
            "backgroundcolor": "#E5ECF6",
            "gridcolor": "white",
            "gridwidth": 2,
            "linecolor": "white",
            "showbackground": true,
            "ticks": "",
            "zerolinecolor": "white"
           },
           "yaxis": {
            "backgroundcolor": "#E5ECF6",
            "gridcolor": "white",
            "gridwidth": 2,
            "linecolor": "white",
            "showbackground": true,
            "ticks": "",
            "zerolinecolor": "white"
           },
           "zaxis": {
            "backgroundcolor": "#E5ECF6",
            "gridcolor": "white",
            "gridwidth": 2,
            "linecolor": "white",
            "showbackground": true,
            "ticks": "",
            "zerolinecolor": "white"
           }
          },
          "shapedefaults": {
           "line": {
            "color": "#2a3f5f"
           }
          },
          "ternary": {
           "aaxis": {
            "gridcolor": "white",
            "linecolor": "white",
            "ticks": ""
           },
           "baxis": {
            "gridcolor": "white",
            "linecolor": "white",
            "ticks": ""
           },
           "bgcolor": "#E5ECF6",
           "caxis": {
            "gridcolor": "white",
            "linecolor": "white",
            "ticks": ""
           }
          },
          "title": {
           "x": 0.05
          },
          "xaxis": {
           "automargin": true,
           "gridcolor": "white",
           "linecolor": "white",
           "ticks": "",
           "title": {
            "standoff": 15
           },
           "zerolinecolor": "white",
           "zerolinewidth": 2
          },
          "yaxis": {
           "automargin": true,
           "gridcolor": "white",
           "linecolor": "white",
           "ticks": "",
           "title": {
            "standoff": 15
           },
           "zerolinecolor": "white",
           "zerolinewidth": 2
          }
         }
        },
        "title": {
         "text": "Total Conferences Over Time (Annually)",
         "x": 0.5,
         "xanchor": "center"
        },
        "updatemenus": [
         {
          "active": 0,
          "buttons": [
           {
            "args": [
             {
              "data": [
               {
                "hoverinfo": "x+y+name",
                "line": {
                 "color": "#5499c7",
                 "width": 1.5
                },
                "mode": "lines",
                "name": "IoT",
                "stackgroup": "",
                "x": [
                 2010,
                 2011,
                 2012,
                 2013,
                 2014,
                 2015,
                 2016,
                 2017,
                 2018,
                 2019
                ],
                "y": [
                 11,
                 21,
                 37,
                 62,
                 118,
                 222,
                 438,
                 1160,
                 2801,
                 5549
                ]
               },
               {
                "hoverinfo": "x+y+name",
                "line": {
                 "color": "#ec7063",
                 "width": 1.5
                },
                "mode": "lines",
                "name": "Security",
                "stackgroup": "",
                "x": [
                 2010,
                 2011,
                 2012,
                 2013,
                 2014,
                 2015,
                 2016,
                 2017,
                 2018,
                 2019
                ],
                "y": [
                 0,
                 0,
                 0,
                 0,
                 0,
                 9,
                 63,
                 525,
                 3065,
                 4941
                ]
               },
               {
                "hoverinfo": "x+y+name",
                "line": {
                 "color": "#cd6155",
                 "width": 1.5
                },
                "mode": "lines",
                "name": "Blockchain",
                "stackgroup": "",
                "x": [
                 2010,
                 2011,
                 2012,
                 2013,
                 2014,
                 2015,
                 2016,
                 2017,
                 2018,
                 2019
                ],
                "y": [
                 1,
                 8,
                 25,
                 90,
                 224,
                 364,
                 623,
                 1267,
                 2607,
                 4783
                ]
               },
               {
                "hoverinfo": "x+y+name",
                "line": {
                 "color": "#82FFAB",
                 "width": 1.5
                },
                "mode": "lines",
                "name": "AI/ML",
                "stackgroup": "",
                "x": [
                 2010,
                 2011,
                 2012,
                 2013,
                 2014,
                 2015,
                 2016,
                 2017,
                 2018,
                 2019
                ],
                "y": [
                 0,
                 6,
                 7,
                 14,
                 19,
                 33,
                 91,
                 452,
                 1878,
                 4340
                ]
               },
               {
                "hoverinfo": "x+y+name",
                "line": {
                 "color": "#FFC300",
                 "width": 1.5
                },
                "mode": "lines",
                "name": "JavaScript",
                "stackgroup": "",
                "x": [
                 2010,
                 2011,
                 2012,
                 2013,
                 2014,
                 2015,
                 2016,
                 2017,
                 2018,
                 2019
                ],
                "y": [
                 12,
                 35,
                 92,
                 148,
                 214,
                 324,
                 484,
                 1048,
                 2295,
                 3866
                ]
               },
               {
                "hoverinfo": "x+y+name",
                "line": {
                 "color": "#f39c12",
                 "width": 1.5
                },
                "mode": "lines",
                "name": "Cloud",
                "stackgroup": "",
                "x": [
                 2010,
                 2011,
                 2012,
                 2013,
                 2014,
                 2015,
                 2016,
                 2017,
                 2018,
                 2019
                ],
                "y": [
                 2,
                 15,
                 48,
                 84,
                 121,
                 163,
                 264,
                 645,
                 1640,
                 3286
                ]
               },
               {
                "hoverinfo": "x+y+name",
                "line": {
                 "color": "#e74c3c",
                 "width": 1.5
                },
                "mode": "lines",
                "name": "Data Science",
                "stackgroup": "",
                "x": [
                 2010,
                 2011,
                 2012,
                 2013,
                 2014,
                 2015,
                 2016,
                 2017,
                 2018,
                 2019
                ],
                "y": [
                 8,
                 18,
                 31,
                 43,
                 62,
                 97,
                 183,
                 610,
                 1674,
                 3219
                ]
               },
               {
                "hoverinfo": "x+y+name",
                "line": {
                 "color": "#8e44ad",
                 "width": 1.5
                },
                "mode": "lines",
                "name": "UI/UX",
                "stackgroup": "",
                "x": [
                 2010,
                 2011,
                 2012,
                 2013,
                 2014,
                 2015,
                 2016,
                 2017,
                 2018,
                 2019
                ],
                "y": [
                 7,
                 24,
                 52,
                 102,
                 175,
                 266,
                 419,
                 873,
                 1755,
                 3072
                ]
               },
               {
                "hoverinfo": "x+y+name",
                "line": {
                 "color": "#16a085",
                 "width": 1.5
                },
                "mode": "lines",
                "name": "Agile",
                "stackgroup": "",
                "x": [
                 2010,
                 2011,
                 2012,
                 2013,
                 2014,
                 2015,
                 2016,
                 2017,
                 2018,
                 2019
                ],
                "y": [
                 4,
                 23,
                 43,
                 82,
                 126,
                 181,
                 283,
                 688,
                 1638,
                 2952
                ]
               },
               {
                "hoverinfo": "x+y+name",
                "line": {
                 "color": "#27ae60",
                 "width": 1.5
                },
                "mode": "lines",
                "name": "Web",
                "stackgroup": "",
                "x": [
                 2010,
                 2011,
                 2012,
                 2013,
                 2014,
                 2015,
                 2016,
                 2017,
                 2018,
                 2019
                ],
                "y": [
                 25,
                 100,
                 190,
                 303,
                 420,
                 525,
                 679,
                 1031,
                 1749,
                 2669
                ]
               },
               {
                "hoverinfo": "x+y+name",
                "line": {
                 "color": "#d35400",
                 "width": 1.5
                },
                "mode": "lines",
                "name": "DevOps",
                "stackgroup": "",
                "x": [
                 2010,
                 2011,
                 2012,
                 2013,
                 2014,
                 2015,
                 2016,
                 2017,
                 2018,
                 2019
                ],
                "y": [
                 2,
                 3,
                 7,
                 20,
                 36,
                 76,
                 174,
                 523,
                 1282,
                 2432
                ]
               },
               {
                "hoverinfo": "x+y+name",
                "line": {
                 "color": "#48c9b0",
                 "width": 1.5
                },
                "mode": "lines",
                "name": "Software Development",
                "stackgroup": "",
                "x": [
                 2010,
                 2011,
                 2012,
                 2013,
                 2014,
                 2015,
                 2016,
                 2017,
                 2018,
                 2019
                ],
                "y": [
                 2,
                 10,
                 24,
                 47,
                 77,
                 114,
                 178,
                 412,
                 1117,
                 2207
                ]
               },
               {
                "hoverinfo": "x+y+name",
                "line": {
                 "color": "#5499c7",
                 "width": 1.5
                },
                "mode": "lines",
                "name": "Women in Tech",
                "stackgroup": "",
                "x": [
                 2010,
                 2011,
                 2012,
                 2013,
                 2014,
                 2015,
                 2016,
                 2017,
                 2018,
                 2019
                ],
                "y": [
                 1,
                 12,
                 20,
                 32,
                 54,
                 80,
                 178,
                 478,
                 1163,
                 2200
                ]
               },
               {
                "hoverinfo": "x+y+name",
                "line": {
                 "color": "#ec7063",
                 "width": 1.5
                },
                "mode": "lines",
                "name": "Product",
                "stackgroup": "",
                "x": [
                 2010,
                 2011,
                 2012,
                 2013,
                 2014,
                 2015,
                 2016,
                 2017,
                 2018,
                 2019
                ],
                "y": [
                 14,
                 45,
                 88,
                 138,
                 186,
                 258,
                 355,
                 619,
                 1254,
                 2168
                ]
               },
               {
                "hoverinfo": "x+y+name",
                "line": {
                 "color": "#cd6155",
                 "width": 1.5
                },
                "mode": "lines",
                "name": "Industrial Engineering",
                "stackgroup": "",
                "x": [
                 2010,
                 2011,
                 2012,
                 2013,
                 2014,
                 2015,
                 2016,
                 2017,
                 2018,
                 2019
                ],
                "y": [
                 1,
                 8,
                 12,
                 20,
                 30,
                 40,
                 59,
                 94,
                 174,
                 1118
                ]
               }
              ],
              "layout": {
               "height": 600,
               "legend": {
                "bgcolor": "rgba(0,0,0,0)",
                "x": 1,
                "y": 0.4
               },
               "plot_bgcolor": "rgba(255,255,255,1)",
               "title": {
                "text": "Total Conferences Over Time (Annually)",
                "x": 0.5,
                "xanchor": "center"
               },
               "xaxis": {
                "gridcolor": "rgba(0,0,0,.1)"
               },
               "yaxis": {
                "autorange": false,
                "gridcolor": "rgba(0,0,0,.1)",
                "gridwidth": 2,
                "range": [
                 -291.3225,
                 5826.45
                ],
                "ticklen": 5,
                "title": {
                 "text": "Conference Events"
                },
                "type": "linear"
               }
              }
             }
            ],
            "label": "linear",
            "method": "animate"
           },
           {
            "args": [
             {
              "data": [
               {
                "hoverinfo": "x+y+name",
                "line": {
                 "color": "#5499c7",
                 "width": 1.5
                },
                "mode": "lines",
                "name": "IoT",
                "stackgroup": "",
                "x": [
                 2010,
                 2011,
                 2012,
                 2013,
                 2014,
                 2015,
                 2016,
                 2017,
                 2018,
                 2019
                ],
                "y": [
                 11,
                 21,
                 37,
                 62,
                 118,
                 222,
                 438,
                 1160,
                 2801,
                 5549
                ]
               },
               {
                "hoverinfo": "x+y+name",
                "line": {
                 "color": "#ec7063",
                 "width": 1.5
                },
                "mode": "lines",
                "name": "Security",
                "stackgroup": "",
                "x": [
                 2010,
                 2011,
                 2012,
                 2013,
                 2014,
                 2015,
                 2016,
                 2017,
                 2018,
                 2019
                ],
                "y": [
                 0,
                 0,
                 0,
                 0,
                 0,
                 9,
                 63,
                 525,
                 3065,
                 4941
                ]
               },
               {
                "hoverinfo": "x+y+name",
                "line": {
                 "color": "#cd6155",
                 "width": 1.5
                },
                "mode": "lines",
                "name": "Blockchain",
                "stackgroup": "",
                "x": [
                 2010,
                 2011,
                 2012,
                 2013,
                 2014,
                 2015,
                 2016,
                 2017,
                 2018,
                 2019
                ],
                "y": [
                 1,
                 8,
                 25,
                 90,
                 224,
                 364,
                 623,
                 1267,
                 2607,
                 4783
                ]
               },
               {
                "hoverinfo": "x+y+name",
                "line": {
                 "color": "#82FFAB",
                 "width": 1.5
                },
                "mode": "lines",
                "name": "AI/ML",
                "stackgroup": "",
                "x": [
                 2010,
                 2011,
                 2012,
                 2013,
                 2014,
                 2015,
                 2016,
                 2017,
                 2018,
                 2019
                ],
                "y": [
                 0,
                 6,
                 7,
                 14,
                 19,
                 33,
                 91,
                 452,
                 1878,
                 4340
                ]
               },
               {
                "hoverinfo": "x+y+name",
                "line": {
                 "color": "#FFC300",
                 "width": 1.5
                },
                "mode": "lines",
                "name": "JavaScript",
                "stackgroup": "",
                "x": [
                 2010,
                 2011,
                 2012,
                 2013,
                 2014,
                 2015,
                 2016,
                 2017,
                 2018,
                 2019
                ],
                "y": [
                 12,
                 35,
                 92,
                 148,
                 214,
                 324,
                 484,
                 1048,
                 2295,
                 3866
                ]
               },
               {
                "hoverinfo": "x+y+name",
                "line": {
                 "color": "#f39c12",
                 "width": 1.5
                },
                "mode": "lines",
                "name": "Cloud",
                "stackgroup": "",
                "x": [
                 2010,
                 2011,
                 2012,
                 2013,
                 2014,
                 2015,
                 2016,
                 2017,
                 2018,
                 2019
                ],
                "y": [
                 2,
                 15,
                 48,
                 84,
                 121,
                 163,
                 264,
                 645,
                 1640,
                 3286
                ]
               },
               {
                "hoverinfo": "x+y+name",
                "line": {
                 "color": "#e74c3c",
                 "width": 1.5
                },
                "mode": "lines",
                "name": "Data Science",
                "stackgroup": "",
                "x": [
                 2010,
                 2011,
                 2012,
                 2013,
                 2014,
                 2015,
                 2016,
                 2017,
                 2018,
                 2019
                ],
                "y": [
                 8,
                 18,
                 31,
                 43,
                 62,
                 97,
                 183,
                 610,
                 1674,
                 3219
                ]
               },
               {
                "hoverinfo": "x+y+name",
                "line": {
                 "color": "#8e44ad",
                 "width": 1.5
                },
                "mode": "lines",
                "name": "UI/UX",
                "stackgroup": "",
                "x": [
                 2010,
                 2011,
                 2012,
                 2013,
                 2014,
                 2015,
                 2016,
                 2017,
                 2018,
                 2019
                ],
                "y": [
                 7,
                 24,
                 52,
                 102,
                 175,
                 266,
                 419,
                 873,
                 1755,
                 3072
                ]
               },
               {
                "hoverinfo": "x+y+name",
                "line": {
                 "color": "#16a085",
                 "width": 1.5
                },
                "mode": "lines",
                "name": "Agile",
                "stackgroup": "",
                "x": [
                 2010,
                 2011,
                 2012,
                 2013,
                 2014,
                 2015,
                 2016,
                 2017,
                 2018,
                 2019
                ],
                "y": [
                 4,
                 23,
                 43,
                 82,
                 126,
                 181,
                 283,
                 688,
                 1638,
                 2952
                ]
               },
               {
                "hoverinfo": "x+y+name",
                "line": {
                 "color": "#27ae60",
                 "width": 1.5
                },
                "mode": "lines",
                "name": "Web",
                "stackgroup": "",
                "x": [
                 2010,
                 2011,
                 2012,
                 2013,
                 2014,
                 2015,
                 2016,
                 2017,
                 2018,
                 2019
                ],
                "y": [
                 25,
                 100,
                 190,
                 303,
                 420,
                 525,
                 679,
                 1031,
                 1749,
                 2669
                ]
               },
               {
                "hoverinfo": "x+y+name",
                "line": {
                 "color": "#d35400",
                 "width": 1.5
                },
                "mode": "lines",
                "name": "DevOps",
                "stackgroup": "",
                "x": [
                 2010,
                 2011,
                 2012,
                 2013,
                 2014,
                 2015,
                 2016,
                 2017,
                 2018,
                 2019
                ],
                "y": [
                 2,
                 3,
                 7,
                 20,
                 36,
                 76,
                 174,
                 523,
                 1282,
                 2432
                ]
               },
               {
                "hoverinfo": "x+y+name",
                "line": {
                 "color": "#48c9b0",
                 "width": 1.5
                },
                "mode": "lines",
                "name": "Software Development",
                "stackgroup": "",
                "x": [
                 2010,
                 2011,
                 2012,
                 2013,
                 2014,
                 2015,
                 2016,
                 2017,
                 2018,
                 2019
                ],
                "y": [
                 2,
                 10,
                 24,
                 47,
                 77,
                 114,
                 178,
                 412,
                 1117,
                 2207
                ]
               },
               {
                "hoverinfo": "x+y+name",
                "line": {
                 "color": "#5499c7",
                 "width": 1.5
                },
                "mode": "lines",
                "name": "Women in Tech",
                "stackgroup": "",
                "x": [
                 2010,
                 2011,
                 2012,
                 2013,
                 2014,
                 2015,
                 2016,
                 2017,
                 2018,
                 2019
                ],
                "y": [
                 1,
                 12,
                 20,
                 32,
                 54,
                 80,
                 178,
                 478,
                 1163,
                 2200
                ]
               },
               {
                "hoverinfo": "x+y+name",
                "line": {
                 "color": "#ec7063",
                 "width": 1.5
                },
                "mode": "lines",
                "name": "Product",
                "stackgroup": "",
                "x": [
                 2010,
                 2011,
                 2012,
                 2013,
                 2014,
                 2015,
                 2016,
                 2017,
                 2018,
                 2019
                ],
                "y": [
                 14,
                 45,
                 88,
                 138,
                 186,
                 258,
                 355,
                 619,
                 1254,
                 2168
                ]
               },
               {
                "hoverinfo": "x+y+name",
                "line": {
                 "color": "#cd6155",
                 "width": 1.5
                },
                "mode": "lines",
                "name": "Industrial Engineering",
                "stackgroup": "",
                "x": [
                 2010,
                 2011,
                 2012,
                 2013,
                 2014,
                 2015,
                 2016,
                 2017,
                 2018,
                 2019
                ],
                "y": [
                 1,
                 8,
                 12,
                 20,
                 30,
                 40,
                 59,
                 94,
                 174,
                 1118
                ]
               }
              ],
              "layout": {
               "height": 600,
               "legend": {
                "bgcolor": "rgba(0,0,0,0)",
                "x": 1,
                "y": 0.4
               },
               "plot_bgcolor": "rgba(255,255,255,1)",
               "title": {
                "text": "Total Conferences Over Time (Annually)",
                "x": 0.5,
                "xanchor": "center"
               },
               "xaxis": {
                "gridcolor": "rgba(0,0,0,.1)"
               },
               "yaxis": {
                "autorange": false,
                "gridcolor": "rgba(0,0,0,.1)",
                "gridwidth": 2,
                "range": [
                 -0.1,
                 3.9536742250783092
                ],
                "ticklen": 5,
                "title": {
                 "text": "Conference Events"
                },
                "type": "log"
               }
              }
             }
            ],
            "label": "log",
            "method": "animate"
           },
           {
            "args": [
             {
              "data": [
               {
                "hoverinfo": "x+y+name",
                "line": {
                 "color": "#5499c7",
                 "width": 1.5
                },
                "mode": "lines",
                "name": "IoT",
                "stackgroup": "one",
                "x": [
                 2010,
                 2011,
                 2012,
                 2013,
                 2014,
                 2015,
                 2016,
                 2017,
                 2018,
                 2019
                ],
                "y": [
                 11,
                 21,
                 37,
                 62,
                 118,
                 222,
                 438,
                 1160,
                 2801,
                 5549
                ]
               },
               {
                "hoverinfo": "x+y+name",
                "line": {
                 "color": "#ec7063",
                 "width": 1.5
                },
                "mode": "lines",
                "name": "Security",
                "stackgroup": "one",
                "x": [
                 2010,
                 2011,
                 2012,
                 2013,
                 2014,
                 2015,
                 2016,
                 2017,
                 2018,
                 2019
                ],
                "y": [
                 0,
                 0,
                 0,
                 0,
                 0,
                 9,
                 63,
                 525,
                 3065,
                 4941
                ]
               },
               {
                "hoverinfo": "x+y+name",
                "line": {
                 "color": "#cd6155",
                 "width": 1.5
                },
                "mode": "lines",
                "name": "Blockchain",
                "stackgroup": "one",
                "x": [
                 2010,
                 2011,
                 2012,
                 2013,
                 2014,
                 2015,
                 2016,
                 2017,
                 2018,
                 2019
                ],
                "y": [
                 1,
                 8,
                 25,
                 90,
                 224,
                 364,
                 623,
                 1267,
                 2607,
                 4783
                ]
               },
               {
                "hoverinfo": "x+y+name",
                "line": {
                 "color": "#82FFAB",
                 "width": 1.5
                },
                "mode": "lines",
                "name": "AI/ML",
                "stackgroup": "one",
                "x": [
                 2010,
                 2011,
                 2012,
                 2013,
                 2014,
                 2015,
                 2016,
                 2017,
                 2018,
                 2019
                ],
                "y": [
                 0,
                 6,
                 7,
                 14,
                 19,
                 33,
                 91,
                 452,
                 1878,
                 4340
                ]
               },
               {
                "hoverinfo": "x+y+name",
                "line": {
                 "color": "#FFC300",
                 "width": 1.5
                },
                "mode": "lines",
                "name": "JavaScript",
                "stackgroup": "one",
                "x": [
                 2010,
                 2011,
                 2012,
                 2013,
                 2014,
                 2015,
                 2016,
                 2017,
                 2018,
                 2019
                ],
                "y": [
                 12,
                 35,
                 92,
                 148,
                 214,
                 324,
                 484,
                 1048,
                 2295,
                 3866
                ]
               },
               {
                "hoverinfo": "x+y+name",
                "line": {
                 "color": "#f39c12",
                 "width": 1.5
                },
                "mode": "lines",
                "name": "Cloud",
                "stackgroup": "one",
                "x": [
                 2010,
                 2011,
                 2012,
                 2013,
                 2014,
                 2015,
                 2016,
                 2017,
                 2018,
                 2019
                ],
                "y": [
                 2,
                 15,
                 48,
                 84,
                 121,
                 163,
                 264,
                 645,
                 1640,
                 3286
                ]
               },
               {
                "hoverinfo": "x+y+name",
                "line": {
                 "color": "#e74c3c",
                 "width": 1.5
                },
                "mode": "lines",
                "name": "Data Science",
                "stackgroup": "one",
                "x": [
                 2010,
                 2011,
                 2012,
                 2013,
                 2014,
                 2015,
                 2016,
                 2017,
                 2018,
                 2019
                ],
                "y": [
                 8,
                 18,
                 31,
                 43,
                 62,
                 97,
                 183,
                 610,
                 1674,
                 3219
                ]
               },
               {
                "hoverinfo": "x+y+name",
                "line": {
                 "color": "#8e44ad",
                 "width": 1.5
                },
                "mode": "lines",
                "name": "UI/UX",
                "stackgroup": "one",
                "x": [
                 2010,
                 2011,
                 2012,
                 2013,
                 2014,
                 2015,
                 2016,
                 2017,
                 2018,
                 2019
                ],
                "y": [
                 7,
                 24,
                 52,
                 102,
                 175,
                 266,
                 419,
                 873,
                 1755,
                 3072
                ]
               },
               {
                "hoverinfo": "x+y+name",
                "line": {
                 "color": "#16a085",
                 "width": 1.5
                },
                "mode": "lines",
                "name": "Agile",
                "stackgroup": "one",
                "x": [
                 2010,
                 2011,
                 2012,
                 2013,
                 2014,
                 2015,
                 2016,
                 2017,
                 2018,
                 2019
                ],
                "y": [
                 4,
                 23,
                 43,
                 82,
                 126,
                 181,
                 283,
                 688,
                 1638,
                 2952
                ]
               },
               {
                "hoverinfo": "x+y+name",
                "line": {
                 "color": "#27ae60",
                 "width": 1.5
                },
                "mode": "lines",
                "name": "Web",
                "stackgroup": "one",
                "x": [
                 2010,
                 2011,
                 2012,
                 2013,
                 2014,
                 2015,
                 2016,
                 2017,
                 2018,
                 2019
                ],
                "y": [
                 25,
                 100,
                 190,
                 303,
                 420,
                 525,
                 679,
                 1031,
                 1749,
                 2669
                ]
               },
               {
                "hoverinfo": "x+y+name",
                "line": {
                 "color": "#d35400",
                 "width": 1.5
                },
                "mode": "lines",
                "name": "DevOps",
                "stackgroup": "one",
                "x": [
                 2010,
                 2011,
                 2012,
                 2013,
                 2014,
                 2015,
                 2016,
                 2017,
                 2018,
                 2019
                ],
                "y": [
                 2,
                 3,
                 7,
                 20,
                 36,
                 76,
                 174,
                 523,
                 1282,
                 2432
                ]
               },
               {
                "hoverinfo": "x+y+name",
                "line": {
                 "color": "#48c9b0",
                 "width": 1.5
                },
                "mode": "lines",
                "name": "Software Development",
                "stackgroup": "one",
                "x": [
                 2010,
                 2011,
                 2012,
                 2013,
                 2014,
                 2015,
                 2016,
                 2017,
                 2018,
                 2019
                ],
                "y": [
                 2,
                 10,
                 24,
                 47,
                 77,
                 114,
                 178,
                 412,
                 1117,
                 2207
                ]
               },
               {
                "hoverinfo": "x+y+name",
                "line": {
                 "color": "#5499c7",
                 "width": 1.5
                },
                "mode": "lines",
                "name": "Women in Tech",
                "stackgroup": "one",
                "x": [
                 2010,
                 2011,
                 2012,
                 2013,
                 2014,
                 2015,
                 2016,
                 2017,
                 2018,
                 2019
                ],
                "y": [
                 1,
                 12,
                 20,
                 32,
                 54,
                 80,
                 178,
                 478,
                 1163,
                 2200
                ]
               },
               {
                "hoverinfo": "x+y+name",
                "line": {
                 "color": "#ec7063",
                 "width": 1.5
                },
                "mode": "lines",
                "name": "Product",
                "stackgroup": "one",
                "x": [
                 2010,
                 2011,
                 2012,
                 2013,
                 2014,
                 2015,
                 2016,
                 2017,
                 2018,
                 2019
                ],
                "y": [
                 14,
                 45,
                 88,
                 138,
                 186,
                 258,
                 355,
                 619,
                 1254,
                 2168
                ]
               },
               {
                "hoverinfo": "x+y+name",
                "line": {
                 "color": "#cd6155",
                 "width": 1.5
                },
                "mode": "lines",
                "name": "Industrial Engineering",
                "stackgroup": "one",
                "x": [
                 2010,
                 2011,
                 2012,
                 2013,
                 2014,
                 2015,
                 2016,
                 2017,
                 2018,
                 2019
                ],
                "y": [
                 1,
                 8,
                 12,
                 20,
                 30,
                 40,
                 59,
                 94,
                 174,
                 1118
                ]
               }
              ],
              "layout": {
               "height": 600,
               "legend": {
                "bgcolor": "rgba(0,0,0,0)",
                "x": 1,
                "y": 0.4
               },
               "plot_bgcolor": "rgba(255,255,255,1)",
               "title": {
                "text": "Total Conferences Over Time (Annually)",
                "x": 0.5,
                "xanchor": "center"
               },
               "xaxis": {
                "gridcolor": "rgba(0,0,0,.1)"
               },
               "yaxis": {
                "autorange": false,
                "gridcolor": "rgba(0,0,0,.1)",
                "gridwidth": 2,
                "range": [
                 -2562.105,
                 51242.1
                ],
                "ticklen": 5,
                "title": {
                 "text": "Conference Events"
                },
                "type": "linear"
               }
              }
             }
            ],
            "label": "stack",
            "method": "animate"
           }
          ],
          "direction": "right",
          "pad": {
           "r": 10,
           "t": 10
          },
          "showactive": true,
          "type": "buttons",
          "x": 0.25,
          "y": 1.115,
          "yanchor": "top"
         }
        ],
        "xaxis": {
         "gridcolor": "rgba(0,0,0,.1)"
        },
        "yaxis": {
         "autorange": false,
         "gridcolor": "rgba(0,0,0,.1)",
         "gridwidth": 2,
         "range": [
          -291.3225,
          5826.45
         ],
         "ticklen": 5,
         "title": {
          "text": "Conference Events"
         },
         "type": "linear"
        }
       }
      },
      "text/html": [
       "<div>\n",
       "        \n",
       "        \n",
       "            <div id=\"7096e874-8fdc-4b40-8b0e-1504e7f63894\" class=\"plotly-graph-div\" style=\"height:600px; width:100%;\"></div>\n",
       "            <script type=\"text/javascript\">\n",
       "                require([\"plotly\"], function(Plotly) {\n",
       "                    window.PLOTLYENV=window.PLOTLYENV || {};\n",
       "                    \n",
       "                if (document.getElementById(\"7096e874-8fdc-4b40-8b0e-1504e7f63894\")) {\n",
       "                    Plotly.newPlot(\n",
       "                        '7096e874-8fdc-4b40-8b0e-1504e7f63894',\n",
       "                        [{\"hoverinfo\": \"x+y+name\", \"line\": {\"color\": \"#5499c7\", \"width\": 1.5}, \"mode\": \"lines\", \"name\": \"IoT\", \"stackgroup\": \"\", \"type\": \"scatter\", \"x\": [2010, 2011, 2012, 2013, 2014, 2015, 2016, 2017, 2018, 2019], \"y\": [11, 21, 37, 62, 118, 222, 438, 1160, 2801, 5549]}, {\"hoverinfo\": \"x+y+name\", \"line\": {\"color\": \"#ec7063\", \"width\": 1.5}, \"mode\": \"lines\", \"name\": \"Security\", \"stackgroup\": \"\", \"type\": \"scatter\", \"x\": [2010, 2011, 2012, 2013, 2014, 2015, 2016, 2017, 2018, 2019], \"y\": [0, 0, 0, 0, 0, 9, 63, 525, 3065, 4941]}, {\"hoverinfo\": \"x+y+name\", \"line\": {\"color\": \"#cd6155\", \"width\": 1.5}, \"mode\": \"lines\", \"name\": \"Blockchain\", \"stackgroup\": \"\", \"type\": \"scatter\", \"x\": [2010, 2011, 2012, 2013, 2014, 2015, 2016, 2017, 2018, 2019], \"y\": [1, 8, 25, 90, 224, 364, 623, 1267, 2607, 4783]}, {\"hoverinfo\": \"x+y+name\", \"line\": {\"color\": \"#82FFAB\", \"width\": 1.5}, \"mode\": \"lines\", \"name\": \"AI/ML\", \"stackgroup\": \"\", \"type\": \"scatter\", \"x\": [2010, 2011, 2012, 2013, 2014, 2015, 2016, 2017, 2018, 2019], \"y\": [0, 6, 7, 14, 19, 33, 91, 452, 1878, 4340]}, {\"hoverinfo\": \"x+y+name\", \"line\": {\"color\": \"#FFC300\", \"width\": 1.5}, \"mode\": \"lines\", \"name\": \"JavaScript\", \"stackgroup\": \"\", \"type\": \"scatter\", \"x\": [2010, 2011, 2012, 2013, 2014, 2015, 2016, 2017, 2018, 2019], \"y\": [12, 35, 92, 148, 214, 324, 484, 1048, 2295, 3866]}, {\"hoverinfo\": \"x+y+name\", \"line\": {\"color\": \"#f39c12\", \"width\": 1.5}, \"mode\": \"lines\", \"name\": \"Cloud\", \"stackgroup\": \"\", \"type\": \"scatter\", \"x\": [2010, 2011, 2012, 2013, 2014, 2015, 2016, 2017, 2018, 2019], \"y\": [2, 15, 48, 84, 121, 163, 264, 645, 1640, 3286]}, {\"hoverinfo\": \"x+y+name\", \"line\": {\"color\": \"#e74c3c\", \"width\": 1.5}, \"mode\": \"lines\", \"name\": \"Data Science\", \"stackgroup\": \"\", \"type\": \"scatter\", \"x\": [2010, 2011, 2012, 2013, 2014, 2015, 2016, 2017, 2018, 2019], \"y\": [8, 18, 31, 43, 62, 97, 183, 610, 1674, 3219]}, {\"hoverinfo\": \"x+y+name\", \"line\": {\"color\": \"#8e44ad\", \"width\": 1.5}, \"mode\": \"lines\", \"name\": \"UI/UX\", \"stackgroup\": \"\", \"type\": \"scatter\", \"x\": [2010, 2011, 2012, 2013, 2014, 2015, 2016, 2017, 2018, 2019], \"y\": [7, 24, 52, 102, 175, 266, 419, 873, 1755, 3072]}, {\"hoverinfo\": \"x+y+name\", \"line\": {\"color\": \"#16a085\", \"width\": 1.5}, \"mode\": \"lines\", \"name\": \"Agile\", \"stackgroup\": \"\", \"type\": \"scatter\", \"x\": [2010, 2011, 2012, 2013, 2014, 2015, 2016, 2017, 2018, 2019], \"y\": [4, 23, 43, 82, 126, 181, 283, 688, 1638, 2952]}, {\"hoverinfo\": \"x+y+name\", \"line\": {\"color\": \"#27ae60\", \"width\": 1.5}, \"mode\": \"lines\", \"name\": \"Web\", \"stackgroup\": \"\", \"type\": \"scatter\", \"x\": [2010, 2011, 2012, 2013, 2014, 2015, 2016, 2017, 2018, 2019], \"y\": [25, 100, 190, 303, 420, 525, 679, 1031, 1749, 2669]}, {\"hoverinfo\": \"x+y+name\", \"line\": {\"color\": \"#d35400\", \"width\": 1.5}, \"mode\": \"lines\", \"name\": \"DevOps\", \"stackgroup\": \"\", \"type\": \"scatter\", \"x\": [2010, 2011, 2012, 2013, 2014, 2015, 2016, 2017, 2018, 2019], \"y\": [2, 3, 7, 20, 36, 76, 174, 523, 1282, 2432]}, {\"hoverinfo\": \"x+y+name\", \"line\": {\"color\": \"#48c9b0\", \"width\": 1.5}, \"mode\": \"lines\", \"name\": \"Software Development\", \"stackgroup\": \"\", \"type\": \"scatter\", \"x\": [2010, 2011, 2012, 2013, 2014, 2015, 2016, 2017, 2018, 2019], \"y\": [2, 10, 24, 47, 77, 114, 178, 412, 1117, 2207]}, {\"hoverinfo\": \"x+y+name\", \"line\": {\"color\": \"#5499c7\", \"width\": 1.5}, \"mode\": \"lines\", \"name\": \"Women in Tech\", \"stackgroup\": \"\", \"type\": \"scatter\", \"x\": [2010, 2011, 2012, 2013, 2014, 2015, 2016, 2017, 2018, 2019], \"y\": [1, 12, 20, 32, 54, 80, 178, 478, 1163, 2200]}, {\"hoverinfo\": \"x+y+name\", \"line\": {\"color\": \"#ec7063\", \"width\": 1.5}, \"mode\": \"lines\", \"name\": \"Product\", \"stackgroup\": \"\", \"type\": \"scatter\", \"x\": [2010, 2011, 2012, 2013, 2014, 2015, 2016, 2017, 2018, 2019], \"y\": [14, 45, 88, 138, 186, 258, 355, 619, 1254, 2168]}, {\"hoverinfo\": \"x+y+name\", \"line\": {\"color\": \"#cd6155\", \"width\": 1.5}, \"mode\": \"lines\", \"name\": \"Industrial Engineering\", \"stackgroup\": \"\", \"type\": \"scatter\", \"x\": [2010, 2011, 2012, 2013, 2014, 2015, 2016, 2017, 2018, 2019], \"y\": [1, 8, 12, 20, 30, 40, 59, 94, 174, 1118]}],\n",
       "                        {\"height\": 600, \"legend\": {\"bgcolor\": \"rgba(0,0,0,0)\", \"x\": 1, \"y\": 0.4}, \"plot_bgcolor\": \"rgba(255,255,255,1)\", \"template\": {\"data\": {\"bar\": [{\"error_x\": {\"color\": \"#2a3f5f\"}, \"error_y\": {\"color\": \"#2a3f5f\"}, \"marker\": {\"line\": {\"color\": \"#E5ECF6\", \"width\": 0.5}}, \"type\": \"bar\"}], \"barpolar\": [{\"marker\": {\"line\": {\"color\": \"#E5ECF6\", \"width\": 0.5}}, \"type\": \"barpolar\"}], \"carpet\": [{\"aaxis\": {\"endlinecolor\": \"#2a3f5f\", \"gridcolor\": \"white\", \"linecolor\": \"white\", \"minorgridcolor\": \"white\", \"startlinecolor\": \"#2a3f5f\"}, \"baxis\": {\"endlinecolor\": \"#2a3f5f\", \"gridcolor\": \"white\", \"linecolor\": \"white\", \"minorgridcolor\": \"white\", \"startlinecolor\": \"#2a3f5f\"}, \"type\": \"carpet\"}], \"choropleth\": [{\"colorbar\": {\"outlinewidth\": 0, \"ticks\": \"\"}, \"type\": \"choropleth\"}], \"contour\": [{\"colorbar\": {\"outlinewidth\": 0, \"ticks\": \"\"}, \"colorscale\": [[0.0, \"#0d0887\"], [0.1111111111111111, \"#46039f\"], [0.2222222222222222, \"#7201a8\"], [0.3333333333333333, \"#9c179e\"], [0.4444444444444444, \"#bd3786\"], [0.5555555555555556, \"#d8576b\"], [0.6666666666666666, \"#ed7953\"], [0.7777777777777778, \"#fb9f3a\"], [0.8888888888888888, \"#fdca26\"], [1.0, \"#f0f921\"]], \"type\": \"contour\"}], \"contourcarpet\": [{\"colorbar\": {\"outlinewidth\": 0, \"ticks\": \"\"}, \"type\": \"contourcarpet\"}], \"heatmap\": [{\"colorbar\": {\"outlinewidth\": 0, \"ticks\": \"\"}, \"colorscale\": [[0.0, \"#0d0887\"], [0.1111111111111111, \"#46039f\"], [0.2222222222222222, \"#7201a8\"], [0.3333333333333333, \"#9c179e\"], [0.4444444444444444, \"#bd3786\"], [0.5555555555555556, \"#d8576b\"], [0.6666666666666666, \"#ed7953\"], [0.7777777777777778, \"#fb9f3a\"], [0.8888888888888888, \"#fdca26\"], [1.0, \"#f0f921\"]], \"type\": \"heatmap\"}], \"heatmapgl\": [{\"colorbar\": {\"outlinewidth\": 0, \"ticks\": \"\"}, \"colorscale\": [[0.0, \"#0d0887\"], [0.1111111111111111, \"#46039f\"], [0.2222222222222222, \"#7201a8\"], [0.3333333333333333, \"#9c179e\"], [0.4444444444444444, \"#bd3786\"], [0.5555555555555556, \"#d8576b\"], [0.6666666666666666, \"#ed7953\"], [0.7777777777777778, \"#fb9f3a\"], [0.8888888888888888, \"#fdca26\"], [1.0, \"#f0f921\"]], \"type\": \"heatmapgl\"}], \"histogram\": [{\"marker\": {\"colorbar\": {\"outlinewidth\": 0, \"ticks\": \"\"}}, \"type\": \"histogram\"}], \"histogram2d\": [{\"colorbar\": {\"outlinewidth\": 0, \"ticks\": \"\"}, \"colorscale\": [[0.0, \"#0d0887\"], [0.1111111111111111, \"#46039f\"], [0.2222222222222222, \"#7201a8\"], [0.3333333333333333, \"#9c179e\"], [0.4444444444444444, \"#bd3786\"], [0.5555555555555556, \"#d8576b\"], [0.6666666666666666, \"#ed7953\"], [0.7777777777777778, \"#fb9f3a\"], [0.8888888888888888, \"#fdca26\"], [1.0, \"#f0f921\"]], \"type\": \"histogram2d\"}], \"histogram2dcontour\": [{\"colorbar\": {\"outlinewidth\": 0, \"ticks\": \"\"}, \"colorscale\": [[0.0, \"#0d0887\"], [0.1111111111111111, \"#46039f\"], [0.2222222222222222, \"#7201a8\"], [0.3333333333333333, \"#9c179e\"], [0.4444444444444444, \"#bd3786\"], [0.5555555555555556, \"#d8576b\"], [0.6666666666666666, \"#ed7953\"], [0.7777777777777778, \"#fb9f3a\"], [0.8888888888888888, \"#fdca26\"], [1.0, \"#f0f921\"]], \"type\": \"histogram2dcontour\"}], \"mesh3d\": [{\"colorbar\": {\"outlinewidth\": 0, \"ticks\": \"\"}, \"type\": \"mesh3d\"}], \"parcoords\": [{\"line\": {\"colorbar\": {\"outlinewidth\": 0, \"ticks\": \"\"}}, \"type\": \"parcoords\"}], \"pie\": [{\"automargin\": true, \"type\": \"pie\"}], \"scatter\": [{\"marker\": {\"colorbar\": {\"outlinewidth\": 0, \"ticks\": \"\"}}, \"type\": \"scatter\"}], \"scatter3d\": [{\"line\": {\"colorbar\": {\"outlinewidth\": 0, \"ticks\": \"\"}}, \"marker\": {\"colorbar\": {\"outlinewidth\": 0, \"ticks\": \"\"}}, \"type\": \"scatter3d\"}], \"scattercarpet\": [{\"marker\": {\"colorbar\": {\"outlinewidth\": 0, \"ticks\": \"\"}}, \"type\": \"scattercarpet\"}], \"scattergeo\": [{\"marker\": {\"colorbar\": {\"outlinewidth\": 0, \"ticks\": \"\"}}, \"type\": \"scattergeo\"}], \"scattergl\": [{\"marker\": {\"colorbar\": {\"outlinewidth\": 0, \"ticks\": \"\"}}, \"type\": \"scattergl\"}], \"scattermapbox\": [{\"marker\": {\"colorbar\": {\"outlinewidth\": 0, \"ticks\": \"\"}}, \"type\": \"scattermapbox\"}], \"scatterpolar\": [{\"marker\": {\"colorbar\": {\"outlinewidth\": 0, \"ticks\": \"\"}}, \"type\": \"scatterpolar\"}], \"scatterpolargl\": [{\"marker\": {\"colorbar\": {\"outlinewidth\": 0, \"ticks\": \"\"}}, \"type\": \"scatterpolargl\"}], \"scatterternary\": [{\"marker\": {\"colorbar\": {\"outlinewidth\": 0, \"ticks\": \"\"}}, \"type\": \"scatterternary\"}], \"surface\": [{\"colorbar\": {\"outlinewidth\": 0, \"ticks\": \"\"}, \"colorscale\": [[0.0, \"#0d0887\"], [0.1111111111111111, \"#46039f\"], [0.2222222222222222, \"#7201a8\"], [0.3333333333333333, \"#9c179e\"], [0.4444444444444444, \"#bd3786\"], [0.5555555555555556, \"#d8576b\"], [0.6666666666666666, \"#ed7953\"], [0.7777777777777778, \"#fb9f3a\"], [0.8888888888888888, \"#fdca26\"], [1.0, \"#f0f921\"]], \"type\": \"surface\"}], \"table\": [{\"cells\": {\"fill\": {\"color\": \"#EBF0F8\"}, \"line\": {\"color\": \"white\"}}, \"header\": {\"fill\": {\"color\": \"#C8D4E3\"}, \"line\": {\"color\": \"white\"}}, \"type\": \"table\"}]}, \"layout\": {\"annotationdefaults\": {\"arrowcolor\": \"#2a3f5f\", \"arrowhead\": 0, \"arrowwidth\": 1}, \"coloraxis\": {\"colorbar\": {\"outlinewidth\": 0, \"ticks\": \"\"}}, \"colorscale\": {\"diverging\": [[0, \"#8e0152\"], [0.1, \"#c51b7d\"], [0.2, \"#de77ae\"], [0.3, \"#f1b6da\"], [0.4, \"#fde0ef\"], [0.5, \"#f7f7f7\"], [0.6, \"#e6f5d0\"], [0.7, \"#b8e186\"], [0.8, \"#7fbc41\"], [0.9, \"#4d9221\"], [1, \"#276419\"]], \"sequential\": [[0.0, \"#0d0887\"], [0.1111111111111111, \"#46039f\"], [0.2222222222222222, \"#7201a8\"], [0.3333333333333333, \"#9c179e\"], [0.4444444444444444, \"#bd3786\"], [0.5555555555555556, \"#d8576b\"], [0.6666666666666666, \"#ed7953\"], [0.7777777777777778, \"#fb9f3a\"], [0.8888888888888888, \"#fdca26\"], [1.0, \"#f0f921\"]], \"sequentialminus\": [[0.0, \"#0d0887\"], [0.1111111111111111, \"#46039f\"], [0.2222222222222222, \"#7201a8\"], [0.3333333333333333, \"#9c179e\"], [0.4444444444444444, \"#bd3786\"], [0.5555555555555556, \"#d8576b\"], [0.6666666666666666, \"#ed7953\"], [0.7777777777777778, \"#fb9f3a\"], [0.8888888888888888, \"#fdca26\"], [1.0, \"#f0f921\"]]}, \"colorway\": [\"#636efa\", \"#EF553B\", \"#00cc96\", \"#ab63fa\", \"#FFA15A\", \"#19d3f3\", \"#FF6692\", \"#B6E880\", \"#FF97FF\", \"#FECB52\"], \"font\": {\"color\": \"#2a3f5f\"}, \"geo\": {\"bgcolor\": \"white\", \"lakecolor\": \"white\", \"landcolor\": \"#E5ECF6\", \"showlakes\": true, \"showland\": true, \"subunitcolor\": \"white\"}, \"hoverlabel\": {\"align\": \"left\"}, \"hovermode\": \"closest\", \"mapbox\": {\"style\": \"light\"}, \"paper_bgcolor\": \"white\", \"plot_bgcolor\": \"#E5ECF6\", \"polar\": {\"angularaxis\": {\"gridcolor\": \"white\", \"linecolor\": \"white\", \"ticks\": \"\"}, \"bgcolor\": \"#E5ECF6\", \"radialaxis\": {\"gridcolor\": \"white\", \"linecolor\": \"white\", \"ticks\": \"\"}}, \"scene\": {\"xaxis\": {\"backgroundcolor\": \"#E5ECF6\", \"gridcolor\": \"white\", \"gridwidth\": 2, \"linecolor\": \"white\", \"showbackground\": true, \"ticks\": \"\", \"zerolinecolor\": \"white\"}, \"yaxis\": {\"backgroundcolor\": \"#E5ECF6\", \"gridcolor\": \"white\", \"gridwidth\": 2, \"linecolor\": \"white\", \"showbackground\": true, \"ticks\": \"\", \"zerolinecolor\": \"white\"}, \"zaxis\": {\"backgroundcolor\": \"#E5ECF6\", \"gridcolor\": \"white\", \"gridwidth\": 2, \"linecolor\": \"white\", \"showbackground\": true, \"ticks\": \"\", \"zerolinecolor\": \"white\"}}, \"shapedefaults\": {\"line\": {\"color\": \"#2a3f5f\"}}, \"ternary\": {\"aaxis\": {\"gridcolor\": \"white\", \"linecolor\": \"white\", \"ticks\": \"\"}, \"baxis\": {\"gridcolor\": \"white\", \"linecolor\": \"white\", \"ticks\": \"\"}, \"bgcolor\": \"#E5ECF6\", \"caxis\": {\"gridcolor\": \"white\", \"linecolor\": \"white\", \"ticks\": \"\"}}, \"title\": {\"x\": 0.05}, \"xaxis\": {\"automargin\": true, \"gridcolor\": \"white\", \"linecolor\": \"white\", \"ticks\": \"\", \"title\": {\"standoff\": 15}, \"zerolinecolor\": \"white\", \"zerolinewidth\": 2}, \"yaxis\": {\"automargin\": true, \"gridcolor\": \"white\", \"linecolor\": \"white\", \"ticks\": \"\", \"title\": {\"standoff\": 15}, \"zerolinecolor\": \"white\", \"zerolinewidth\": 2}}}, \"title\": {\"text\": \"Total Conferences Over Time (Annually)\", \"x\": 0.5, \"xanchor\": \"center\"}, \"updatemenus\": [{\"active\": 0, \"buttons\": [{\"args\": [{\"data\": [{\"hoverinfo\": \"x+y+name\", \"line\": {\"color\": \"#5499c7\", \"width\": 1.5}, \"mode\": \"lines\", \"name\": \"IoT\", \"stackgroup\": \"\", \"x\": [2010, 2011, 2012, 2013, 2014, 2015, 2016, 2017, 2018, 2019], \"y\": [11, 21, 37, 62, 118, 222, 438, 1160, 2801, 5549]}, {\"hoverinfo\": \"x+y+name\", \"line\": {\"color\": \"#ec7063\", \"width\": 1.5}, \"mode\": \"lines\", \"name\": \"Security\", \"stackgroup\": \"\", \"x\": [2010, 2011, 2012, 2013, 2014, 2015, 2016, 2017, 2018, 2019], \"y\": [0, 0, 0, 0, 0, 9, 63, 525, 3065, 4941]}, {\"hoverinfo\": \"x+y+name\", \"line\": {\"color\": \"#cd6155\", \"width\": 1.5}, \"mode\": \"lines\", \"name\": \"Blockchain\", \"stackgroup\": \"\", \"x\": [2010, 2011, 2012, 2013, 2014, 2015, 2016, 2017, 2018, 2019], \"y\": [1, 8, 25, 90, 224, 364, 623, 1267, 2607, 4783]}, {\"hoverinfo\": \"x+y+name\", \"line\": {\"color\": \"#82FFAB\", \"width\": 1.5}, \"mode\": \"lines\", \"name\": \"AI/ML\", \"stackgroup\": \"\", \"x\": [2010, 2011, 2012, 2013, 2014, 2015, 2016, 2017, 2018, 2019], \"y\": [0, 6, 7, 14, 19, 33, 91, 452, 1878, 4340]}, {\"hoverinfo\": \"x+y+name\", \"line\": {\"color\": \"#FFC300\", \"width\": 1.5}, \"mode\": \"lines\", \"name\": \"JavaScript\", \"stackgroup\": \"\", \"x\": [2010, 2011, 2012, 2013, 2014, 2015, 2016, 2017, 2018, 2019], \"y\": [12, 35, 92, 148, 214, 324, 484, 1048, 2295, 3866]}, {\"hoverinfo\": \"x+y+name\", \"line\": {\"color\": \"#f39c12\", \"width\": 1.5}, \"mode\": \"lines\", \"name\": \"Cloud\", \"stackgroup\": \"\", \"x\": [2010, 2011, 2012, 2013, 2014, 2015, 2016, 2017, 2018, 2019], \"y\": [2, 15, 48, 84, 121, 163, 264, 645, 1640, 3286]}, {\"hoverinfo\": \"x+y+name\", \"line\": {\"color\": \"#e74c3c\", \"width\": 1.5}, \"mode\": \"lines\", \"name\": \"Data Science\", \"stackgroup\": \"\", \"x\": [2010, 2011, 2012, 2013, 2014, 2015, 2016, 2017, 2018, 2019], \"y\": [8, 18, 31, 43, 62, 97, 183, 610, 1674, 3219]}, {\"hoverinfo\": \"x+y+name\", \"line\": {\"color\": \"#8e44ad\", \"width\": 1.5}, \"mode\": \"lines\", \"name\": \"UI/UX\", \"stackgroup\": \"\", \"x\": [2010, 2011, 2012, 2013, 2014, 2015, 2016, 2017, 2018, 2019], \"y\": [7, 24, 52, 102, 175, 266, 419, 873, 1755, 3072]}, {\"hoverinfo\": \"x+y+name\", \"line\": {\"color\": \"#16a085\", \"width\": 1.5}, \"mode\": \"lines\", \"name\": \"Agile\", \"stackgroup\": \"\", \"x\": [2010, 2011, 2012, 2013, 2014, 2015, 2016, 2017, 2018, 2019], \"y\": [4, 23, 43, 82, 126, 181, 283, 688, 1638, 2952]}, {\"hoverinfo\": \"x+y+name\", \"line\": {\"color\": \"#27ae60\", \"width\": 1.5}, \"mode\": \"lines\", \"name\": \"Web\", \"stackgroup\": \"\", \"x\": [2010, 2011, 2012, 2013, 2014, 2015, 2016, 2017, 2018, 2019], \"y\": [25, 100, 190, 303, 420, 525, 679, 1031, 1749, 2669]}, {\"hoverinfo\": \"x+y+name\", \"line\": {\"color\": \"#d35400\", \"width\": 1.5}, \"mode\": \"lines\", \"name\": \"DevOps\", \"stackgroup\": \"\", \"x\": [2010, 2011, 2012, 2013, 2014, 2015, 2016, 2017, 2018, 2019], \"y\": [2, 3, 7, 20, 36, 76, 174, 523, 1282, 2432]}, {\"hoverinfo\": \"x+y+name\", \"line\": {\"color\": \"#48c9b0\", \"width\": 1.5}, \"mode\": \"lines\", \"name\": \"Software Development\", \"stackgroup\": \"\", \"x\": [2010, 2011, 2012, 2013, 2014, 2015, 2016, 2017, 2018, 2019], \"y\": [2, 10, 24, 47, 77, 114, 178, 412, 1117, 2207]}, {\"hoverinfo\": \"x+y+name\", \"line\": {\"color\": \"#5499c7\", \"width\": 1.5}, \"mode\": \"lines\", \"name\": \"Women in Tech\", \"stackgroup\": \"\", \"x\": [2010, 2011, 2012, 2013, 2014, 2015, 2016, 2017, 2018, 2019], \"y\": [1, 12, 20, 32, 54, 80, 178, 478, 1163, 2200]}, {\"hoverinfo\": \"x+y+name\", \"line\": {\"color\": \"#ec7063\", \"width\": 1.5}, \"mode\": \"lines\", \"name\": \"Product\", \"stackgroup\": \"\", \"x\": [2010, 2011, 2012, 2013, 2014, 2015, 2016, 2017, 2018, 2019], \"y\": [14, 45, 88, 138, 186, 258, 355, 619, 1254, 2168]}, {\"hoverinfo\": \"x+y+name\", \"line\": {\"color\": \"#cd6155\", \"width\": 1.5}, \"mode\": \"lines\", \"name\": \"Industrial Engineering\", \"stackgroup\": \"\", \"x\": [2010, 2011, 2012, 2013, 2014, 2015, 2016, 2017, 2018, 2019], \"y\": [1, 8, 12, 20, 30, 40, 59, 94, 174, 1118]}], \"layout\": {\"height\": 600, \"legend\": {\"bgcolor\": \"rgba(0,0,0,0)\", \"x\": 1, \"y\": 0.4}, \"plot_bgcolor\": \"rgba(255,255,255,1)\", \"title\": {\"text\": \"Total Conferences Over Time (Annually)\", \"x\": 0.5, \"xanchor\": \"center\"}, \"xaxis\": {\"gridcolor\": \"rgba(0,0,0,.1)\"}, \"yaxis\": {\"autorange\": false, \"gridcolor\": \"rgba(0,0,0,.1)\", \"gridwidth\": 2, \"range\": [-291.3225, 5826.45], \"ticklen\": 5, \"title\": {\"text\": \"Conference Events\"}, \"type\": \"linear\"}}}], \"label\": \"linear\", \"method\": \"animate\"}, {\"args\": [{\"data\": [{\"hoverinfo\": \"x+y+name\", \"line\": {\"color\": \"#5499c7\", \"width\": 1.5}, \"mode\": \"lines\", \"name\": \"IoT\", \"stackgroup\": \"\", \"x\": [2010, 2011, 2012, 2013, 2014, 2015, 2016, 2017, 2018, 2019], \"y\": [11, 21, 37, 62, 118, 222, 438, 1160, 2801, 5549]}, {\"hoverinfo\": \"x+y+name\", \"line\": {\"color\": \"#ec7063\", \"width\": 1.5}, \"mode\": \"lines\", \"name\": \"Security\", \"stackgroup\": \"\", \"x\": [2010, 2011, 2012, 2013, 2014, 2015, 2016, 2017, 2018, 2019], \"y\": [0, 0, 0, 0, 0, 9, 63, 525, 3065, 4941]}, {\"hoverinfo\": \"x+y+name\", \"line\": {\"color\": \"#cd6155\", \"width\": 1.5}, \"mode\": \"lines\", \"name\": \"Blockchain\", \"stackgroup\": \"\", \"x\": [2010, 2011, 2012, 2013, 2014, 2015, 2016, 2017, 2018, 2019], \"y\": [1, 8, 25, 90, 224, 364, 623, 1267, 2607, 4783]}, {\"hoverinfo\": \"x+y+name\", \"line\": {\"color\": \"#82FFAB\", \"width\": 1.5}, \"mode\": \"lines\", \"name\": \"AI/ML\", \"stackgroup\": \"\", \"x\": [2010, 2011, 2012, 2013, 2014, 2015, 2016, 2017, 2018, 2019], \"y\": [0, 6, 7, 14, 19, 33, 91, 452, 1878, 4340]}, {\"hoverinfo\": \"x+y+name\", \"line\": {\"color\": \"#FFC300\", \"width\": 1.5}, \"mode\": \"lines\", \"name\": \"JavaScript\", \"stackgroup\": \"\", \"x\": [2010, 2011, 2012, 2013, 2014, 2015, 2016, 2017, 2018, 2019], \"y\": [12, 35, 92, 148, 214, 324, 484, 1048, 2295, 3866]}, {\"hoverinfo\": \"x+y+name\", \"line\": {\"color\": \"#f39c12\", \"width\": 1.5}, \"mode\": \"lines\", \"name\": \"Cloud\", \"stackgroup\": \"\", \"x\": [2010, 2011, 2012, 2013, 2014, 2015, 2016, 2017, 2018, 2019], \"y\": [2, 15, 48, 84, 121, 163, 264, 645, 1640, 3286]}, {\"hoverinfo\": \"x+y+name\", \"line\": {\"color\": \"#e74c3c\", \"width\": 1.5}, \"mode\": \"lines\", \"name\": \"Data Science\", \"stackgroup\": \"\", \"x\": [2010, 2011, 2012, 2013, 2014, 2015, 2016, 2017, 2018, 2019], \"y\": [8, 18, 31, 43, 62, 97, 183, 610, 1674, 3219]}, {\"hoverinfo\": \"x+y+name\", \"line\": {\"color\": \"#8e44ad\", \"width\": 1.5}, \"mode\": \"lines\", \"name\": \"UI/UX\", \"stackgroup\": \"\", \"x\": [2010, 2011, 2012, 2013, 2014, 2015, 2016, 2017, 2018, 2019], \"y\": [7, 24, 52, 102, 175, 266, 419, 873, 1755, 3072]}, {\"hoverinfo\": \"x+y+name\", \"line\": {\"color\": \"#16a085\", \"width\": 1.5}, \"mode\": \"lines\", \"name\": \"Agile\", \"stackgroup\": \"\", \"x\": [2010, 2011, 2012, 2013, 2014, 2015, 2016, 2017, 2018, 2019], \"y\": [4, 23, 43, 82, 126, 181, 283, 688, 1638, 2952]}, {\"hoverinfo\": \"x+y+name\", \"line\": {\"color\": \"#27ae60\", \"width\": 1.5}, \"mode\": \"lines\", \"name\": \"Web\", \"stackgroup\": \"\", \"x\": [2010, 2011, 2012, 2013, 2014, 2015, 2016, 2017, 2018, 2019], \"y\": [25, 100, 190, 303, 420, 525, 679, 1031, 1749, 2669]}, {\"hoverinfo\": \"x+y+name\", \"line\": {\"color\": \"#d35400\", \"width\": 1.5}, \"mode\": \"lines\", \"name\": \"DevOps\", \"stackgroup\": \"\", \"x\": [2010, 2011, 2012, 2013, 2014, 2015, 2016, 2017, 2018, 2019], \"y\": [2, 3, 7, 20, 36, 76, 174, 523, 1282, 2432]}, {\"hoverinfo\": \"x+y+name\", \"line\": {\"color\": \"#48c9b0\", \"width\": 1.5}, \"mode\": \"lines\", \"name\": \"Software Development\", \"stackgroup\": \"\", \"x\": [2010, 2011, 2012, 2013, 2014, 2015, 2016, 2017, 2018, 2019], \"y\": [2, 10, 24, 47, 77, 114, 178, 412, 1117, 2207]}, {\"hoverinfo\": \"x+y+name\", \"line\": {\"color\": \"#5499c7\", \"width\": 1.5}, \"mode\": \"lines\", \"name\": \"Women in Tech\", \"stackgroup\": \"\", \"x\": [2010, 2011, 2012, 2013, 2014, 2015, 2016, 2017, 2018, 2019], \"y\": [1, 12, 20, 32, 54, 80, 178, 478, 1163, 2200]}, {\"hoverinfo\": \"x+y+name\", \"line\": {\"color\": \"#ec7063\", \"width\": 1.5}, \"mode\": \"lines\", \"name\": \"Product\", \"stackgroup\": \"\", \"x\": [2010, 2011, 2012, 2013, 2014, 2015, 2016, 2017, 2018, 2019], \"y\": [14, 45, 88, 138, 186, 258, 355, 619, 1254, 2168]}, {\"hoverinfo\": \"x+y+name\", \"line\": {\"color\": \"#cd6155\", \"width\": 1.5}, \"mode\": \"lines\", \"name\": \"Industrial Engineering\", \"stackgroup\": \"\", \"x\": [2010, 2011, 2012, 2013, 2014, 2015, 2016, 2017, 2018, 2019], \"y\": [1, 8, 12, 20, 30, 40, 59, 94, 174, 1118]}], \"layout\": {\"height\": 600, \"legend\": {\"bgcolor\": \"rgba(0,0,0,0)\", \"x\": 1, \"y\": 0.4}, \"plot_bgcolor\": \"rgba(255,255,255,1)\", \"title\": {\"text\": \"Total Conferences Over Time (Annually)\", \"x\": 0.5, \"xanchor\": \"center\"}, \"xaxis\": {\"gridcolor\": \"rgba(0,0,0,.1)\"}, \"yaxis\": {\"autorange\": false, \"gridcolor\": \"rgba(0,0,0,.1)\", \"gridwidth\": 2, \"range\": [-0.1, 3.9536742250783092], \"ticklen\": 5, \"title\": {\"text\": \"Conference Events\"}, \"type\": \"log\"}}}], \"label\": \"log\", \"method\": \"animate\"}, {\"args\": [{\"data\": [{\"hoverinfo\": \"x+y+name\", \"line\": {\"color\": \"#5499c7\", \"width\": 1.5}, \"mode\": \"lines\", \"name\": \"IoT\", \"stackgroup\": \"one\", \"x\": [2010, 2011, 2012, 2013, 2014, 2015, 2016, 2017, 2018, 2019], \"y\": [11, 21, 37, 62, 118, 222, 438, 1160, 2801, 5549]}, {\"hoverinfo\": \"x+y+name\", \"line\": {\"color\": \"#ec7063\", \"width\": 1.5}, \"mode\": \"lines\", \"name\": \"Security\", \"stackgroup\": \"one\", \"x\": [2010, 2011, 2012, 2013, 2014, 2015, 2016, 2017, 2018, 2019], \"y\": [0, 0, 0, 0, 0, 9, 63, 525, 3065, 4941]}, {\"hoverinfo\": \"x+y+name\", \"line\": {\"color\": \"#cd6155\", \"width\": 1.5}, \"mode\": \"lines\", \"name\": \"Blockchain\", \"stackgroup\": \"one\", \"x\": [2010, 2011, 2012, 2013, 2014, 2015, 2016, 2017, 2018, 2019], \"y\": [1, 8, 25, 90, 224, 364, 623, 1267, 2607, 4783]}, {\"hoverinfo\": \"x+y+name\", \"line\": {\"color\": \"#82FFAB\", \"width\": 1.5}, \"mode\": \"lines\", \"name\": \"AI/ML\", \"stackgroup\": \"one\", \"x\": [2010, 2011, 2012, 2013, 2014, 2015, 2016, 2017, 2018, 2019], \"y\": [0, 6, 7, 14, 19, 33, 91, 452, 1878, 4340]}, {\"hoverinfo\": \"x+y+name\", \"line\": {\"color\": \"#FFC300\", \"width\": 1.5}, \"mode\": \"lines\", \"name\": \"JavaScript\", \"stackgroup\": \"one\", \"x\": [2010, 2011, 2012, 2013, 2014, 2015, 2016, 2017, 2018, 2019], \"y\": [12, 35, 92, 148, 214, 324, 484, 1048, 2295, 3866]}, {\"hoverinfo\": \"x+y+name\", \"line\": {\"color\": \"#f39c12\", \"width\": 1.5}, \"mode\": \"lines\", \"name\": \"Cloud\", \"stackgroup\": \"one\", \"x\": [2010, 2011, 2012, 2013, 2014, 2015, 2016, 2017, 2018, 2019], \"y\": [2, 15, 48, 84, 121, 163, 264, 645, 1640, 3286]}, {\"hoverinfo\": \"x+y+name\", \"line\": {\"color\": \"#e74c3c\", \"width\": 1.5}, \"mode\": \"lines\", \"name\": \"Data Science\", \"stackgroup\": \"one\", \"x\": [2010, 2011, 2012, 2013, 2014, 2015, 2016, 2017, 2018, 2019], \"y\": [8, 18, 31, 43, 62, 97, 183, 610, 1674, 3219]}, {\"hoverinfo\": \"x+y+name\", \"line\": {\"color\": \"#8e44ad\", \"width\": 1.5}, \"mode\": \"lines\", \"name\": \"UI/UX\", \"stackgroup\": \"one\", \"x\": [2010, 2011, 2012, 2013, 2014, 2015, 2016, 2017, 2018, 2019], \"y\": [7, 24, 52, 102, 175, 266, 419, 873, 1755, 3072]}, {\"hoverinfo\": \"x+y+name\", \"line\": {\"color\": \"#16a085\", \"width\": 1.5}, \"mode\": \"lines\", \"name\": \"Agile\", \"stackgroup\": \"one\", \"x\": [2010, 2011, 2012, 2013, 2014, 2015, 2016, 2017, 2018, 2019], \"y\": [4, 23, 43, 82, 126, 181, 283, 688, 1638, 2952]}, {\"hoverinfo\": \"x+y+name\", \"line\": {\"color\": \"#27ae60\", \"width\": 1.5}, \"mode\": \"lines\", \"name\": \"Web\", \"stackgroup\": \"one\", \"x\": [2010, 2011, 2012, 2013, 2014, 2015, 2016, 2017, 2018, 2019], \"y\": [25, 100, 190, 303, 420, 525, 679, 1031, 1749, 2669]}, {\"hoverinfo\": \"x+y+name\", \"line\": {\"color\": \"#d35400\", \"width\": 1.5}, \"mode\": \"lines\", \"name\": \"DevOps\", \"stackgroup\": \"one\", \"x\": [2010, 2011, 2012, 2013, 2014, 2015, 2016, 2017, 2018, 2019], \"y\": [2, 3, 7, 20, 36, 76, 174, 523, 1282, 2432]}, {\"hoverinfo\": \"x+y+name\", \"line\": {\"color\": \"#48c9b0\", \"width\": 1.5}, \"mode\": \"lines\", \"name\": \"Software Development\", \"stackgroup\": \"one\", \"x\": [2010, 2011, 2012, 2013, 2014, 2015, 2016, 2017, 2018, 2019], \"y\": [2, 10, 24, 47, 77, 114, 178, 412, 1117, 2207]}, {\"hoverinfo\": \"x+y+name\", \"line\": {\"color\": \"#5499c7\", \"width\": 1.5}, \"mode\": \"lines\", \"name\": \"Women in Tech\", \"stackgroup\": \"one\", \"x\": [2010, 2011, 2012, 2013, 2014, 2015, 2016, 2017, 2018, 2019], \"y\": [1, 12, 20, 32, 54, 80, 178, 478, 1163, 2200]}, {\"hoverinfo\": \"x+y+name\", \"line\": {\"color\": \"#ec7063\", \"width\": 1.5}, \"mode\": \"lines\", \"name\": \"Product\", \"stackgroup\": \"one\", \"x\": [2010, 2011, 2012, 2013, 2014, 2015, 2016, 2017, 2018, 2019], \"y\": [14, 45, 88, 138, 186, 258, 355, 619, 1254, 2168]}, {\"hoverinfo\": \"x+y+name\", \"line\": {\"color\": \"#cd6155\", \"width\": 1.5}, \"mode\": \"lines\", \"name\": \"Industrial Engineering\", \"stackgroup\": \"one\", \"x\": [2010, 2011, 2012, 2013, 2014, 2015, 2016, 2017, 2018, 2019], \"y\": [1, 8, 12, 20, 30, 40, 59, 94, 174, 1118]}], \"layout\": {\"height\": 600, \"legend\": {\"bgcolor\": \"rgba(0,0,0,0)\", \"x\": 1, \"y\": 0.4}, \"plot_bgcolor\": \"rgba(255,255,255,1)\", \"title\": {\"text\": \"Total Conferences Over Time (Annually)\", \"x\": 0.5, \"xanchor\": \"center\"}, \"xaxis\": {\"gridcolor\": \"rgba(0,0,0,.1)\"}, \"yaxis\": {\"autorange\": false, \"gridcolor\": \"rgba(0,0,0,.1)\", \"gridwidth\": 2, \"range\": [-2562.105, 51242.1], \"ticklen\": 5, \"title\": {\"text\": \"Conference Events\"}, \"type\": \"linear\"}}}], \"label\": \"stack\", \"method\": \"animate\"}], \"direction\": \"right\", \"pad\": {\"r\": 10, \"t\": 10}, \"showactive\": true, \"type\": \"buttons\", \"x\": 0.25, \"y\": 1.115, \"yanchor\": \"top\"}], \"xaxis\": {\"gridcolor\": \"rgba(0,0,0,.1)\"}, \"yaxis\": {\"autorange\": false, \"gridcolor\": \"rgba(0,0,0,.1)\", \"gridwidth\": 2, \"range\": [-291.3225, 5826.45], \"ticklen\": 5, \"title\": {\"text\": \"Conference Events\"}, \"type\": \"linear\"}},\n",
       "                        {\"responsive\": true}\n",
       "                    ).then(function(){\n",
       "                            \n",
       "var gd = document.getElementById('7096e874-8fdc-4b40-8b0e-1504e7f63894');\n",
       "var x = new MutationObserver(function (mutations, observer) {{\n",
       "        var display = window.getComputedStyle(gd).display;\n",
       "        if (!display || display === 'none') {{\n",
       "            console.log([gd, 'removed!']);\n",
       "            Plotly.purge(gd);\n",
       "            observer.disconnect();\n",
       "        }}\n",
       "}});\n",
       "\n",
       "// Listen for the removal of the full notebook cells\n",
       "var notebookContainer = gd.closest('#notebook-container');\n",
       "if (notebookContainer) {{\n",
       "    x.observe(notebookContainer, {childList: true});\n",
       "}}\n",
       "\n",
       "// Listen for the clearing of the current output cell\n",
       "var outputEl = gd.closest('.output');\n",
       "if (outputEl) {{\n",
       "    x.observe(outputEl, {childList: true});\n",
       "}}\n",
       "\n",
       "                        })\n",
       "                };\n",
       "                });\n",
       "            </script>\n",
       "        </div>"
      ]
     },
     "metadata": {},
     "output_type": "display_data"
    }
   ],
   "source": [
    "# Set parameters for stackplot\n",
    "col = 'category'\n",
    "yearlist = list(range(2010,2020))\n",
    "n=15\n",
    "\n",
    "# Remove empty category values and expand events with multiple categories\n",
    "df2 = df_both[(df_both[col] != '') & (df_both[col] != 'nan')].copy()\n",
    "df2[col] = df2[col].str.split('|')\n",
    "df2 = df2.explode(col).copy()\n",
    "df2 = df2.dropna(subset=[col])\n",
    "df2 = df2[(df2[col] != '') & (df2[col] != 'nan')].copy()\n",
    "df2[col] = df2[col].apply(lambda x: str(x).split(' / ')[0])\n",
    "\n",
    "# Group by category to get top category list\n",
    "dfg = df2[[col, 'name']].groupby(col).count()\n",
    "dfg.columns = ['count']\n",
    "dfg = dfg.sort_values(by=['count'],ascending=False)\n",
    "catlist = dfg.head(n).index.to_list()\n",
    "        \n",
    "# Create year column from creation date\n",
    "df2['year'] = df2['startDate'].apply(lambda x: int(str(x)[0:4]))\n",
    "\n",
    "# Filter to previously identified top categories and years\n",
    "df2 = df2[df2[col].isin(catlist)]\n",
    "df2 = df2[df2['year'].isin(yearlist)]\n",
    "\n",
    "# Add up total events for preceding years for each year and add zero value rows for blank year/category pairs\n",
    "dfg = pd.DataFrame(columns=['year', 'category', 'count'])\n",
    "for year in yearlist:\n",
    "    for category in catlist:\n",
    "        dfp2 = df2[(df2['year'] <= year) & (df2['category'] == category)]\n",
    "        dfp2 = dfp2[[col,'name']].groupby([col]).count()\n",
    "        dfp2.columns = ['count']\n",
    "        dfp2['year'] = year\n",
    "        dfp2 = dfp2.reset_index()\n",
    "        dfp2 = dfp2[['year', 'category', 'count']]\n",
    "        if len(dfp2) == 0:\n",
    "            dfp2 = pd.DataFrame([[year, category, 0]], columns=['year', 'category', 'count'])\n",
    "        dfg = pd.concat([dfg, dfp2], ignore_index=True)\n",
    "dfg = dfg.astype({\"year\": int, \"count\": int})\n",
    "dfg = dfg.sort_values(by=['year'],ascending=True).reset_index().copy()\n",
    "\n",
    "# Create list of categories in table ordered by last year event count\n",
    "categories_ordered = dfg[dfg['year']==yearlist[-1]].sort_values(by=['count'],ascending=False)[col].tolist()\n",
    "\n",
    "# Create tuple of event count arrays for each category to pass to stack plot function\n",
    "plotlist = (dfg[dfg[col]==categories_ordered[0]]['year'].values,)\n",
    "for category in categories_ordered:\n",
    "    plotlist = plotlist + (dfg[dfg[col]==category]['count'].values,)\n",
    "\n",
    "# Create stack plot of annual total recipes by category in dataset over time\n",
    "lines_and_stacks(plotlist, catlist, title='Total Conferences Over Time (Annually)', div=False)"
   ]
  },
  {
   "cell_type": "code",
   "execution_count": 4,
   "metadata": {},
   "outputs": [
    {
     "name": "stdout",
     "output_type": "stream",
     "text": [
      "Creating chart...\n",
      "Storing results in Cosmos DB...\n",
      "Data stored...\n"
     ]
    }
   ],
   "source": [
    "# Remove empty category values and expand events with multiple categories\n",
    "df2 = df_both[(df_both[col] != '') & (df_both[col] != 'nan')].copy()\n",
    "df2[col] = df2[col].str.split('|')\n",
    "df2 = df2.explode(col).copy()\n",
    "df2 = df2.dropna(subset=[col])\n",
    "df2 = df2[(df2[col] != '') & (df2[col] != 'nan')].copy()\n",
    "df2[col] = df2[col].apply(lambda x: str(x).split(' / ')[0])\n",
    "\n",
    "# Create year column from creation date\n",
    "df2['year'] = df2['startDate'].apply(lambda x: int(str(x)[0:4]))\n",
    "\n",
    "# Filter to previously identified top categories and years\n",
    "df2 = df2[df2[col].isin(catlist)].copy()\n",
    "df2 = df2[df2.astype({\"year\": int})['year'].isin(yearlist)].copy()\n",
    "\n",
    "# Group and count by category and year\n",
    "dfg = df2[['year', col, 'name']].groupby(['year', col]).count()\n",
    "dfg.columns = ['count']\n",
    "dfg = dfg.sort_values(by=['year'],ascending=True).reset_index().copy()\n",
    "dfg = dfg.astype({\"year\": int, \"count\": int})\n",
    "\n",
    "# Add zero value rows for blank year/category pairs\n",
    "for year in yearlist:\n",
    "    for category in catlist:\n",
    "        dfp2 = pd.DataFrame([[year, category, 0]], columns=['year', 'category', 'count'])\n",
    "        dfg = pd.concat([dfg, dfp2], ignore_index=True)\n",
    "dfg = dfg.drop_duplicates(subset=['year', 'category'], keep='first')\n",
    "dfg = dfg.sort_values(by=['year'], ascending=True).reset_index(drop=True).copy()\n",
    "\n",
    "# Create list of categories in table ordered by last year event count\n",
    "categories_ordered = dfg[dfg['year']==yearlist[-1]].sort_values(by=['count'],ascending=False)[col].tolist()\n",
    "\n",
    "# Create tuple of event count arrays for each category to pass to stack plot function\n",
    "plotlist = (dfg[dfg[col]==categories_ordered[0]]['year'].values,)\n",
    "for category in categories_ordered:\n",
    "    plotlist = plotlist + (dfg[dfg[col] == category]['count'].values,)\n",
    "\n",
    "# Create stack plot of annual new events by category in dataset over time\n",
    "div = lines_and_stacks(plotlist, categories_ordered, title='New Conferences Over Time (Annually)', div=True)\n",
    "\n",
    "# Create results dictionary\n",
    "savedplots = {}\n",
    "savedplots['dtg'] = datetime.now().strftime(\"%Y-%m-%d %H:%M:%S\")\n",
    "savedplots['chartname'] = 'timeline'\n",
    "\n",
    "# Create stack plot of daily total entries by scriptname in dataset over time\n",
    "print('Creating chart...')\n",
    "try:\n",
    "    savedplots['plotly_html'] = div\n",
    "except Exception:\n",
    "    savedplots['plotly_html'] = ''\n",
    "try:\n",
    "    savedplots['table_json'] = json.dumps(dfg.to_dict('records'))\n",
    "except Exception:\n",
    "    savedplots['table_json'] = ''\n",
    "\n",
    "# Create Cosmos DB client\n",
    "client = cosmos_client.CosmosClient(url_connection=os.environ['AZURE_COSMOS_ENDPOINT'].replace('-', '='), auth={\n",
    "                                    'masterKey': os.environ['AZURE_COSMOS_MASTER_KEY'].replace('-', '=')})\n",
    "\n",
    "# Push plot data dictionary to Cosmos DB\n",
    "if savedplots['plotly_html'] != '' and savedplots['table_json'] != '':\n",
    "    print('Storing results in Cosmos DB...')\n",
    "    try:\n",
    "        item1 = client.CreateItem(\n",
    "            os.environ['AZURE_COSMOS_CONTAINER_PATH'].replace('-', '='), savedplots)\n",
    "    except Exception:\n",
    "        time.sleep(20)\n",
    "        item1 = client.CreateItem(\n",
    "            os.environ['AZURE_COSMOS_CONTAINER_PATH'].replace('-', '='), savedplots)\n",
    "    print('Data stored...')\n",
    "else:\n",
    "    print('Something went wrong... No data stored...')"
   ]
  },
  {
   "cell_type": "code",
   "execution_count": 28,
   "metadata": {},
   "outputs": [
    {
     "name": "stdout",
     "output_type": "stream",
     "text": [
      "Storing results in Cosmos DB...\n",
      "Data stored...\n"
     ]
    }
   ],
   "source": [
    "# Create classification examples dictionary\n",
    "savedplots = create_classifier_examples(df_both, catlist)\n",
    "savedplots['dtg'] = datetime.now().strftime(\"%Y-%m-%d %H:%M:%S\")\n",
    "savedplots['chartname'] = 'classifier_examples'\n",
    "\n",
    "# Create Cosmos DB client\n",
    "client = cosmos_client.CosmosClient(url_connection=os.environ['AZURE_COSMOS_ENDPOINT'].replace('-', '='), auth={\n",
    "                                    'masterKey': os.environ['AZURE_COSMOS_MASTER_KEY'].replace('-', '=')})\n",
    "\n",
    "# Push plot data dictionary to Cosmos DB\n",
    "if savedplots['dtg'] != '':\n",
    "    print('Storing results in Cosmos DB...')\n",
    "    try:\n",
    "        item1 = client.CreateItem(\n",
    "            os.environ['AZURE_COSMOS_CONTAINER_PATH'].replace('-', '='), savedplots)\n",
    "    except Exception:\n",
    "        time.sleep(20)\n",
    "        item1 = client.CreateItem(\n",
    "            os.environ['AZURE_COSMOS_CONTAINER_PATH'].replace('-', '='), savedplots)\n",
    "    print('Data stored...')\n",
    "else:\n",
    "    print('Something went wrong... No data stored...')"
   ]
  },
  {
   "cell_type": "code",
   "execution_count": 64,
   "metadata": {},
   "outputs": [
    {
     "data": {
      "text/html": [
       "<div>\n",
       "<style scoped>\n",
       "    .dataframe tbody tr th:only-of-type {\n",
       "        vertical-align: middle;\n",
       "    }\n",
       "\n",
       "    .dataframe tbody tr th {\n",
       "        vertical-align: top;\n",
       "    }\n",
       "\n",
       "    .dataframe thead th {\n",
       "        text-align: right;\n",
       "    }\n",
       "</style>\n",
       "<table border=\"1\" class=\"dataframe\">\n",
       "  <thead>\n",
       "    <tr style=\"text-align: right;\">\n",
       "      <th></th>\n",
       "      <th>locality</th>\n",
       "      <th>month</th>\n",
       "      <th>records</th>\n",
       "      <th>total</th>\n",
       "      <th>country</th>\n",
       "      <th>latitude</th>\n",
       "      <th>longitude</th>\n",
       "    </tr>\n",
       "  </thead>\n",
       "  <tbody>\n",
       "    <tr>\n",
       "      <td>55</td>\n",
       "      <td>London, GB</td>\n",
       "      <td>All</td>\n",
       "      <td>7892</td>\n",
       "      <td>7892</td>\n",
       "      <td>GB</td>\n",
       "      <td>51.5135</td>\n",
       "      <td>-0.113875</td>\n",
       "    </tr>\n",
       "    <tr>\n",
       "      <td>79</td>\n",
       "      <td>New York, US</td>\n",
       "      <td>All</td>\n",
       "      <td>5655</td>\n",
       "      <td>5655</td>\n",
       "      <td>US</td>\n",
       "      <td>40.7345</td>\n",
       "      <td>-73.9914</td>\n",
       "    </tr>\n",
       "    <tr>\n",
       "      <td>109</td>\n",
       "      <td>San Francisco, US</td>\n",
       "      <td>All</td>\n",
       "      <td>4176</td>\n",
       "      <td>4176</td>\n",
       "      <td>US</td>\n",
       "      <td>37.7794</td>\n",
       "      <td>-122.399</td>\n",
       "    </tr>\n",
       "    <tr>\n",
       "      <td>150</td>\n",
       "      <td>Berlin, DE</td>\n",
       "      <td>All</td>\n",
       "      <td>2880</td>\n",
       "      <td>2880</td>\n",
       "      <td>DE</td>\n",
       "      <td>52.5123</td>\n",
       "      <td>13.4029</td>\n",
       "    </tr>\n",
       "    <tr>\n",
       "      <td>175</td>\n",
       "      <td>Paris, FR</td>\n",
       "      <td>All</td>\n",
       "      <td>2410</td>\n",
       "      <td>2410</td>\n",
       "      <td>FR</td>\n",
       "      <td>48.8632</td>\n",
       "      <td>2.34344</td>\n",
       "    </tr>\n",
       "  </tbody>\n",
       "</table>\n",
       "</div>"
      ],
      "text/plain": [
       "              locality month  records  total country latitude longitude\n",
       "55          London, GB   All     7892   7892      GB  51.5135 -0.113875\n",
       "79        New York, US   All     5655   5655      US  40.7345  -73.9914\n",
       "109  San Francisco, US   All     4176   4176      US  37.7794  -122.399\n",
       "150         Berlin, DE   All     2880   2880      DE  52.5123   13.4029\n",
       "175          Paris, FR   All     2410   2410      FR  48.8632   2.34344"
      ]
     },
     "execution_count": 64,
     "metadata": {},
     "output_type": "execute_result"
    }
   ],
   "source": [
    "def summarize_cities(df, n=100, start='2010-04', end='2020-04'):\n",
    "    '''Function to summarize tables based on cities and months'''\n",
    "    df2 = df[(df['locality'] != '') & (df['country'] != '')][['name', 'locality', 'country', 'latitude', 'longitude', 'startDate']].copy()\n",
    "    df2['month'] = df2.startDate.apply(lambda x: x[:7])\n",
    "    df2['locality'] = df2.locality.apply(lambda x: str(x).split('City of ')[-1])\n",
    "    df2 = df2.drop_duplicates(subset=['name', 'locality', 'country', 'startDate'], keep='first')[['name', 'locality', 'country', 'latitude', 'longitude', 'month']].copy()\n",
    "    df2['locality'] = df2['locality'] + ', ' + df2['country']\n",
    "    dfg = df2[['name', 'locality']].groupby(['locality']).count()\n",
    "    dfg.columns = ['records']\n",
    "    dfg = dfg.sort_values(by=['records'],ascending=False)\n",
    "    dfg = dfg.head(n)\n",
    "    citylist = dfg.index.tolist()\n",
    "    df2 = df2[df2['locality'].isin(citylist)].copy()\n",
    "    df2 = df2[(df2['month'] >= start) & (df2['month'] <= end)].copy()\n",
    "    dfg = df2.groupby(['locality', 'country', 'month']).agg(\n",
    "            {'name': \"count\"}\n",
    "        )\n",
    "    dfg = dfg.reset_index().copy()\n",
    "    dfg.columns = ['locality', 'country', 'month', 'records']\n",
    "    dfg2 = df2.groupby(['locality', 'country']).agg(\n",
    "            {\n",
    "                'latitude': [\"mean\"],\n",
    "                'longitude': [\"mean\"]\n",
    "            }\n",
    "        )\n",
    "    dfg2 = dfg2.reset_index().copy()\n",
    "    dfg2.columns = ['locality', 'country', 'latitude', 'longitude']\n",
    "    dfg = pd.merge(dfg, dfg2, on=['locality', 'country'], how='left').copy()\n",
    "    return dfg\n",
    "\n",
    "\n",
    "def get_all_month_total_counts(df):\n",
    "    '''Function to fill in empty month counts'''\n",
    "    # Find aggregated counts for each month from all resource categories\n",
    "    df = df[['locality','month', 'records']].copy()\n",
    "    dfg = df[['locality','month', 'records']].groupby(['month']).agg({'records': ['sum']}).reset_index()\n",
    "    dfg.columns = ['month','records']\n",
    "    dfg['locality'] = 'All'\n",
    "    dfg = dfg[['month','locality','records']]\n",
    "    df = pd.concat([df, dfg], ignore_index=True)\n",
    "    # Aggregate running totals for each category\n",
    "    month_list = list(set(df['month'].tolist()))\n",
    "    types_list = df[['locality']].drop_duplicates().to_dict('records')\n",
    "    df2 = pd.DataFrame(columns=['month', 'locality', 'records', 'total'])\n",
    "    for types in types_list:\n",
    "        for month in month_list:\n",
    "            total = df[(df['month'] <= month) & \n",
    "                      (df['locality'] == types['locality'])]['records'].sum()\n",
    "            dfp2 = df[(df['month'] == month) & \n",
    "                      (df['locality'] == types['locality'])].copy()\n",
    "            if len(dfp2) == 0:\n",
    "                dfp2 = pd.DataFrame([[month, types['locality'], 0]], \n",
    "                                    columns=['month', 'locality', 'records'])\n",
    "            dfp2['total'] = total\n",
    "            # Concatenated back to working Dataframe\n",
    "            df2 = pd.concat([df2, dfp2], ignore_index=True)\n",
    "    df2 = df2.astype({\"records\": int,\"total\": int})\n",
    "    # Find aggregated counts for all months from each categories\n",
    "    dfg = df2.groupby(['locality']).agg({'records': ['sum'],\n",
    "                                            'total': ['max']}).reset_index()\n",
    "    dfg.columns = ['locality','records','total']\n",
    "    dfg['month'] = 'All'\n",
    "    dfg = dfg[['month','locality','records','total']]\n",
    "    # Concatenated back to working Dataframe\n",
    "    df2 = pd.concat([df2, dfg], ignore_index=True)\n",
    "    df2 = df2.sort_values(by='total', ascending=False)\n",
    "    return df2\n",
    "\n",
    "\n",
    "dfg = summarize_cities(df_both)\n",
    "df3 = get_all_month_total_counts(dfg)\n",
    "df4 = dfg[['locality', 'country', 'latitude', 'longitude']].drop_duplicates()\n",
    "dfg2 = pd.merge(df3, df4, on=['locality'], how='left').fillna('').copy()\n",
    "dfg2 = dfg2[dfg2['country'] != ''].copy()\n",
    "dfg2 = dfg2.sort_values(['records'], ascending=False).copy()\n",
    "dfg2.to_json('localities.json',orient='records')\n",
    "dfg2.head()"
   ]
  },
  {
   "cell_type": "code",
   "execution_count": 73,
   "metadata": {},
   "outputs": [
    {
     "name": "stdout",
     "output_type": "stream",
     "text": [
      "Creating chart...\n",
      "Storing results in Cosmos DB...\n",
      "Data stored...\n"
     ]
    }
   ],
   "source": [
    "# Plot starburst diagram of event locations\n",
    "df_both['locality'] = df_both.locality.apply(lambda x: str(x).split('City of ')[-1])\n",
    "cols = ['country_name', 'region', 'locality']\n",
    "n = 50\n",
    "div = custom_sunburst(df_both, cols, n, div=True)\n",
    "\n",
    "# Create results dictionary\n",
    "savedplots = {}\n",
    "savedplots['dtg'] = datetime.now().strftime(\"%Y-%m-%d %H:%M:%S\")\n",
    "savedplots['chartname'] = 'starburst'\n",
    "\n",
    "# Create stack plot of daily total entries by scriptname in dataset over time\n",
    "print('Creating chart...')\n",
    "try:\n",
    "    savedplots['plotly_html'] = div\n",
    "except Exception:\n",
    "    savedplots['plotly_html'] = ''\n",
    "\n",
    "# Create Cosmos DB client\n",
    "client = cosmos_client.CosmosClient(url_connection=os.environ['AZURE_COSMOS_ENDPOINT'].replace('-', '='), auth={\n",
    "                                    'masterKey': os.environ['AZURE_COSMOS_MASTER_KEY'].replace('-', '=')})\n",
    "\n",
    "# Push plot data dictionary to Cosmos DB\n",
    "if savedplots['plotly_html'] != '':\n",
    "    print('Storing results in Cosmos DB...')\n",
    "    try:\n",
    "        item1 = client.CreateItem(\n",
    "            os.environ['AZURE_COSMOS_CONTAINER_PATH'].replace('-', '='), savedplots)\n",
    "    except Exception:\n",
    "        time.sleep(20)\n",
    "        item1 = client.CreateItem(\n",
    "            os.environ['AZURE_COSMOS_CONTAINER_PATH'].replace('-', '='), savedplots)\n",
    "    print('Data stored...')\n",
    "else:\n",
    "    print('Something went wrong... No data stored...')"
   ]
  },
  {
   "cell_type": "code",
   "execution_count": 82,
   "metadata": {},
   "outputs": [
    {
     "name": "stdout",
     "output_type": "stream",
     "text": [
      "Creating chart...\n",
      "Storing results in Cosmos DB...\n",
      "Data stored...\n"
     ]
    }
   ],
   "source": [
    "# Generate pie chart visualizations for different categories\n",
    "div = piecols(df_both, ['category', 'organizer', 'venuename', 'site', 'days'], 10, div=True)\n",
    "\n",
    "# Create results dictionary\n",
    "savedplots = {}\n",
    "savedplots['dtg'] = datetime.now().strftime(\"%Y-%m-%d %H:%M:%S\")\n",
    "savedplots['chartname'] = 'donuts'\n",
    "\n",
    "# Create stack plot of daily total entries by scriptname in dataset over time\n",
    "print('Creating chart...')\n",
    "try:\n",
    "    savedplots['plotly_html'] = div\n",
    "except Exception:\n",
    "    savedplots['plotly_html'] = ''\n",
    "\n",
    "# Create Cosmos DB client\n",
    "client = cosmos_client.CosmosClient(url_connection=os.environ['AZURE_COSMOS_ENDPOINT'].replace('-', '='), auth={\n",
    "                                    'masterKey': os.environ['AZURE_COSMOS_MASTER_KEY'].replace('-', '=')})\n",
    "\n",
    "# Push plot data dictionary to Cosmos DB\n",
    "if savedplots['plotly_html'] != '':\n",
    "    print('Storing results in Cosmos DB...')\n",
    "    try:\n",
    "        item1 = client.CreateItem(\n",
    "            os.environ['AZURE_COSMOS_CONTAINER_PATH'].replace('-', '='), savedplots)\n",
    "    except Exception:\n",
    "        time.sleep(20)\n",
    "        item1 = client.CreateItem(\n",
    "            os.environ['AZURE_COSMOS_CONTAINER_PATH'].replace('-', '='), savedplots)\n",
    "    print('Data stored...')\n",
    "else:\n",
    "    print('Something went wrong... No data stored...')"
   ]
  },
  {
   "cell_type": "code",
   "execution_count": null,
   "metadata": {},
   "outputs": [],
   "source": []
  }
 ],
 "metadata": {
  "kernelspec": {
   "display_name": "Python 3.7.4 64-bit ('base': conda)",
   "language": "python",
   "name": "python37464bitbasecondac34e84b1f7f04893939f0576c02c8c67"
  },
  "language_info": {
   "codemirror_mode": {
    "name": "ipython",
    "version": 3
   },
   "file_extension": ".py",
   "mimetype": "text/x-python",
   "name": "python",
   "nbconvert_exporter": "python",
   "pygments_lexer": "ipython3",
   "version": "3.7.4"
  },
  "toc": {
   "base_numbering": 1,
   "nav_menu": {},
   "number_sections": true,
   "sideBar": true,
   "skip_h1_title": false,
   "title_cell": "Table of Contents",
   "title_sidebar": "Contents",
   "toc_cell": false,
   "toc_position": {},
   "toc_section_display": true,
   "toc_window_display": false
  }
 },
 "nbformat": 4,
 "nbformat_minor": 2
}
